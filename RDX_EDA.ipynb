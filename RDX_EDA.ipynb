{
 "cells": [
  {
   "cell_type": "markdown",
   "metadata": {},
   "source": [
    "# EDA"
   ]
  },
  {
   "cell_type": "code",
   "execution_count": 99,
   "metadata": {},
   "outputs": [],
   "source": [
    "#Imports\n",
    "import matplotlib.pyplot as plt\n",
    "import pandas as pd\n",
    "import numpy as np\n",
    "from numpy import linalg as LA\n",
    "from sklearn.preprocessing import label_binarize\n",
    "from sklearn.model_selection import train_test_split\n",
    "from sklearn.utils import shuffle\n",
    "from sklearn.feature_extraction.text import CountVectorizer\n",
    "from sklearn.feature_extraction.text import TfidfVectorizer\n",
    "from sklearn.model_selection import GridSearchCV\n",
    "from sklearn import metrics\n",
    "from sklearn.metrics import roc_curve\n",
    "from sklearn.metrics import roc_auc_score\n",
    "from sklearn.neighbors import KNeighborsClassifier\n",
    "from sklearn.neighbors import DistanceMetric\n",
    "from sklearn.metrics.pairwise import euclidean_distances\n",
    "from sklearn.linear_model import LogisticRegression\n",
    "from sklearn.multioutput import MultiOutputClassifier\n",
    "#from skmultilearn.adapt import MLkNN\n",
    "#import multilabel_knn as mlk\n",
    "import re\n",
    "import string\n",
    "import nltk\n",
    "from tqdm import tqdm #to show progress bar"
   ]
  },
  {
   "cell_type": "code",
   "execution_count": 7,
   "metadata": {},
   "outputs": [],
   "source": [
    "#!pip install scikit-multilearn"
   ]
  },
  {
   "cell_type": "code",
   "execution_count": 8,
   "metadata": {},
   "outputs": [],
   "source": [
    "#!pip install multilabel_knn"
   ]
  },
  {
   "cell_type": "code",
   "execution_count": 9,
   "metadata": {},
   "outputs": [],
   "source": [
    "#!pip install --install-option=\"--prefix=$./anaconda3/lib/python3.8/site-packages\" multilabel_knn"
   ]
  },
  {
   "cell_type": "code",
   "execution_count": 10,
   "metadata": {
    "scrolled": true
   },
   "outputs": [
    {
     "name": "stdout",
     "output_type": "stream",
     "text": [
      "\u001b[34mApplications\u001b[m\u001b[m                  \u001b[34mPublic\u001b[m\u001b[m\r\n",
      "\u001b[34mDesktop\u001b[m\u001b[m                       RDX_EDA.ipynb\r\n",
      "\u001b[34mDocuments\u001b[m\u001b[m                     \u001b[34manaconda3\u001b[m\u001b[m\r\n",
      "\u001b[34mDownloads\u001b[m\u001b[m                     get-pip.py\r\n",
      "HW9.Rmd                       \u001b[34mgraph_evaluation\u001b[m\u001b[m\r\n",
      "HW9.html                      \u001b[34mminiconda3\u001b[m\u001b[m\r\n",
      "HW9.log                       myFirstAnacondaNotebook.ipynb\r\n",
      "HW9.tex                       \u001b[34mnltk_data\u001b[m\u001b[m\r\n",
      "\u001b[34mLibrary\u001b[m\u001b[m                       \u001b[34mnode_modules\u001b[m\u001b[m\r\n",
      "\u001b[34mMovies\u001b[m\u001b[m                        \u001b[34mopt\u001b[m\u001b[m\r\n",
      "\u001b[34mMusic\u001b[m\u001b[m                         package-lock.json\r\n",
      "\u001b[34mNewFolder\u001b[m\u001b[m                     package.json\r\n",
      "\u001b[34mNewFolder.1\u001b[m\u001b[m                   \u001b[34mteleparty-assessment\u001b[m\u001b[m\r\n",
      "\u001b[34mPictures\u001b[m\u001b[m                      \u001b[34mwekafiles\u001b[m\u001b[m\r\n"
     ]
    }
   ],
   "source": [
    "!ls"
   ]
  },
  {
   "cell_type": "code",
   "execution_count": 11,
   "metadata": {},
   "outputs": [],
   "source": [
    "df = pd.DataFrame(pd.read_excel(\"Desktop/CMU/Ind_Study/Responses.xlsx\"))"
   ]
  },
  {
   "cell_type": "code",
   "execution_count": 12,
   "metadata": {},
   "outputs": [
    {
     "data": {
      "text/html": [
       "<div>\n",
       "<style scoped>\n",
       "    .dataframe tbody tr th:only-of-type {\n",
       "        vertical-align: middle;\n",
       "    }\n",
       "\n",
       "    .dataframe tbody tr th {\n",
       "        vertical-align: top;\n",
       "    }\n",
       "\n",
       "    .dataframe thead th {\n",
       "        text-align: right;\n",
       "    }\n",
       "</style>\n",
       "<table border=\"1\" class=\"dataframe\">\n",
       "  <thead>\n",
       "    <tr style=\"text-align: right;\">\n",
       "      <th></th>\n",
       "      <th>Profile Bio / Statement of Entrepreneur Background (Experience)</th>\n",
       "      <th>What problems/issues are you currently facing in your entrepreneurship space (i.e., things that founders face such as challenges with investors, cofounders, business stressors, business model, strategic partners, company culture, anxiety, sales, financing, etc.)?</th>\n",
       "      <th>Bio Labels</th>\n",
       "      <th>Problem Labels</th>\n",
       "    </tr>\n",
       "  </thead>\n",
       "  <tbody>\n",
       "    <tr>\n",
       "      <th>0</th>\n",
       "      <td>While in college, I had the opportunity to wor...</td>\n",
       "      <td>One of the biggest early challenges that we fa...</td>\n",
       "      <td>College entrepreneurship, Minimum viable produ...</td>\n",
       "      <td>Startup transition, Young team, Small startup,...</td>\n",
       "    </tr>\n",
       "    <tr>\n",
       "      <th>1</th>\n",
       "      <td>My name is *****. I am a software engineer and...</td>\n",
       "      <td>I am currently experiencing the challenge of t...</td>\n",
       "      <td>Software, Technology</td>\n",
       "      <td>Young team, Lacks experience, Minimum viable p...</td>\n",
       "    </tr>\n",
       "    <tr>\n",
       "      <th>2</th>\n",
       "      <td>I have worked for several tech startups, most ...</td>\n",
       "      <td>I would say loneliness and mental health are k...</td>\n",
       "      <td>Software, Technology, Video game, Commercializ...</td>\n",
       "      <td>Lonely, Mental health, Lacks support</td>\n",
       "    </tr>\n",
       "    <tr>\n",
       "      <th>3</th>\n",
       "      <td>8 years of sales, entrepreneur at heart.\\nGrad...</td>\n",
       "      <td>I’m a visionary so I love all of the product d...</td>\n",
       "      <td>Sales, Marketing</td>\n",
       "      <td>Startup finance, Finding investors, Business law</td>\n",
       "    </tr>\n",
       "    <tr>\n",
       "      <th>4</th>\n",
       "      <td>Founded natural skincare company\\nAcquired sma...</td>\n",
       "      <td>Staffing issues\\nTech Disparity in multi gener...</td>\n",
       "      <td>Skincare, Coffee, Business, Consulting</td>\n",
       "      <td>Staffing issues, Workforce lacks knowledge, La...</td>\n",
       "    </tr>\n",
       "  </tbody>\n",
       "</table>\n",
       "</div>"
      ],
      "text/plain": [
       "  Profile Bio / Statement of Entrepreneur Background (Experience)  \\\n",
       "0  While in college, I had the opportunity to wor...                \n",
       "1  My name is *****. I am a software engineer and...                \n",
       "2  I have worked for several tech startups, most ...                \n",
       "3  8 years of sales, entrepreneur at heart.\\nGrad...                \n",
       "4  Founded natural skincare company\\nAcquired sma...                \n",
       "\n",
       "  What problems/issues are you currently facing in your entrepreneurship space (i.e., things that founders face such as challenges with investors, cofounders, business stressors, business model, strategic partners, company culture, anxiety, sales, financing, etc.)?  \\\n",
       "0  One of the biggest early challenges that we fa...                                                                                                                                                                                                                        \n",
       "1  I am currently experiencing the challenge of t...                                                                                                                                                                                                                        \n",
       "2  I would say loneliness and mental health are k...                                                                                                                                                                                                                        \n",
       "3  I’m a visionary so I love all of the product d...                                                                                                                                                                                                                        \n",
       "4  Staffing issues\\nTech Disparity in multi gener...                                                                                                                                                                                                                        \n",
       "\n",
       "                                          Bio Labels  \\\n",
       "0  College entrepreneurship, Minimum viable produ...   \n",
       "1                               Software, Technology   \n",
       "2  Software, Technology, Video game, Commercializ...   \n",
       "3                                  Sales, Marketing    \n",
       "4             Skincare, Coffee, Business, Consulting   \n",
       "\n",
       "                                      Problem Labels  \n",
       "0  Startup transition, Young team, Small startup,...  \n",
       "1  Young team, Lacks experience, Minimum viable p...  \n",
       "2               Lonely, Mental health, Lacks support  \n",
       "3   Startup finance, Finding investors, Business law  \n",
       "4  Staffing issues, Workforce lacks knowledge, La...  "
      ]
     },
     "execution_count": 12,
     "metadata": {},
     "output_type": "execute_result"
    }
   ],
   "source": [
    "df.head(5)"
   ]
  },
  {
   "cell_type": "code",
   "execution_count": 13,
   "metadata": {},
   "outputs": [],
   "source": [
    "bio_labels = df['Bio Labels'].to_numpy()\n",
    "#bio_labels\n",
    "new = np.array([], dtype=str)\n",
    "for i in range(len(bio_labels)):\n",
    "    new = np.append(new, bio_labels[i].split(', '))\n",
    "bio_labels = new\n",
    "bio_labels.shape\n",
    "\n",
    "bio_unique, bio_counts = np.unique(bio_labels, return_counts=True)"
   ]
  },
  {
   "cell_type": "code",
   "execution_count": 14,
   "metadata": {},
   "outputs": [
    {
     "data": {
      "image/png": "[encoded data removed]",
      "text/plain": [
       "<Figure size 432x288 with 1 Axes>"
      ]
     },
     "metadata": {
      "needs_background": "light"
     },
     "output_type": "display_data"
    }
   ],
   "source": [
    "plt.bar(bio_unique, bio_counts, color ='maroon',\n",
    "        width = 0.5)\n",
    " \n",
    "plt.xticks(rotation=90)\n",
    "plt.show()"
   ]
  },
  {
   "cell_type": "code",
   "execution_count": 15,
   "metadata": {},
   "outputs": [],
   "source": [
    "prob_labels = df['Problem Labels'].to_numpy()\n",
    "#bio_labels\n",
    "new = np.array([], dtype=str)\n",
    "for i in range(len(prob_labels)):\n",
    "    new = np.append(new, prob_labels[i].split(', '))\n",
    "prob_labels = new\n",
    "prob_labels.shape\n",
    "\n",
    "prob_unique, prob_counts = np.unique(prob_labels, return_counts=True)"
   ]
  },
  {
   "cell_type": "code",
   "execution_count": 16,
   "metadata": {},
   "outputs": [
    {
     "data": {
      "image/png": "[encoded data removed]",
      "text/plain": [
       "<Figure size 432x288 with 1 Axes>"
      ]
     },
     "metadata": {
      "needs_background": "light"
     },
     "output_type": "display_data"
    }
   ],
   "source": [
    "plt.bar(prob_unique, prob_counts, color ='maroon',\n",
    "        width = 0.5)\n",
    " \n",
    "plt.xticks(rotation=90)\n",
    "plt.show()"
   ]
  },
  {
   "cell_type": "code",
   "execution_count": 17,
   "metadata": {},
   "outputs": [],
   "source": [
    "#Plotting the distribution of label count for bios\n",
    "\n",
    "bio_labels = df['Bio Labels'].to_numpy()\n",
    "\n",
    "new = np.array([], dtype=str)\n",
    "for i in range(len(bio_labels)):\n",
    "    new = np.append(new, len(bio_labels[i].split(', ')))\n",
    "bio_labels = new\n",
    "bio_labels.shape\n",
    "\n",
    "bio_count_unique, bio_count_counts = np.unique(bio_labels, return_counts=True)"
   ]
  },
  {
   "cell_type": "code",
   "execution_count": 18,
   "metadata": {},
   "outputs": [
    {
     "data": {
      "image/png": "[encoded data removed]",
      "text/plain": [
       "<Figure size 432x288 with 1 Axes>"
      ]
     },
     "metadata": {
      "needs_background": "light"
     },
     "output_type": "display_data"
    }
   ],
   "source": [
    "plt.bar(bio_count_unique, bio_count_counts, color ='maroon',\n",
    "        width = 0.5)\n",
    "plt.show()"
   ]
  },
  {
   "cell_type": "code",
   "execution_count": 19,
   "metadata": {},
   "outputs": [],
   "source": [
    "#Plotting the distribution of label count for probs\n",
    "\n",
    "prob_labels = df['Problem Labels'].to_numpy()\n",
    "\n",
    "new = np.array([], dtype=str)\n",
    "for i in range(len(prob_labels)):\n",
    "    new = np.append(new, len(prob_labels[i].split(', ')))\n",
    "prob_labels = new\n",
    "prob_labels.shape\n",
    "\n",
    "prob_count_unique, prob_count_counts = np.unique(prob_labels, return_counts=True)"
   ]
  },
  {
   "cell_type": "code",
   "execution_count": 20,
   "metadata": {},
   "outputs": [
    {
     "data": {
      "image/png": "[encoded data removed]",
      "text/plain": [
       "<Figure size 432x288 with 1 Axes>"
      ]
     },
     "metadata": {
      "needs_background": "light"
     },
     "output_type": "display_data"
    }
   ],
   "source": [
    "plt.bar(prob_count_unique, prob_count_counts, color ='maroon',\n",
    "        width = 0.5)\n",
    "\n",
    "plt.show()"
   ]
  },
  {
   "cell_type": "code",
   "execution_count": 21,
   "metadata": {},
   "outputs": [
    {
     "data": {
      "text/plain": [
       "array(['Auto detailing', 'Business', 'Charity', 'Chief executive officer',\n",
       "       'Chief technology officer', 'Clothing', 'Coffee',\n",
       "       'College entrepreneurship', 'Commercialization', 'Consulting',\n",
       "       'Deep startup experience', 'Digital media', 'E-commerce',\n",
       "       'Education', 'Entertainment', 'Entrepreneur support organization',\n",
       "       'Faith', 'Finance', 'Generosity', 'Geospatial analysis',\n",
       "       'Healthcare', 'International business', 'Law', 'Marketing',\n",
       "       'Marketing ', 'Medical technology', 'Middle startup experience',\n",
       "       'Minimum viable product', 'No startup experience', 'Photography',\n",
       "       'Recruiting', 'Renewable energy', 'Sales', 'Sewing',\n",
       "       'Shallow startup experience', 'Skincare', 'Software', 'Technology',\n",
       "       'Video game', 'Videography'], dtype='<U33')"
      ]
     },
     "execution_count": 21,
     "metadata": {},
     "output_type": "execute_result"
    }
   ],
   "source": [
    "bio_unique"
   ]
  },
  {
   "cell_type": "code",
   "execution_count": 22,
   "metadata": {},
   "outputs": [],
   "source": [
    "#One-hot encoding the bio labels\n",
    "df['Bio Encoded Labels'] = df['Bio Labels'].apply(lambda x: np.sum(label_binarize(x.split(', '), classes=bio_unique), axis=0))\n",
    "\n"
   ]
  },
  {
   "cell_type": "code",
   "execution_count": 23,
   "metadata": {},
   "outputs": [],
   "source": [
    "#One-hot encoding the probs labels\n",
    "df['Problem Encoded Labels'] = df['Problem Labels'].apply(lambda x: np.sum(label_binarize(x.split(', '), classes=prob_unique), axis=0))"
   ]
  },
  {
   "cell_type": "code",
   "execution_count": 24,
   "metadata": {},
   "outputs": [
    {
     "data": {
      "text/html": [
       "<div>\n",
       "<style scoped>\n",
       "    .dataframe tbody tr th:only-of-type {\n",
       "        vertical-align: middle;\n",
       "    }\n",
       "\n",
       "    .dataframe tbody tr th {\n",
       "        vertical-align: top;\n",
       "    }\n",
       "\n",
       "    .dataframe thead th {\n",
       "        text-align: right;\n",
       "    }\n",
       "</style>\n",
       "<table border=\"1\" class=\"dataframe\">\n",
       "  <thead>\n",
       "    <tr style=\"text-align: right;\">\n",
       "      <th></th>\n",
       "      <th>Profile Bio / Statement of Entrepreneur Background (Experience)</th>\n",
       "      <th>What problems/issues are you currently facing in your entrepreneurship space (i.e., things that founders face such as challenges with investors, cofounders, business stressors, business model, strategic partners, company culture, anxiety, sales, financing, etc.)?</th>\n",
       "      <th>Bio Labels</th>\n",
       "      <th>Problem Labels</th>\n",
       "      <th>Bio Encoded Labels</th>\n",
       "      <th>Problem Encoded Labels</th>\n",
       "    </tr>\n",
       "  </thead>\n",
       "  <tbody>\n",
       "    <tr>\n",
       "      <th>0</th>\n",
       "      <td>While in college, I had the opportunity to wor...</td>\n",
       "      <td>One of the biggest early challenges that we fa...</td>\n",
       "      <td>College entrepreneurship, Minimum viable produ...</td>\n",
       "      <td>Startup transition, Young team, Small startup,...</td>\n",
       "      <td>[0, 0, 0, 0, 0, 0, 0, 1, 0, 0, 0, 0, 0, 0, 0, ...</td>\n",
       "      <td>[0, 0, 0, 0, 0, 0, 0, 0, 0, 0, 0, 0, 0, 0, 0, ...</td>\n",
       "    </tr>\n",
       "    <tr>\n",
       "      <th>1</th>\n",
       "      <td>My name is *****. I am a software engineer and...</td>\n",
       "      <td>I am currently experiencing the challenge of t...</td>\n",
       "      <td>Software, Technology</td>\n",
       "      <td>Young team, Lacks experience, Minimum viable p...</td>\n",
       "      <td>[0, 0, 0, 0, 0, 0, 0, 0, 0, 0, 0, 0, 0, 0, 0, ...</td>\n",
       "      <td>[0, 0, 0, 0, 0, 0, 0, 0, 0, 0, 0, 0, 0, 0, 0, ...</td>\n",
       "    </tr>\n",
       "    <tr>\n",
       "      <th>2</th>\n",
       "      <td>I have worked for several tech startups, most ...</td>\n",
       "      <td>I would say loneliness and mental health are k...</td>\n",
       "      <td>Software, Technology, Video game, Commercializ...</td>\n",
       "      <td>Lonely, Mental health, Lacks support</td>\n",
       "      <td>[0, 0, 0, 0, 0, 0, 0, 0, 1, 0, 0, 0, 0, 0, 0, ...</td>\n",
       "      <td>[0, 0, 0, 0, 0, 0, 0, 0, 0, 0, 0, 0, 0, 0, 0, ...</td>\n",
       "    </tr>\n",
       "    <tr>\n",
       "      <th>3</th>\n",
       "      <td>8 years of sales, entrepreneur at heart.\\nGrad...</td>\n",
       "      <td>I’m a visionary so I love all of the product d...</td>\n",
       "      <td>Sales, Marketing</td>\n",
       "      <td>Startup finance, Finding investors, Business law</td>\n",
       "      <td>[0, 0, 0, 0, 0, 0, 0, 0, 0, 0, 0, 0, 0, 0, 0, ...</td>\n",
       "      <td>[0, 0, 1, 0, 0, 0, 0, 0, 0, 0, 0, 1, 0, 0, 0, ...</td>\n",
       "    </tr>\n",
       "    <tr>\n",
       "      <th>4</th>\n",
       "      <td>Founded natural skincare company\\nAcquired sma...</td>\n",
       "      <td>Staffing issues\\nTech Disparity in multi gener...</td>\n",
       "      <td>Skincare, Coffee, Business, Consulting</td>\n",
       "      <td>Staffing issues, Workforce lacks knowledge, La...</td>\n",
       "      <td>[0, 1, 0, 0, 0, 0, 1, 0, 0, 1, 0, 0, 0, 0, 0, ...</td>\n",
       "      <td>[0, 0, 0, 0, 1, 0, 0, 0, 0, 0, 0, 0, 0, 0, 0, ...</td>\n",
       "    </tr>\n",
       "    <tr>\n",
       "      <th>5</th>\n",
       "      <td>I am a Founder building a platform that allows...</td>\n",
       "      <td>Well, I am currently looking at the University...</td>\n",
       "      <td>Entrepreneur support organization</td>\n",
       "      <td>Young team, Lacks education, Lacks resources, ...</td>\n",
       "      <td>[0, 0, 0, 0, 0, 0, 0, 0, 0, 0, 0, 0, 0, 0, 0, ...</td>\n",
       "      <td>[0, 0, 0, 0, 0, 0, 0, 0, 0, 0, 0, 0, 0, 0, 0, ...</td>\n",
       "    </tr>\n",
       "    <tr>\n",
       "      <th>6</th>\n",
       "      <td>32 years of Entrepreneurial experience.  I've ...</td>\n",
       "      <td>Doing business in a \"post pandemic\" world is s...</td>\n",
       "      <td>Deep startup experience, Law, Finance, Marketi...</td>\n",
       "      <td>Big startup, Investors, Virtual workforce, Eco...</td>\n",
       "      <td>[0, 0, 0, 0, 0, 0, 0, 0, 0, 0, 1, 0, 0, 0, 1, ...</td>\n",
       "      <td>[0, 1, 0, 0, 0, 0, 0, 0, 1, 0, 0, 0, 0, 0, 0, ...</td>\n",
       "    </tr>\n",
       "    <tr>\n",
       "      <th>7</th>\n",
       "      <td>Founder and CEO Mirku Software</td>\n",
       "      <td>Culture and Talent in that order</td>\n",
       "      <td>Middle startup experience, Software, Technolog...</td>\n",
       "      <td>Culture, Talent</td>\n",
       "      <td>[0, 0, 0, 1, 0, 0, 0, 0, 0, 0, 0, 0, 0, 0, 0, ...</td>\n",
       "      <td>[0, 0, 0, 0, 0, 0, 1, 0, 0, 0, 0, 0, 0, 0, 0, ...</td>\n",
       "    </tr>\n",
       "    <tr>\n",
       "      <th>8</th>\n",
       "      <td>Cofounded videography business with my wife</td>\n",
       "      <td>It’s not the type of business to go out and se...</td>\n",
       "      <td>Shallow startup experience, Videography, Digit...</td>\n",
       "      <td>Growth strategy, Lacks resources, Lacks experi...</td>\n",
       "      <td>[0, 0, 0, 0, 0, 0, 0, 0, 0, 0, 0, 1, 0, 0, 0, ...</td>\n",
       "      <td>[0, 0, 1, 0, 0, 0, 0, 0, 0, 0, 0, 0, 1, 0, 0, ...</td>\n",
       "    </tr>\n",
       "    <tr>\n",
       "      <th>9</th>\n",
       "      <td>Here is the Press Release announcing my new po...</td>\n",
       "      <td>We have been on the struggle bus when it comes...</td>\n",
       "      <td>Deep startup experience, Chief executive offic...</td>\n",
       "      <td>Startup finance, Lacks resources, New technolo...</td>\n",
       "      <td>[0, 0, 0, 1, 0, 0, 0, 0, 0, 0, 1, 0, 0, 0, 0, ...</td>\n",
       "      <td>[0, 0, 0, 0, 0, 0, 0, 0, 0, 0, 0, 0, 0, 0, 0, ...</td>\n",
       "    </tr>\n",
       "  </tbody>\n",
       "</table>\n",
       "</div>"
      ],
      "text/plain": [
       "  Profile Bio / Statement of Entrepreneur Background (Experience)  \\\n",
       "0  While in college, I had the opportunity to wor...                \n",
       "1  My name is *****. I am a software engineer and...                \n",
       "2  I have worked for several tech startups, most ...                \n",
       "3  8 years of sales, entrepreneur at heart.\\nGrad...                \n",
       "4  Founded natural skincare company\\nAcquired sma...                \n",
       "5  I am a Founder building a platform that allows...                \n",
       "6  32 years of Entrepreneurial experience.  I've ...                \n",
       "7                    Founder and CEO Mirku Software                 \n",
       "8        Cofounded videography business with my wife                \n",
       "9  Here is the Press Release announcing my new po...                \n",
       "\n",
       "  What problems/issues are you currently facing in your entrepreneurship space (i.e., things that founders face such as challenges with investors, cofounders, business stressors, business model, strategic partners, company culture, anxiety, sales, financing, etc.)?  \\\n",
       "0  One of the biggest early challenges that we fa...                                                                                                                                                                                                                        \n",
       "1  I am currently experiencing the challenge of t...                                                                                                                                                                                                                        \n",
       "2  I would say loneliness and mental health are k...                                                                                                                                                                                                                        \n",
       "3  I’m a visionary so I love all of the product d...                                                                                                                                                                                                                        \n",
       "4  Staffing issues\\nTech Disparity in multi gener...                                                                                                                                                                                                                        \n",
       "5  Well, I am currently looking at the University...                                                                                                                                                                                                                        \n",
       "6  Doing business in a \"post pandemic\" world is s...                                                                                                                                                                                                                        \n",
       "7                  Culture and Talent in that order                                                                                                                                                                                                                         \n",
       "8  It’s not the type of business to go out and se...                                                                                                                                                                                                                        \n",
       "9  We have been on the struggle bus when it comes...                                                                                                                                                                                                                        \n",
       "\n",
       "                                          Bio Labels  \\\n",
       "0  College entrepreneurship, Minimum viable produ...   \n",
       "1                               Software, Technology   \n",
       "2  Software, Technology, Video game, Commercializ...   \n",
       "3                                  Sales, Marketing    \n",
       "4             Skincare, Coffee, Business, Consulting   \n",
       "5                  Entrepreneur support organization   \n",
       "6  Deep startup experience, Law, Finance, Marketi...   \n",
       "7  Middle startup experience, Software, Technolog...   \n",
       "8  Shallow startup experience, Videography, Digit...   \n",
       "9  Deep startup experience, Chief executive offic...   \n",
       "\n",
       "                                      Problem Labels  \\\n",
       "0  Startup transition, Young team, Small startup,...   \n",
       "1  Young team, Lacks experience, Minimum viable p...   \n",
       "2               Lonely, Mental health, Lacks support   \n",
       "3   Startup finance, Finding investors, Business law   \n",
       "4  Staffing issues, Workforce lacks knowledge, La...   \n",
       "5  Young team, Lacks education, Lacks resources, ...   \n",
       "6  Big startup, Investors, Virtual workforce, Eco...   \n",
       "7                                    Culture, Talent   \n",
       "8  Growth strategy, Lacks resources, Lacks experi...   \n",
       "9  Startup finance, Lacks resources, New technolo...   \n",
       "\n",
       "                                  Bio Encoded Labels  \\\n",
       "0  [0, 0, 0, 0, 0, 0, 0, 1, 0, 0, 0, 0, 0, 0, 0, ...   \n",
       "1  [0, 0, 0, 0, 0, 0, 0, 0, 0, 0, 0, 0, 0, 0, 0, ...   \n",
       "2  [0, 0, 0, 0, 0, 0, 0, 0, 1, 0, 0, 0, 0, 0, 0, ...   \n",
       "3  [0, 0, 0, 0, 0, 0, 0, 0, 0, 0, 0, 0, 0, 0, 0, ...   \n",
       "4  [0, 1, 0, 0, 0, 0, 1, 0, 0, 1, 0, 0, 0, 0, 0, ...   \n",
       "5  [0, 0, 0, 0, 0, 0, 0, 0, 0, 0, 0, 0, 0, 0, 0, ...   \n",
       "6  [0, 0, 0, 0, 0, 0, 0, 0, 0, 0, 1, 0, 0, 0, 1, ...   \n",
       "7  [0, 0, 0, 1, 0, 0, 0, 0, 0, 0, 0, 0, 0, 0, 0, ...   \n",
       "8  [0, 0, 0, 0, 0, 0, 0, 0, 0, 0, 0, 1, 0, 0, 0, ...   \n",
       "9  [0, 0, 0, 1, 0, 0, 0, 0, 0, 0, 1, 0, 0, 0, 0, ...   \n",
       "\n",
       "                              Problem Encoded Labels  \n",
       "0  [0, 0, 0, 0, 0, 0, 0, 0, 0, 0, 0, 0, 0, 0, 0, ...  \n",
       "1  [0, 0, 0, 0, 0, 0, 0, 0, 0, 0, 0, 0, 0, 0, 0, ...  \n",
       "2  [0, 0, 0, 0, 0, 0, 0, 0, 0, 0, 0, 0, 0, 0, 0, ...  \n",
       "3  [0, 0, 1, 0, 0, 0, 0, 0, 0, 0, 0, 1, 0, 0, 0, ...  \n",
       "4  [0, 0, 0, 0, 1, 0, 0, 0, 0, 0, 0, 0, 0, 0, 0, ...  \n",
       "5  [0, 0, 0, 0, 0, 0, 0, 0, 0, 0, 0, 0, 0, 0, 0, ...  \n",
       "6  [0, 1, 0, 0, 0, 0, 0, 0, 1, 0, 0, 0, 0, 0, 0, ...  \n",
       "7  [0, 0, 0, 0, 0, 0, 1, 0, 0, 0, 0, 0, 0, 0, 0, ...  \n",
       "8  [0, 0, 1, 0, 0, 0, 0, 0, 0, 0, 0, 0, 1, 0, 0, ...  \n",
       "9  [0, 0, 0, 0, 0, 0, 0, 0, 0, 0, 0, 0, 0, 0, 0, ...  "
      ]
     },
     "execution_count": 24,
     "metadata": {},
     "output_type": "execute_result"
    }
   ],
   "source": [
    "df.head(10)"
   ]
  },
  {
   "cell_type": "code",
   "execution_count": 25,
   "metadata": {},
   "outputs": [
    {
     "data": {
      "text/plain": [
       "array([0, 0, 0, 0, 0, 0, 0, 1, 0, 0, 0, 0, 0, 0, 0, 0, 0, 0, 0, 1, 0, 0,\n",
       "       0, 0, 0, 0, 0, 1, 0, 0, 0, 0, 0, 0, 0, 0, 0, 0, 0, 0])"
      ]
     },
     "execution_count": 25,
     "metadata": {},
     "output_type": "execute_result"
    }
   ],
   "source": [
    "df['Bio Encoded Labels'][0]"
   ]
  },
  {
   "cell_type": "code",
   "execution_count": 26,
   "metadata": {},
   "outputs": [
    {
     "data": {
      "text/plain": [
       "'College entrepreneurship, Minimum viable product, Geospatial analysis'"
      ]
     },
     "execution_count": 26,
     "metadata": {},
     "output_type": "execute_result"
    }
   ],
   "source": [
    "df['Bio Labels'][0]"
   ]
  },
  {
   "cell_type": "code",
   "execution_count": 27,
   "metadata": {},
   "outputs": [
    {
     "data": {
      "text/plain": [
       "array([0, 0, 0, 0, 0, 0, 0, 0, 0, 0, 0, 0, 0, 0, 0, 0, 0, 0, 0, 0, 0, 0,\n",
       "       0, 0, 0, 0, 0, 0, 0, 0, 0, 0, 1, 0, 0, 0, 0, 0, 1, 0, 0, 0, 0, 0,\n",
       "       1, 0, 0, 0, 1])"
      ]
     },
     "execution_count": 27,
     "metadata": {},
     "output_type": "execute_result"
    }
   ],
   "source": [
    "df['Problem Encoded Labels'][0]"
   ]
  },
  {
   "cell_type": "code",
   "execution_count": 28,
   "metadata": {},
   "outputs": [
    {
     "data": {
      "text/plain": [
       "'Startup transition, Young team, Small startup, Work division'"
      ]
     },
     "execution_count": 28,
     "metadata": {},
     "output_type": "execute_result"
    }
   ],
   "source": [
    "df['Problem Labels'][0]"
   ]
  },
  {
   "cell_type": "code",
   "execution_count": 29,
   "metadata": {},
   "outputs": [],
   "source": [
    "df = df.rename(columns={\"Profile Bio / Statement of Entrepreneur Background (Experience)\": \"Bio\", \"What problems/issues are you currently facing in your entrepreneurship space (i.e., things that founders face such as challenges with investors, cofounders, business stressors, business model, strategic partners, company culture, anxiety, sales, financing, etc.)?\": \"Problem\"})"
   ]
  },
  {
   "cell_type": "markdown",
   "metadata": {},
   "source": [
    "# Text Preprocessing"
   ]
  },
  {
   "cell_type": "code",
   "execution_count": 30,
   "metadata": {},
   "outputs": [],
   "source": [
    "#below option is not necessary everytime. only if stopword resource is not found then run below command\n",
    "#nltk.download('stopwords')"
   ]
  },
  {
   "cell_type": "code",
   "execution_count": 31,
   "metadata": {},
   "outputs": [],
   "source": [
    "#Initial Preprocessing steps\n",
    "\n",
    "#Removing any special characters that may cause issues in our model\n",
    "def cleanpunc(sentence): #to remove special characters\n",
    "    pattern = r'[' + string.punctuation + ']'\n",
    "    cleaned = re.sub(pattern, '', sentence)\n",
    "    return cleaned\n",
    "                   \n",
    "from nltk.corpus import stopwords\n",
    "stop=set(stopwords.words('english'))\n",
    "#initializing the snowball stemmer that will convert the words to their root meaning\n",
    "sno=nltk.stem.SnowballStemmer('english')"
   ]
  },
  {
   "cell_type": "code",
   "execution_count": 32,
   "metadata": {},
   "outputs": [
    {
     "name": "stderr",
     "output_type": "stream",
     "text": [
      "100%|██████████| 23/23 [00:00<00:00, 2166.33it/s]\n",
      "100%|██████████| 23/23 [00:00<00:00, 817.89it/s]\n"
     ]
    }
   ],
   "source": [
    "#Applying more preprocessing steps\n",
    "\n",
    "def textPrep(data):\n",
    "    i=0\n",
    "    str1=' '\n",
    "    final_string=[]\n",
    "    s=''\n",
    "    for sent in tqdm(data.values):\n",
    "        filtered_sent=[]\n",
    "        for w in sent.split():\n",
    "            for cleaned_words in cleanpunc(w).split():\n",
    "                if((cleaned_words.isalpha())&(len(cleaned_words)>2)): #keeping only english words\n",
    "                    if(cleaned_words.lower() not in stop):\n",
    "                        s=(sno.stem(cleaned_words.lower())).encode(\"utf-8\") #stemming\n",
    "                        filtered_sent.append(s)\n",
    "                    else:\n",
    "                        continue\n",
    "                else:\n",
    "                    continue\n",
    "        str1=b\" \".join(filtered_sent)\n",
    "        final_string.append(str1)\n",
    "        i+=1\n",
    "    return final_string\n",
    "\n",
    "df['Cleaned Bio'] = textPrep(df['Bio'])\n",
    "df['Cleaned Bio'] = df['Cleaned Bio'].str.decode(\"utf-8\")\n",
    "\n",
    "df['Cleaned Problem'] = textPrep(df['Problem'])\n",
    "df['Cleaned Problem'] = df['Cleaned Problem'].str.decode(\"utf-8\")"
   ]
  },
  {
   "cell_type": "markdown",
   "metadata": {},
   "source": [
    "# Data Splitting"
   ]
  },
  {
   "cell_type": "code",
   "execution_count": 33,
   "metadata": {},
   "outputs": [],
   "source": [
    "#Train Test Val split\n",
    "df = df.sample(frac=1).reset_index(drop=True)\n",
    "\n",
    "df_train, df_test = train_test_split(df, test_size=0.4)\n",
    "\n",
    "#df_test, df_val = train_test_split(df_test, test_size=0.5)"
   ]
  },
  {
   "cell_type": "code",
   "execution_count": 34,
   "metadata": {},
   "outputs": [
    {
     "data": {
      "text/html": [
       "<div>\n",
       "<style scoped>\n",
       "    .dataframe tbody tr th:only-of-type {\n",
       "        vertical-align: middle;\n",
       "    }\n",
       "\n",
       "    .dataframe tbody tr th {\n",
       "        vertical-align: top;\n",
       "    }\n",
       "\n",
       "    .dataframe thead th {\n",
       "        text-align: right;\n",
       "    }\n",
       "</style>\n",
       "<table border=\"1\" class=\"dataframe\">\n",
       "  <thead>\n",
       "    <tr style=\"text-align: right;\">\n",
       "      <th></th>\n",
       "      <th>Bio</th>\n",
       "      <th>Problem</th>\n",
       "      <th>Bio Labels</th>\n",
       "      <th>Problem Labels</th>\n",
       "      <th>Bio Encoded Labels</th>\n",
       "      <th>Problem Encoded Labels</th>\n",
       "      <th>Cleaned Bio</th>\n",
       "      <th>Cleaned Problem</th>\n",
       "    </tr>\n",
       "  </thead>\n",
       "  <tbody>\n",
       "    <tr>\n",
       "      <th>0</th>\n",
       "      <td>Third time founder with past experience as the...</td>\n",
       "      <td>I struggle to get time to work on the actual b...</td>\n",
       "      <td>Chief technology officer, Technology, Deep sta...</td>\n",
       "      <td>Time management, Balancing startup responsibil...</td>\n",
       "      <td>[0, 0, 0, 0, 1, 0, 0, 0, 0, 0, 1, 0, 0, 0, 0, ...</td>\n",
       "      <td>[1, 0, 0, 0, 0, 0, 0, 0, 0, 0, 0, 0, 0, 0, 0, ...</td>\n",
       "      <td>third time founder past experi cto sever startup</td>\n",
       "      <td>struggl get time work actual busi tri bootstra...</td>\n",
       "    </tr>\n",
       "    <tr>\n",
       "      <th>1</th>\n",
       "      <td>Founder</td>\n",
       "      <td>Non aligned investors</td>\n",
       "      <td>Middle startup experience</td>\n",
       "      <td>Investor disagreements</td>\n",
       "      <td>[0, 0, 0, 0, 0, 0, 0, 0, 0, 0, 0, 0, 0, 0, 0, ...</td>\n",
       "      <td>[0, 0, 0, 0, 0, 0, 0, 0, 0, 0, 0, 0, 0, 0, 1, ...</td>\n",
       "      <td>founder</td>\n",
       "      <td>non align investor</td>\n",
       "    </tr>\n",
       "    <tr>\n",
       "      <th>2</th>\n",
       "      <td>Owner/ President Orchard Eight Media. A video ...</td>\n",
       "      <td>I think the biggest struggle for me right now ...</td>\n",
       "      <td>Middle startup experience, Digital media, Vide...</td>\n",
       "      <td>Growth strategy, Small startup, Startup transi...</td>\n",
       "      <td>[0, 0, 0, 0, 0, 0, 0, 0, 0, 0, 0, 1, 0, 0, 0, ...</td>\n",
       "      <td>[0, 0, 0, 0, 0, 0, 0, 0, 0, 0, 0, 0, 1, 0, 0, ...</td>\n",
       "      <td>owner presid orchard eight media video photo c...</td>\n",
       "      <td>think biggest struggl right scale success sale...</td>\n",
       "    </tr>\n",
       "    <tr>\n",
       "      <th>3</th>\n",
       "      <td>I have worked for several tech startups, most ...</td>\n",
       "      <td>I would say loneliness and mental health are k...</td>\n",
       "      <td>Software, Technology, Video game, Commercializ...</td>\n",
       "      <td>Lonely, Mental health, Lacks support</td>\n",
       "      <td>[0, 0, 0, 0, 0, 0, 0, 0, 1, 0, 0, 0, 0, 0, 0, ...</td>\n",
       "      <td>[0, 0, 0, 0, 0, 0, 0, 0, 0, 0, 0, 0, 0, 0, 0, ...</td>\n",
       "      <td>work sever tech startup often one first employ...</td>\n",
       "      <td>would say loneli mental health key area face i...</td>\n",
       "    </tr>\n",
       "    <tr>\n",
       "      <th>4</th>\n",
       "      <td>I founded an marketplace e-commerce company in...</td>\n",
       "      <td>We greatly struggled with finding cost-effecti...</td>\n",
       "      <td>E-commerce, Middle startup experience, Education</td>\n",
       "      <td>Technology, Minimum viable product, Software, ...</td>\n",
       "      <td>[0, 0, 0, 0, 0, 0, 0, 0, 0, 0, 0, 0, 1, 1, 0, ...</td>\n",
       "      <td>[0, 0, 1, 0, 0, 0, 0, 0, 0, 0, 0, 0, 0, 0, 0, ...</td>\n",
       "      <td>found marketplac ecommerc compani help homesch...</td>\n",
       "      <td>great struggl find costeffect reliabl tech pro...</td>\n",
       "    </tr>\n",
       "    <tr>\n",
       "      <th>5</th>\n",
       "      <td>Started my own sewing business 4 years ago mak...</td>\n",
       "      <td>expensive pricing of materials and fabric, lab...</td>\n",
       "      <td>Sewing, Clothing, Shallow startup experience</td>\n",
       "      <td>Lacks resources, Pricing, Growth strategy, Cus...</td>\n",
       "      <td>[0, 0, 0, 0, 0, 1, 0, 0, 0, 0, 0, 0, 0, 0, 0, ...</td>\n",
       "      <td>[0, 0, 0, 0, 0, 0, 0, 1, 0, 0, 0, 0, 1, 0, 0, ...</td>\n",
       "      <td>start sew busi year ago make mask scrunchi hea...</td>\n",
       "      <td>expens price materi fabric labor custom want p...</td>\n",
       "    </tr>\n",
       "    <tr>\n",
       "      <th>6</th>\n",
       "      <td>32 years of Entrepreneurial experience.  I've ...</td>\n",
       "      <td>Doing business in a \"post pandemic\" world is s...</td>\n",
       "      <td>Deep startup experience, Law, Finance, Marketi...</td>\n",
       "      <td>Big startup, Investors, Virtual workforce, Eco...</td>\n",
       "      <td>[0, 0, 0, 0, 0, 0, 0, 0, 0, 0, 1, 0, 0, 0, 1, ...</td>\n",
       "      <td>[0, 1, 0, 0, 0, 0, 0, 0, 1, 0, 0, 0, 0, 0, 0, ...</td>\n",
       "      <td>year entrepreneuri experi ive start compani in...</td>\n",
       "      <td>busi post pandem world strang pandem chang eve...</td>\n",
       "    </tr>\n",
       "    <tr>\n",
       "      <th>7</th>\n",
       "      <td>I have founded and run a few different compani...</td>\n",
       "      <td>I have faced a few different problems recently...</td>\n",
       "      <td>Middle startup experience</td>\n",
       "      <td>Cofounder disagreements, Work division, Busine...</td>\n",
       "      <td>[0, 0, 0, 0, 0, 0, 0, 0, 0, 0, 0, 0, 0, 0, 0, ...</td>\n",
       "      <td>[0, 0, 1, 0, 0, 1, 0, 1, 0, 0, 1, 0, 0, 0, 0, ...</td>\n",
       "      <td>found run differ compani past howev studi entr...</td>\n",
       "      <td>face differ problem recent main problem cofoun...</td>\n",
       "    </tr>\n",
       "    <tr>\n",
       "      <th>8</th>\n",
       "      <td>While in college, I had the opportunity to wor...</td>\n",
       "      <td>One of the biggest early challenges that we fa...</td>\n",
       "      <td>College entrepreneurship, Minimum viable produ...</td>\n",
       "      <td>Startup transition, Young team, Small startup,...</td>\n",
       "      <td>[0, 0, 0, 0, 0, 0, 0, 1, 0, 0, 0, 0, 0, 0, 0, ...</td>\n",
       "      <td>[0, 0, 0, 0, 0, 0, 0, 0, 0, 0, 0, 0, 0, 0, 0, ...</td>\n",
       "      <td>colleg opportun work entrepreneuri endeavor en...</td>\n",
       "      <td>one biggest earli challeng face small startup ...</td>\n",
       "    </tr>\n",
       "    <tr>\n",
       "      <th>9</th>\n",
       "      <td>Founder and CEO Mirku Software</td>\n",
       "      <td>Culture and Talent in that order</td>\n",
       "      <td>Middle startup experience, Software, Technolog...</td>\n",
       "      <td>Culture, Talent</td>\n",
       "      <td>[0, 0, 0, 1, 0, 0, 0, 0, 0, 0, 0, 0, 0, 0, 0, ...</td>\n",
       "      <td>[0, 0, 0, 0, 0, 0, 1, 0, 0, 0, 0, 0, 0, 0, 0, ...</td>\n",
       "      <td>founder ceo mirku softwar</td>\n",
       "      <td>cultur talent order</td>\n",
       "    </tr>\n",
       "    <tr>\n",
       "      <th>10</th>\n",
       "      <td>*** is the founder and CEO of Flaire. A 15-yea...</td>\n",
       "      <td>1) Access to super high net worth individuals ...</td>\n",
       "      <td>Deep startup experience, Software, Technology,...</td>\n",
       "      <td>Investors, Lacks resources, Lonely, Customer a...</td>\n",
       "      <td>[0, 0, 0, 0, 0, 0, 0, 0, 0, 0, 1, 0, 0, 0, 0, ...</td>\n",
       "      <td>[0, 0, 0, 0, 0, 0, 0, 1, 0, 0, 0, 0, 1, 1, 0, ...</td>\n",
       "      <td>founder ceo flair veteran tech bring foundat e...</td>\n",
       "      <td>access super high net worth individu write big...</td>\n",
       "    </tr>\n",
       "    <tr>\n",
       "      <th>11</th>\n",
       "      <td>Owner of AM Mobile Auto Detailing \\nSales Rep ...</td>\n",
       "      <td>My biggest problem is constantly trying to fin...</td>\n",
       "      <td>Marketing, Auto detailing, Sales, Shallow star...</td>\n",
       "      <td>Workforce</td>\n",
       "      <td>[1, 0, 0, 0, 0, 0, 0, 0, 0, 0, 0, 0, 0, 0, 0, ...</td>\n",
       "      <td>[0, 0, 0, 0, 0, 0, 0, 0, 0, 0, 0, 0, 0, 0, 0, ...</td>\n",
       "      <td>owner mobil auto detail sale rep nolac inc mar...</td>\n",
       "      <td>biggest problem constant tri find peopl care e...</td>\n",
       "    </tr>\n",
       "    <tr>\n",
       "      <th>12</th>\n",
       "      <td>I am a Founder building a platform that allows...</td>\n",
       "      <td>Well, I am currently looking at the University...</td>\n",
       "      <td>Entrepreneur support organization</td>\n",
       "      <td>Young team, Lacks education, Lacks resources, ...</td>\n",
       "      <td>[0, 0, 0, 0, 0, 0, 0, 0, 0, 0, 0, 0, 0, 0, 0, ...</td>\n",
       "      <td>[0, 0, 0, 0, 0, 0, 0, 0, 0, 0, 0, 0, 0, 0, 0, ...</td>\n",
       "      <td>founder build platform allow eso streamlin way...</td>\n",
       "      <td>well current look univers entrepreneurship sup...</td>\n",
       "    </tr>\n",
       "  </tbody>\n",
       "</table>\n",
       "</div>"
      ],
      "text/plain": [
       "                                                  Bio  \\\n",
       "0   Third time founder with past experience as the...   \n",
       "1                                             Founder   \n",
       "2   Owner/ President Orchard Eight Media. A video ...   \n",
       "3   I have worked for several tech startups, most ...   \n",
       "4   I founded an marketplace e-commerce company in...   \n",
       "5   Started my own sewing business 4 years ago mak...   \n",
       "6   32 years of Entrepreneurial experience.  I've ...   \n",
       "7   I have founded and run a few different compani...   \n",
       "8   While in college, I had the opportunity to wor...   \n",
       "9                     Founder and CEO Mirku Software    \n",
       "10  *** is the founder and CEO of Flaire. A 15-yea...   \n",
       "11  Owner of AM Mobile Auto Detailing \\nSales Rep ...   \n",
       "12  I am a Founder building a platform that allows...   \n",
       "\n",
       "                                              Problem  \\\n",
       "0   I struggle to get time to work on the actual b...   \n",
       "1                               Non aligned investors   \n",
       "2   I think the biggest struggle for me right now ...   \n",
       "3   I would say loneliness and mental health are k...   \n",
       "4   We greatly struggled with finding cost-effecti...   \n",
       "5   expensive pricing of materials and fabric, lab...   \n",
       "6   Doing business in a \"post pandemic\" world is s...   \n",
       "7   I have faced a few different problems recently...   \n",
       "8   One of the biggest early challenges that we fa...   \n",
       "9                   Culture and Talent in that order    \n",
       "10  1) Access to super high net worth individuals ...   \n",
       "11  My biggest problem is constantly trying to fin...   \n",
       "12  Well, I am currently looking at the University...   \n",
       "\n",
       "                                           Bio Labels  \\\n",
       "0   Chief technology officer, Technology, Deep sta...   \n",
       "1                           Middle startup experience   \n",
       "2   Middle startup experience, Digital media, Vide...   \n",
       "3   Software, Technology, Video game, Commercializ...   \n",
       "4    E-commerce, Middle startup experience, Education   \n",
       "5        Sewing, Clothing, Shallow startup experience   \n",
       "6   Deep startup experience, Law, Finance, Marketi...   \n",
       "7                           Middle startup experience   \n",
       "8   College entrepreneurship, Minimum viable produ...   \n",
       "9   Middle startup experience, Software, Technolog...   \n",
       "10  Deep startup experience, Software, Technology,...   \n",
       "11  Marketing, Auto detailing, Sales, Shallow star...   \n",
       "12                  Entrepreneur support organization   \n",
       "\n",
       "                                       Problem Labels  \\\n",
       "0   Time management, Balancing startup responsibil...   \n",
       "1                              Investor disagreements   \n",
       "2   Growth strategy, Small startup, Startup transi...   \n",
       "3                Lonely, Mental health, Lacks support   \n",
       "4   Technology, Minimum viable product, Software, ...   \n",
       "5   Lacks resources, Pricing, Growth strategy, Cus...   \n",
       "6   Big startup, Investors, Virtual workforce, Eco...   \n",
       "7   Cofounder disagreements, Work division, Busine...   \n",
       "8   Startup transition, Young team, Small startup,...   \n",
       "9                                     Culture, Talent   \n",
       "10  Investors, Lacks resources, Lonely, Customer a...   \n",
       "11                                          Workforce   \n",
       "12  Young team, Lacks education, Lacks resources, ...   \n",
       "\n",
       "                                   Bio Encoded Labels  \\\n",
       "0   [0, 0, 0, 0, 1, 0, 0, 0, 0, 0, 1, 0, 0, 0, 0, ...   \n",
       "1   [0, 0, 0, 0, 0, 0, 0, 0, 0, 0, 0, 0, 0, 0, 0, ...   \n",
       "2   [0, 0, 0, 0, 0, 0, 0, 0, 0, 0, 0, 1, 0, 0, 0, ...   \n",
       "3   [0, 0, 0, 0, 0, 0, 0, 0, 1, 0, 0, 0, 0, 0, 0, ...   \n",
       "4   [0, 0, 0, 0, 0, 0, 0, 0, 0, 0, 0, 0, 1, 1, 0, ...   \n",
       "5   [0, 0, 0, 0, 0, 1, 0, 0, 0, 0, 0, 0, 0, 0, 0, ...   \n",
       "6   [0, 0, 0, 0, 0, 0, 0, 0, 0, 0, 1, 0, 0, 0, 1, ...   \n",
       "7   [0, 0, 0, 0, 0, 0, 0, 0, 0, 0, 0, 0, 0, 0, 0, ...   \n",
       "8   [0, 0, 0, 0, 0, 0, 0, 1, 0, 0, 0, 0, 0, 0, 0, ...   \n",
       "9   [0, 0, 0, 1, 0, 0, 0, 0, 0, 0, 0, 0, 0, 0, 0, ...   \n",
       "10  [0, 0, 0, 0, 0, 0, 0, 0, 0, 0, 1, 0, 0, 0, 0, ...   \n",
       "11  [1, 0, 0, 0, 0, 0, 0, 0, 0, 0, 0, 0, 0, 0, 0, ...   \n",
       "12  [0, 0, 0, 0, 0, 0, 0, 0, 0, 0, 0, 0, 0, 0, 0, ...   \n",
       "\n",
       "                               Problem Encoded Labels  \\\n",
       "0   [1, 0, 0, 0, 0, 0, 0, 0, 0, 0, 0, 0, 0, 0, 0, ...   \n",
       "1   [0, 0, 0, 0, 0, 0, 0, 0, 0, 0, 0, 0, 0, 0, 1, ...   \n",
       "2   [0, 0, 0, 0, 0, 0, 0, 0, 0, 0, 0, 0, 1, 0, 0, ...   \n",
       "3   [0, 0, 0, 0, 0, 0, 0, 0, 0, 0, 0, 0, 0, 0, 0, ...   \n",
       "4   [0, 0, 1, 0, 0, 0, 0, 0, 0, 0, 0, 0, 0, 0, 0, ...   \n",
       "5   [0, 0, 0, 0, 0, 0, 0, 1, 0, 0, 0, 0, 1, 0, 0, ...   \n",
       "6   [0, 1, 0, 0, 0, 0, 0, 0, 1, 0, 0, 0, 0, 0, 0, ...   \n",
       "7   [0, 0, 1, 0, 0, 1, 0, 1, 0, 0, 1, 0, 0, 0, 0, ...   \n",
       "8   [0, 0, 0, 0, 0, 0, 0, 0, 0, 0, 0, 0, 0, 0, 0, ...   \n",
       "9   [0, 0, 0, 0, 0, 0, 1, 0, 0, 0, 0, 0, 0, 0, 0, ...   \n",
       "10  [0, 0, 0, 0, 0, 0, 0, 1, 0, 0, 0, 0, 1, 1, 0, ...   \n",
       "11  [0, 0, 0, 0, 0, 0, 0, 0, 0, 0, 0, 0, 0, 0, 0, ...   \n",
       "12  [0, 0, 0, 0, 0, 0, 0, 0, 0, 0, 0, 0, 0, 0, 0, ...   \n",
       "\n",
       "                                          Cleaned Bio  \\\n",
       "0    third time founder past experi cto sever startup   \n",
       "1                                             founder   \n",
       "2   owner presid orchard eight media video photo c...   \n",
       "3   work sever tech startup often one first employ...   \n",
       "4   found marketplac ecommerc compani help homesch...   \n",
       "5   start sew busi year ago make mask scrunchi hea...   \n",
       "6   year entrepreneuri experi ive start compani in...   \n",
       "7   found run differ compani past howev studi entr...   \n",
       "8   colleg opportun work entrepreneuri endeavor en...   \n",
       "9                           founder ceo mirku softwar   \n",
       "10  founder ceo flair veteran tech bring foundat e...   \n",
       "11  owner mobil auto detail sale rep nolac inc mar...   \n",
       "12  founder build platform allow eso streamlin way...   \n",
       "\n",
       "                                      Cleaned Problem  \n",
       "0   struggl get time work actual busi tri bootstra...  \n",
       "1                                  non align investor  \n",
       "2   think biggest struggl right scale success sale...  \n",
       "3   would say loneli mental health key area face i...  \n",
       "4   great struggl find costeffect reliabl tech pro...  \n",
       "5   expens price materi fabric labor custom want p...  \n",
       "6   busi post pandem world strang pandem chang eve...  \n",
       "7   face differ problem recent main problem cofoun...  \n",
       "8   one biggest earli challeng face small startup ...  \n",
       "9                                 cultur talent order  \n",
       "10  access super high net worth individu write big...  \n",
       "11  biggest problem constant tri find peopl care e...  \n",
       "12  well current look univers entrepreneurship sup...  "
      ]
     },
     "execution_count": 34,
     "metadata": {},
     "output_type": "execute_result"
    }
   ],
   "source": [
    "df_train = df_train.reset_index(drop=True)\n",
    "df_train"
   ]
  },
  {
   "cell_type": "code",
   "execution_count": 35,
   "metadata": {},
   "outputs": [],
   "source": [
    "#df_val = df_test.reset_index(drop=True)\n",
    "#df_val"
   ]
  },
  {
   "cell_type": "code",
   "execution_count": 36,
   "metadata": {},
   "outputs": [
    {
     "data": {
      "text/html": [
       "<div>\n",
       "<style scoped>\n",
       "    .dataframe tbody tr th:only-of-type {\n",
       "        vertical-align: middle;\n",
       "    }\n",
       "\n",
       "    .dataframe tbody tr th {\n",
       "        vertical-align: top;\n",
       "    }\n",
       "\n",
       "    .dataframe thead th {\n",
       "        text-align: right;\n",
       "    }\n",
       "</style>\n",
       "<table border=\"1\" class=\"dataframe\">\n",
       "  <thead>\n",
       "    <tr style=\"text-align: right;\">\n",
       "      <th></th>\n",
       "      <th>Bio</th>\n",
       "      <th>Problem</th>\n",
       "      <th>Bio Labels</th>\n",
       "      <th>Problem Labels</th>\n",
       "      <th>Bio Encoded Labels</th>\n",
       "      <th>Problem Encoded Labels</th>\n",
       "      <th>Cleaned Bio</th>\n",
       "      <th>Cleaned Problem</th>\n",
       "    </tr>\n",
       "  </thead>\n",
       "  <tbody>\n",
       "    <tr>\n",
       "      <th>0</th>\n",
       "      <td>Minimal</td>\n",
       "      <td>Cofounders, business model</td>\n",
       "      <td>No startup experience</td>\n",
       "      <td>Stakeholders, Managing company relationships, ...</td>\n",
       "      <td>[0, 0, 0, 0, 0, 0, 0, 0, 0, 0, 0, 0, 0, 0, 0, ...</td>\n",
       "      <td>[0, 0, 0, 1, 0, 0, 0, 0, 0, 0, 0, 0, 1, 0, 0, ...</td>\n",
       "      <td>minim</td>\n",
       "      <td>cofound busi model</td>\n",
       "    </tr>\n",
       "    <tr>\n",
       "      <th>1</th>\n",
       "      <td>5.5 years of entrepreneurial experience</td>\n",
       "      <td>Sales</td>\n",
       "      <td>Middle startup experience</td>\n",
       "      <td>Sales</td>\n",
       "      <td>[0, 0, 0, 0, 0, 0, 0, 0, 0, 0, 0, 0, 0, 0, 0, ...</td>\n",
       "      <td>[0, 0, 0, 0, 0, 0, 0, 0, 0, 0, 0, 0, 0, 0, 0, ...</td>\n",
       "      <td>year entrepreneuri experi</td>\n",
       "      <td>sale</td>\n",
       "    </tr>\n",
       "    <tr>\n",
       "      <th>2</th>\n",
       "      <td>I am the founder and CEO of Simple Charity, a ...</td>\n",
       "      <td>I'm currently facing the challenge of navigati...</td>\n",
       "      <td>Chief executive officer, Charity, Generosity, ...</td>\n",
       "      <td>Stakeholders, Managing company relationships</td>\n",
       "      <td>[0, 0, 1, 1, 0, 0, 0, 0, 0, 0, 0, 0, 0, 0, 0, ...</td>\n",
       "      <td>[0, 0, 0, 0, 0, 0, 0, 0, 0, 0, 0, 0, 0, 0, 0, ...</td>\n",
       "      <td>founder ceo simpl chariti nonprofit inspir chr...</td>\n",
       "      <td>current face challeng navig complex web stakeh...</td>\n",
       "    </tr>\n",
       "    <tr>\n",
       "      <th>3</th>\n",
       "      <td>Here is the Press Release announcing my new po...</td>\n",
       "      <td>We have been on the struggle bus when it comes...</td>\n",
       "      <td>Deep startup experience, Chief executive offic...</td>\n",
       "      <td>Startup finance, Lacks resources, New technolo...</td>\n",
       "      <td>[0, 0, 0, 1, 0, 0, 0, 0, 0, 0, 1, 0, 0, 0, 0, ...</td>\n",
       "      <td>[0, 0, 0, 0, 0, 0, 0, 0, 0, 0, 0, 0, 0, 0, 0, ...</td>\n",
       "      <td>press releas announc new posit year health car...</td>\n",
       "      <td>struggl bus come financ realli close potenti i...</td>\n",
       "    </tr>\n",
       "    <tr>\n",
       "      <th>4</th>\n",
       "      <td>Cofounded videography business with my wife</td>\n",
       "      <td>It’s not the type of business to go out and se...</td>\n",
       "      <td>Shallow startup experience, Videography, Digit...</td>\n",
       "      <td>Growth strategy, Lacks resources, Lacks experi...</td>\n",
       "      <td>[0, 0, 0, 0, 0, 0, 0, 0, 0, 0, 0, 1, 0, 0, 0, ...</td>\n",
       "      <td>[0, 0, 1, 0, 0, 0, 0, 0, 0, 0, 0, 0, 1, 0, 0, ...</td>\n",
       "      <td>cofound videographi busi wife</td>\n",
       "      <td>type busi seek capit fund get project bad equi...</td>\n",
       "    </tr>\n",
       "    <tr>\n",
       "      <th>5</th>\n",
       "      <td>My name is *****. I am a software engineer and...</td>\n",
       "      <td>I am currently experiencing the challenge of t...</td>\n",
       "      <td>Software, Technology</td>\n",
       "      <td>Young team, Lacks experience, Minimum viable p...</td>\n",
       "      <td>[0, 0, 0, 0, 0, 0, 0, 0, 0, 0, 0, 0, 0, 0, 0, ...</td>\n",
       "      <td>[0, 0, 0, 0, 0, 0, 0, 0, 0, 0, 0, 0, 0, 0, 0, ...</td>\n",
       "      <td>name softwar engin also work creat product hop...</td>\n",
       "      <td>current experienc challeng think big soon know...</td>\n",
       "    </tr>\n",
       "    <tr>\n",
       "      <th>6</th>\n",
       "      <td>8 years of sales, entrepreneur at heart.\\nGrad...</td>\n",
       "      <td>I’m a visionary so I love all of the product d...</td>\n",
       "      <td>Sales, Marketing</td>\n",
       "      <td>Startup finance, Finding investors, Business law</td>\n",
       "      <td>[0, 0, 0, 0, 0, 0, 0, 0, 0, 0, 0, 0, 0, 0, 0, ...</td>\n",
       "      <td>[0, 0, 1, 0, 0, 0, 0, 0, 0, 0, 0, 1, 0, 0, 0, ...</td>\n",
       "      <td>year sale entrepreneur heart graduat penn stat...</td>\n",
       "      <td>visionari love product design implement vision...</td>\n",
       "    </tr>\n",
       "    <tr>\n",
       "      <th>7</th>\n",
       "      <td>Founded a health tech company that focuses on ...</td>\n",
       "      <td>Phase change - need to move from bootstrap/scr...</td>\n",
       "      <td>Deep startup experience, Technology, Medical t...</td>\n",
       "      <td>Growth strategy, Startup transition, Workforce...</td>\n",
       "      <td>[0, 0, 0, 0, 0, 0, 0, 0, 0, 0, 1, 0, 0, 0, 0, ...</td>\n",
       "      <td>[0, 0, 0, 0, 0, 0, 0, 0, 0, 0, 0, 0, 1, 0, 0, ...</td>\n",
       "      <td>found health tech compani focus patient navig ...</td>\n",
       "      <td>phase chang need move bootstrapscrappi systems...</td>\n",
       "    </tr>\n",
       "    <tr>\n",
       "      <th>8</th>\n",
       "      <td>Launched Amplio Recruiting in 2014, a for-prof...</td>\n",
       "      <td>The two major tensions I faced throughout our ...</td>\n",
       "      <td>Deep startup experience, Recruiting, Faith</td>\n",
       "      <td>Cofounder disagreements, Finding direction, Faith</td>\n",
       "      <td>[0, 0, 0, 0, 0, 0, 0, 0, 0, 0, 1, 0, 0, 0, 0, ...</td>\n",
       "      <td>[0, 0, 0, 0, 0, 1, 0, 0, 0, 1, 1, 0, 0, 0, 0, ...</td>\n",
       "      <td>launch amplio recruit forprofit staf agenc pla...</td>\n",
       "      <td>two major tension face throughout journey cofo...</td>\n",
       "    </tr>\n",
       "    <tr>\n",
       "      <th>9</th>\n",
       "      <td>Founded natural skincare company\\nAcquired sma...</td>\n",
       "      <td>Staffing issues\\nTech Disparity in multi gener...</td>\n",
       "      <td>Skincare, Coffee, Business, Consulting</td>\n",
       "      <td>Staffing issues, Workforce lacks knowledge, La...</td>\n",
       "      <td>[0, 1, 0, 0, 0, 0, 1, 0, 0, 1, 0, 0, 0, 0, 0, ...</td>\n",
       "      <td>[0, 0, 0, 0, 1, 0, 0, 0, 0, 0, 0, 0, 0, 0, 0, ...</td>\n",
       "      <td>found natur skincar compani acquir small coffe...</td>\n",
       "      <td>staf issu tech dispar multi generat workforc l...</td>\n",
       "    </tr>\n",
       "  </tbody>\n",
       "</table>\n",
       "</div>"
      ],
      "text/plain": [
       "                                                 Bio  \\\n",
       "0                                           Minimal    \n",
       "1           5.5 years of entrepreneurial experience    \n",
       "2  I am the founder and CEO of Simple Charity, a ...   \n",
       "3  Here is the Press Release announcing my new po...   \n",
       "4        Cofounded videography business with my wife   \n",
       "5  My name is *****. I am a software engineer and...   \n",
       "6  8 years of sales, entrepreneur at heart.\\nGrad...   \n",
       "7  Founded a health tech company that focuses on ...   \n",
       "8  Launched Amplio Recruiting in 2014, a for-prof...   \n",
       "9  Founded natural skincare company\\nAcquired sma...   \n",
       "\n",
       "                                             Problem  \\\n",
       "0                        Cofounders, business model    \n",
       "1                                              Sales   \n",
       "2  I'm currently facing the challenge of navigati...   \n",
       "3  We have been on the struggle bus when it comes...   \n",
       "4  It’s not the type of business to go out and se...   \n",
       "5  I am currently experiencing the challenge of t...   \n",
       "6  I’m a visionary so I love all of the product d...   \n",
       "7  Phase change - need to move from bootstrap/scr...   \n",
       "8  The two major tensions I faced throughout our ...   \n",
       "9  Staffing issues\\nTech Disparity in multi gener...   \n",
       "\n",
       "                                          Bio Labels  \\\n",
       "0                              No startup experience   \n",
       "1                          Middle startup experience   \n",
       "2  Chief executive officer, Charity, Generosity, ...   \n",
       "3  Deep startup experience, Chief executive offic...   \n",
       "4  Shallow startup experience, Videography, Digit...   \n",
       "5                               Software, Technology   \n",
       "6                                  Sales, Marketing    \n",
       "7  Deep startup experience, Technology, Medical t...   \n",
       "8         Deep startup experience, Recruiting, Faith   \n",
       "9             Skincare, Coffee, Business, Consulting   \n",
       "\n",
       "                                      Problem Labels  \\\n",
       "0  Stakeholders, Managing company relationships, ...   \n",
       "1                                              Sales   \n",
       "2       Stakeholders, Managing company relationships   \n",
       "3  Startup finance, Lacks resources, New technolo...   \n",
       "4  Growth strategy, Lacks resources, Lacks experi...   \n",
       "5  Young team, Lacks experience, Minimum viable p...   \n",
       "6   Startup finance, Finding investors, Business law   \n",
       "7  Growth strategy, Startup transition, Workforce...   \n",
       "8  Cofounder disagreements, Finding direction, Faith   \n",
       "9  Staffing issues, Workforce lacks knowledge, La...   \n",
       "\n",
       "                                  Bio Encoded Labels  \\\n",
       "0  [0, 0, 0, 0, 0, 0, 0, 0, 0, 0, 0, 0, 0, 0, 0, ...   \n",
       "1  [0, 0, 0, 0, 0, 0, 0, 0, 0, 0, 0, 0, 0, 0, 0, ...   \n",
       "2  [0, 0, 1, 1, 0, 0, 0, 0, 0, 0, 0, 0, 0, 0, 0, ...   \n",
       "3  [0, 0, 0, 1, 0, 0, 0, 0, 0, 0, 1, 0, 0, 0, 0, ...   \n",
       "4  [0, 0, 0, 0, 0, 0, 0, 0, 0, 0, 0, 1, 0, 0, 0, ...   \n",
       "5  [0, 0, 0, 0, 0, 0, 0, 0, 0, 0, 0, 0, 0, 0, 0, ...   \n",
       "6  [0, 0, 0, 0, 0, 0, 0, 0, 0, 0, 0, 0, 0, 0, 0, ...   \n",
       "7  [0, 0, 0, 0, 0, 0, 0, 0, 0, 0, 1, 0, 0, 0, 0, ...   \n",
       "8  [0, 0, 0, 0, 0, 0, 0, 0, 0, 0, 1, 0, 0, 0, 0, ...   \n",
       "9  [0, 1, 0, 0, 0, 0, 1, 0, 0, 1, 0, 0, 0, 0, 0, ...   \n",
       "\n",
       "                              Problem Encoded Labels  \\\n",
       "0  [0, 0, 0, 1, 0, 0, 0, 0, 0, 0, 0, 0, 1, 0, 0, ...   \n",
       "1  [0, 0, 0, 0, 0, 0, 0, 0, 0, 0, 0, 0, 0, 0, 0, ...   \n",
       "2  [0, 0, 0, 0, 0, 0, 0, 0, 0, 0, 0, 0, 0, 0, 0, ...   \n",
       "3  [0, 0, 0, 0, 0, 0, 0, 0, 0, 0, 0, 0, 0, 0, 0, ...   \n",
       "4  [0, 0, 1, 0, 0, 0, 0, 0, 0, 0, 0, 0, 1, 0, 0, ...   \n",
       "5  [0, 0, 0, 0, 0, 0, 0, 0, 0, 0, 0, 0, 0, 0, 0, ...   \n",
       "6  [0, 0, 1, 0, 0, 0, 0, 0, 0, 0, 0, 1, 0, 0, 0, ...   \n",
       "7  [0, 0, 0, 0, 0, 0, 0, 0, 0, 0, 0, 0, 1, 0, 0, ...   \n",
       "8  [0, 0, 0, 0, 0, 1, 0, 0, 0, 1, 1, 0, 0, 0, 0, ...   \n",
       "9  [0, 0, 0, 0, 1, 0, 0, 0, 0, 0, 0, 0, 0, 0, 0, ...   \n",
       "\n",
       "                                         Cleaned Bio  \\\n",
       "0                                              minim   \n",
       "1                          year entrepreneuri experi   \n",
       "2  founder ceo simpl chariti nonprofit inspir chr...   \n",
       "3  press releas announc new posit year health car...   \n",
       "4                      cofound videographi busi wife   \n",
       "5  name softwar engin also work creat product hop...   \n",
       "6  year sale entrepreneur heart graduat penn stat...   \n",
       "7  found health tech compani focus patient navig ...   \n",
       "8  launch amplio recruit forprofit staf agenc pla...   \n",
       "9  found natur skincar compani acquir small coffe...   \n",
       "\n",
       "                                     Cleaned Problem  \n",
       "0                                 cofound busi model  \n",
       "1                                               sale  \n",
       "2  current face challeng navig complex web stakeh...  \n",
       "3  struggl bus come financ realli close potenti i...  \n",
       "4  type busi seek capit fund get project bad equi...  \n",
       "5  current experienc challeng think big soon know...  \n",
       "6  visionari love product design implement vision...  \n",
       "7  phase chang need move bootstrapscrappi systems...  \n",
       "8  two major tension face throughout journey cofo...  \n",
       "9  staf issu tech dispar multi generat workforc l...  "
      ]
     },
     "execution_count": 36,
     "metadata": {},
     "output_type": "execute_result"
    }
   ],
   "source": [
    "df_test = df_test.reset_index(drop=True)\n",
    "df_test"
   ]
  },
  {
   "cell_type": "markdown",
   "metadata": {},
   "source": [
    "# Text Embeddings"
   ]
  },
  {
   "cell_type": "code",
   "execution_count": 37,
   "metadata": {},
   "outputs": [],
   "source": [
    "#Only Bag of words for now\n",
    "\n",
    "count_vect_bio=CountVectorizer(ngram_range=(1,2))\n",
    "train_bow_bio=count_vect_bio.fit_transform(df_train['Cleaned Bio'].values)\n",
    "#val_bow_bio=count_vect_bio.fit_transform(df_val['Cleaned Bio'].values)\n",
    "test_bow_bio=count_vect_bio.transform(df_test['Cleaned Bio'].values)\n",
    "#getting feature names, this will act as header for BOW data and  will help to recognize important features\n",
    "feature_names_bow_bio=count_vect_bio.get_feature_names()\n",
    "\n",
    "count_vect_prob=CountVectorizer(ngram_range=(1,2))\n",
    "train_bow_prob=count_vect_prob.fit_transform(df_train['Cleaned Problem'].values)\n",
    "#val_bow_prob=count_vect_prob.fit_transform(df_val['Cleaned Problem'].values)\n",
    "test_bow_prob=count_vect_prob.transform(df_test['Cleaned Problem'].values)\n",
    "#getting feature names, this will act as header for BOW data and  will help to recognize important features\n",
    "feature_names_bow_prob=count_vect_prob.get_feature_names()"
   ]
  },
  {
   "cell_type": "markdown",
   "metadata": {},
   "source": [
    "# Model"
   ]
  },
  {
   "cell_type": "code",
   "execution_count": 38,
   "metadata": {},
   "outputs": [],
   "source": [
    "#Didn't Use because it is not conducive to Multi-Label Classification\n",
    "\n",
    "comment = '''#Applying Simple Cross validation to find best K\n",
    "#GridSearchCV and K-Fold take more time so using simple crossvalidation\n",
    "def find_best_k(train,crossvalidation,algo,k_range,njobs):\n",
    "    k_plot=[]\n",
    "    auc_cv_plot=[]\n",
    "    auc_train_plot=[]\n",
    "    for k in range(1,k_range,2):\n",
    "        k_plot.append(k)\n",
    "        #fitting the model\n",
    "        model=KNeighborsClassifier(n_neighbors=k,algorithm=algo,n_jobs=njobs)\n",
    "        model.fit(train,ytrain)\n",
    "        #predicting probabilities for crossvalidation data\n",
    "        pred_proba_cv=model.predict_proba(crossvalidation)\n",
    "        #keep probabilities for positive outcome only\n",
    "        pred_proba_cv_pos=pred_proba_cv[:,1]\n",
    "        #predicting probabilities for train data\n",
    "        pred_proba_train=model.predict_proba(train)\n",
    "        #keep probabilities for positive outcome only\n",
    "        pred_proba_train_pos=pred_proba_train[:,1]\n",
    "        #calculating auc for crossvalidation data\n",
    "        auc_cv=roc_auc_score(ycrossvalidation, pred_proba_cv_pos)\n",
    "        #calculating auc for train data\n",
    "        auc_train=roc_auc_score(ytrain, pred_proba_train_pos)\n",
    "        auc_cv_plot.append(auc_cv)\n",
    "        auc_train_plot.append(auc_train)\n",
    "        print(\"CV AUC for K=\",k,\" is \",auc_cv, \"Train AUC for K=\",k,\" is \",auc_train)\n",
    "    return k_plot, auc_cv_plot, auc_train_plot'''"
   ]
  },
  {
   "cell_type": "code",
   "execution_count": 39,
   "metadata": {},
   "outputs": [],
   "source": [
    "#Didn't Use because it is not conducive to Multi-Label Classification\n",
    "\n",
    "comment = '''from sklearn.neighbors import KNeighborsClassifier\n",
    "#Applying Simple Cross validation as GridSearchCV and K-Fold take more time\n",
    "algo='brute'\n",
    "krange=30\n",
    "njobs=1 #njobs=-1(parallel work) doesn't work with sparse matrix\n",
    "k_plot_bow,auc_cv_plot_bow,auc_train_plot_bow=find_best_k(train_bow,crossvalidation_bow,algo,krange,njobs)'''"
   ]
  },
  {
   "cell_type": "code",
   "execution_count": 40,
   "metadata": {},
   "outputs": [],
   "source": [
    "#Didn't Use because it is not conducive to Multi-Label Classification\n",
    "\n",
    "comment = '''#training the model with best K that we have obtained\n",
    "k_bow=20\n",
    "knn_bow=KNeighborsClassifier(n_neighbors=k_bow,algorithm='brute')\n",
    "knn_bow.fit(train_bow,ytrain)\n",
    "bow_pred=knn_bow.predict_proba(test_bow)\n",
    "#deriving discrete class for plotting confusion matrix\n",
    "bow_pred_cm = np.argmax(bow_pred, axis=1)\n",
    "#keeping probabilities for positive outcomes\n",
    "bow_pred=bow_pred[:,1]\n",
    "#training predictions\n",
    "bow_pred_train=knn_bow.predict_proba(train_bow)\n",
    "bow_pred_cm_train = np.argmax(bow_pred_train, axis=1)\n",
    "#keeping probabilities for positive outcomes\n",
    "bow_pred_train=bow_pred_train[:,1]\n",
    "#calculating AUC on test data\n",
    "auc_bow = roc_auc_score(ytest, bow_pred)\n",
    "#roc for train data\n",
    "fpr_train, tpr_train, thresholds =roc_curve(ytrain, bow_pred_train)\n",
    "#roc for test data\n",
    "fpr_test, tpr_test, thresholds = roc_curve(ytest, bow_pred)'''"
   ]
  },
  {
   "cell_type": "markdown",
   "metadata": {},
   "source": [
    "# Building KNN Model"
   ]
  },
  {
   "cell_type": "code",
   "execution_count": 41,
   "metadata": {},
   "outputs": [
    {
     "data": {
      "text/plain": [
       "scipy.sparse.csr.csr_matrix"
      ]
     },
     "execution_count": 41,
     "metadata": {},
     "output_type": "execute_result"
    }
   ],
   "source": [
    "type(train_bow_bio)"
   ]
  },
  {
   "cell_type": "code",
   "execution_count": 42,
   "metadata": {},
   "outputs": [],
   "source": [
    "#arr = train_bow_bio.toarray()\n",
    "#df_train.shape"
   ]
  },
  {
   "cell_type": "code",
   "execution_count": null,
   "metadata": {},
   "outputs": [],
   "source": []
  },
  {
   "cell_type": "code",
   "execution_count": null,
   "metadata": {},
   "outputs": [],
   "source": []
  },
  {
   "cell_type": "code",
   "execution_count": null,
   "metadata": {},
   "outputs": [],
   "source": []
  },
  {
   "cell_type": "code",
   "execution_count": 43,
   "metadata": {},
   "outputs": [],
   "source": [
    "#Didn't Use because it is not conducive to Multi-Label Classification\n",
    "\n",
    "comment = '''from sklearn.model_selection import GridSearchCV\n",
    "\n",
    "parameters = {'k': range(1,3), 's': [0.5, 0.7, 1.0]}\n",
    "score = 'f1_macro'\n",
    "\n",
    "clf = GridSearchCV(MLkNN(), parameters, scoring=score)\n",
    "clf.fit(X, y)\n",
    "\n",
    "print (clf.best_params_, clf.best_score_)\n",
    "\n",
    "# output\n",
    "({'k': 1, 's': 0.5}, 0.78988303374297597)'''"
   ]
  },
  {
   "cell_type": "code",
   "execution_count": 44,
   "metadata": {},
   "outputs": [],
   "source": [
    "def cosine_sim(A, B):\n",
    "    A = A.reshape(-1)\n",
    "    B = B.reshape(-1)\n",
    "    return np.dot(A,B)/(LA.norm(A)*LA.norm(B))\n",
    "\n",
    "def euclidean_dist(A, B):\n",
    "    return euclidean_distances(A.reshape(1,-1), B.reshape(1,-1))[0][0]\n",
    "\n",
    "# = N_unequal(x, y) / N_tot\n",
    "def hamming_dist(A, B):\n",
    "    return DistanceMetric.get_metric('hamming').pairwise(A.reshape(1,-1), B.reshape(1,-1))[0][0]\n",
    "\n",
    "# = sum(|x - y| / (|x| + |y|))\n",
    "def canberra_dist(A, B):\n",
    "    return DistanceMetric.get_metric('canberra').pairwise(A.reshape(1,-1), B.reshape(1,-1))[0][0]\n",
    "\n",
    "# = sum(|x - y|) / (sum(|x|) + sum(|y|))\n",
    "def braycurtis_dist(A, B):\n",
    "    return DistanceMetric.get_metric('braycurtis').pairwise(A.reshape(1,-1), B.reshape(1,-1))[0][0]\n",
    "    \n",
    "\n",
    "class MultiKNN(object):\n",
    "    def __init__(self, k, topK, distance_func = 'euclidean'):\n",
    "        self.k=k\n",
    "        self.topK=topK\n",
    "        self.distance_func = self.distance(distance_func)\n",
    "        \n",
    "    def fit(self, train_X, train_Y):\n",
    "        self.train_X = train_X\n",
    "        self.train_Y = train_Y\n",
    "        \n",
    "    def predict(self, test_X):\n",
    "        dist_arr = np.array([])\n",
    "        self.predictions = np.array([])\n",
    "        for i in range(len(test_X)):\n",
    "            for j in range(len(self.train_X)):\n",
    "                dist_arr = np.append(dist_arr, self.distance_func(self.train_X[j], test_X[i]))\n",
    "        \n",
    "            print(dist_arr)\n",
    "            inds = np.argsort(dist_arr)[:self.k]\n",
    "            #print(inds)\n",
    "            #print(self.train_Y[inds])\n",
    "            #print(np.sum(self.train_Y[inds]))\n",
    "            #print(np.sum(self.train_Y[inds], axis=0))\n",
    "            counts = np.sum(self.train_Y[inds], axis=0)//np.sum(self.train_Y[inds])\n",
    "            print(counts)\n",
    "            new_inds = np.argsort(counts)[::-1][:self.topK]\n",
    "            test_Y = np.zeros(self.train_Y[0].shape)\n",
    "            test_Y[new_inds] = 1\n",
    "            self.predictions = np.append(self.predictions, np.array([test_Y]))\n",
    "            dist_arr = np.array([])\n",
    "        self.predictions.shape = (len(test_X), len(self.train_Y[0]))\n",
    "        return self.predictions\n",
    "    \n",
    "    def distance(self, name):\n",
    "        \n",
    "        if name.lower() == 'cosine':\n",
    "            return cosine_sim\n",
    "        \n",
    "        elif name.lower() == 'hamming':\n",
    "            return hamming_dist\n",
    "        \n",
    "        elif name.lower() == 'canberra':\n",
    "            return canberra_dist\n",
    "        \n",
    "        elif name.lower() == 'braycurtis':\n",
    "            return braycurtis_dist\n",
    "        \n",
    "        else:\n",
    "            return euclidean_dist\n",
    "    \n",
    "    def metrics(self):\n",
    "        return None\n",
    "        \n",
    "    def predict_names(self):\n",
    "        return None\n",
    "        \n",
    "            "
   ]
  },
  {
   "cell_type": "code",
   "execution_count": 45,
   "metadata": {},
   "outputs": [
    {
     "data": {
      "text/plain": [
       "array([0, 0, 0, 0, 0, 0, 0, 0, 0, 0, 0, 0, 0, 0, 0, 0, 0, 0, 0, 0, 0, 0,\n",
       "       0, 0, 0, 0, 0, 0, 0, 0, 0, 0, 0, 0, 0, 0, 0, 0, 0, 0, 0, 0, 0, 0,\n",
       "       0, 0, 0, 0, 0, 0, 0, 0, 0, 0, 0, 0, 0, 0, 0, 0, 0, 0, 0, 0, 0, 0,\n",
       "       0, 0, 0, 0, 0, 0, 0, 0, 0, 0, 0, 0, 0, 0, 0, 0, 1, 1, 0, 0, 0, 0,\n",
       "       0, 0, 0, 0, 0, 0, 0, 0, 0, 0, 0, 0, 0, 0, 0, 0, 0, 0, 0, 0, 0, 0,\n",
       "       0, 0, 0, 0, 0, 0, 0, 0, 0, 0, 0, 0, 0, 0, 0, 0, 0, 0, 0, 0, 0, 0,\n",
       "       0, 0, 0, 0, 0, 1, 1, 0, 0, 0, 0, 0, 0, 0, 0, 0, 0, 0, 0, 0, 0, 0,\n",
       "       0, 0, 0, 0, 0, 0, 0, 0, 0, 0, 0, 0, 0, 0, 1, 0, 0, 1, 0, 0, 0, 0,\n",
       "       0, 0, 0, 0, 0, 0, 0, 0, 0, 0, 0, 0, 0, 0, 0, 0, 0, 0, 0, 0, 0, 0,\n",
       "       0, 0, 0, 0, 0, 0, 0, 0, 0, 0, 0, 0, 0, 0, 0, 0, 0, 0, 0, 0, 0, 0,\n",
       "       0, 0, 0, 0, 0, 0, 0, 0, 0, 0, 0, 0, 0, 0, 0, 0, 0, 0, 0, 0, 0, 0,\n",
       "       0, 0, 0, 0, 0, 0, 0, 0, 0, 0, 0, 0, 0, 0, 0, 0, 0, 0, 0, 0, 0, 0,\n",
       "       0, 0, 0, 0, 0, 0, 0, 0, 0, 0, 0, 0, 0, 0, 0, 0, 0, 0, 0, 0, 0, 0,\n",
       "       0, 0, 0, 0, 0, 0, 0, 0, 0, 0, 0, 0, 0, 0, 0, 0, 0, 0, 0, 0, 1, 1,\n",
       "       0, 0, 0, 0, 0, 0, 0, 0, 0, 0, 0, 0, 0, 0, 0, 0, 0, 0, 0, 0, 0, 0,\n",
       "       0, 0, 0, 0, 0, 0, 0, 0, 0, 0, 0, 0, 0, 0, 0, 0, 0, 0, 0, 0, 0, 0,\n",
       "       0, 0, 0, 0, 0, 0, 0, 0, 0, 0, 0, 0, 0, 0, 0, 0, 0, 0, 1, 1, 0, 0,\n",
       "       0, 0, 0, 0, 0, 0, 0, 0, 0, 0, 0, 0, 0, 0, 0, 0, 1, 0, 0, 0, 0, 0,\n",
       "       0, 0, 0, 0, 0, 0, 0, 0, 0, 0, 0, 0, 0, 0, 0, 0, 1, 1, 0, 0, 1, 1,\n",
       "       0, 0, 0, 0, 0, 0, 0, 0, 0, 0, 0, 0, 0, 0, 0, 0, 0, 0, 0, 0, 0, 0,\n",
       "       0, 0, 0, 0, 0, 0, 0, 0, 0, 0, 0, 0, 0, 0, 0, 0, 0, 0, 0, 0, 0, 0])"
      ]
     },
     "execution_count": 45,
     "metadata": {},
     "output_type": "execute_result"
    }
   ],
   "source": [
    "arr = train_bow_bio.toarray()\n",
    "arr[0]"
   ]
  },
  {
   "cell_type": "code",
   "execution_count": 46,
   "metadata": {},
   "outputs": [
    {
     "data": {
      "text/plain": [
       "3.7416573867739413"
      ]
     },
     "execution_count": 46,
     "metadata": {},
     "output_type": "execute_result"
    }
   ],
   "source": [
    "euclidean_distances(arr[0].reshape(1,-11), arr[1].reshape(1,-1))[0][0]"
   ]
  },
  {
   "cell_type": "code",
   "execution_count": 47,
   "metadata": {},
   "outputs": [
    {
     "data": {
      "text/plain": [
       "array([1, 1, 1, 1, 1, 1, 1, 1, 1, 1, 1, 1, 1, 1, 1, 1, 1, 1, 1, 1, 1, 1,\n",
       "       1, 1, 1, 1, 1, 1, 1, 1, 1, 2, 1, 1, 3, 1, 1, 1, 4, 1, 1, 1, 1, 1,\n",
       "       1, 1, 1, 3, 1, 1, 1, 1, 3, 1, 1, 1, 1, 1, 8, 1, 1, 1, 1, 1, 1, 1,\n",
       "       2, 1, 1, 1, 1, 1, 1, 1, 1, 1, 1, 1, 1, 1, 1, 1, 1, 1, 4, 1, 1, 1,\n",
       "       1, 1, 1, 1, 1, 1, 1, 1, 1, 2, 1, 1, 1, 1, 1, 1, 1, 1, 1, 1, 1, 1,\n",
       "       1, 1, 1, 1, 1, 1, 1, 1, 1, 1, 2, 1, 1, 1, 1, 1, 2, 1, 1, 1, 1, 1,\n",
       "       1, 1, 1, 1, 1, 4, 1, 1, 1, 1, 1, 1, 1, 1, 1, 1, 1, 1, 1, 1, 2, 1,\n",
       "       1, 1, 1, 3, 1, 1, 1, 1, 1, 2, 1, 1, 1, 1, 5, 1, 2, 1, 1, 1, 1, 1,\n",
       "       1, 1, 1, 1, 1, 1, 1, 1, 1, 1, 1, 1, 1, 1, 1, 1, 1, 1, 1, 1, 1, 1,\n",
       "       1, 1, 1, 1, 1, 1, 1, 1, 1, 1, 1, 1, 1, 1, 1, 1, 1, 2, 1, 1, 1, 1,\n",
       "       1, 1, 1, 1, 2, 1, 1, 1, 1, 1, 1, 1, 1, 2, 2, 1, 1, 1, 1, 2, 1, 1,\n",
       "       2, 1, 1, 1, 1, 1, 1, 2, 1, 1, 1, 1, 1, 1, 1, 1, 1, 1, 4, 1, 1, 1,\n",
       "       1, 1, 1, 1, 1, 1, 1, 1, 1, 1, 1, 1, 1, 1, 1, 1, 1, 1, 1, 1, 1, 1,\n",
       "       1, 1, 1, 1, 1, 1, 1, 1, 2, 1, 1, 1, 1, 1, 1, 2, 1, 1, 1, 1, 2, 1,\n",
       "       1, 1, 1, 1, 1, 1, 1, 1, 1, 1, 1, 1, 1, 1, 1, 1, 1, 1, 1, 1, 1, 1,\n",
       "       1, 1, 1, 2, 1, 1, 1, 1, 1, 1, 1, 1, 1, 1, 1, 1, 1, 1, 2, 1, 1, 1,\n",
       "       1, 1, 1, 1, 1, 1, 1, 1, 1, 3, 1, 1, 1, 2, 1, 1, 1, 1, 2, 1, 1, 2,\n",
       "       2, 1, 1, 3, 1, 1, 1, 1, 1, 1, 1, 1, 3, 1, 1, 1, 4, 1, 1, 1, 1, 1,\n",
       "       1, 1, 1, 1, 1, 1, 1, 1, 1, 4, 1, 1, 1, 1, 1, 1, 1, 1, 1, 1, 1, 1,\n",
       "       1, 1, 1, 1, 1, 1, 1, 1, 1, 1, 4, 1, 1, 1, 1, 2, 1, 1, 1, 1, 1, 1,\n",
       "       2, 1, 1, 1, 1, 1, 1, 7, 1, 1, 1, 1, 1, 1, 1, 1, 1, 4, 1, 1, 1, 1])"
      ]
     },
     "execution_count": 47,
     "metadata": {},
     "output_type": "execute_result"
    }
   ],
   "source": [
    "np.sum(arr, axis=0)"
   ]
  },
  {
   "cell_type": "code",
   "execution_count": 48,
   "metadata": {},
   "outputs": [
    {
     "name": "stdout",
     "output_type": "stream",
     "text": [
      "[ 3.87298335  1.          6.8556546   7.93725393  4.79583152  8.66025404\n",
      "  6.70820393  5.19615242 10.90871211  2.64575131 11.09053651  5.56776436\n",
      "  4.12310563]\n",
      "[0 0 0 1 1 0 0 0 0 0 1 0 0 0 0 1 0 0 0 0 0 0 0 0 0 0 1 0 0 0 0 0 0 0 0 0 1\n",
      " 1 0 0]\n",
      "[ 4.24264069  2.44948974  7.21110255  8.24621125  5.29150262  8.71779789\n",
      "  6.32455532  5.65685425 10.95445115  3.46410162 11.13552873  6.\n",
      "  4.69041576]\n",
      "[0 0 0 1 1 0 0 0 0 0 1 0 0 0 0 1 0 0 0 0 0 0 0 0 0 0 1 0 0 0 0 0 0 0 0 0 1\n",
      " 1 0 0]\n",
      "[ 4.35889894  2.23606798  7.41619849  8.30662386  5.56776436  9.11043358\n",
      "  7.28010989  5.74456265 11.18033989  2.64575131 10.81665383  6.244998\n",
      "  4.58257569]\n",
      "[0 0 0 1 1 0 0 0 0 0 1 0 0 0 0 1 0 0 0 0 0 0 0 0 0 0 1 0 0 0 0 0 0 0 0 0 1\n",
      " 1 0 0]\n",
      "[ 7.14142843  6.55743852  8.54400375  9.53939201  7.93725393 10.34408043\n",
      "  8.54400375  8.06225775 12.20655562  6.55743852 11.78982612  8.54400375\n",
      "  7.54983444]\n",
      "[0 0 0 1 1 0 0 0 0 0 1 0 0 0 0 1 0 0 0 0 0 0 0 0 0 0 1 0 0 0 0 0 0 0 0 0 1\n",
      " 1 0 0]\n",
      "[ 4.12310563  1.73205081  6.8556546   8.06225775  5.          8.54400375\n",
      "  6.70820393  5.19615242 11.          3.         11.18033989  5.74456265\n",
      "  4.35889894]\n",
      "[0 0 0 1 1 0 0 0 0 0 1 0 0 0 0 1 0 0 0 0 0 0 0 0 0 0 1 0 0 0 0 0 0 0 0 0 1\n",
      " 1 0 0]\n",
      "[ 5.09901951  3.46410162  7.07106781  8.1240384   5.65685425  8.71779789\n",
      "  7.34846923  6.         11.13552873  4.         11.3137085   6.4807407\n",
      "  5.29150262]\n",
      "[0 0 0 1 1 0 0 0 0 0 1 0 0 0 0 1 0 0 0 0 0 0 0 0 0 0 1 0 0 0 0 0 0 0 0 0 1\n",
      " 1 0 0]\n",
      "[ 4.69041576  2.82842712  7.07106781  8.          5.29150262  8.71779789\n",
      "  6.63324958  5.47722558 11.13552873  3.74165739 11.13552873  5.83095189\n",
      "  4.89897949]\n",
      "[0 0 0 1 1 0 0 0 0 0 1 0 0 0 0 1 0 0 0 0 0 0 0 0 0 0 1 0 0 0 0 0 0 0 0 0 1\n",
      " 1 0 0]\n",
      "[ 4.58257569  2.64575131  7.          8.06225775  5.          8.54400375\n",
      "  6.40312424  5.38516481 11.09053651  3.60555128 11.          6.08276253\n",
      "  4.79583152]\n",
      "[0 0 0 1 1 0 0 0 0 0 1 0 0 0 0 1 0 0 0 0 0 0 0 0 0 0 1 0 0 0 0 0 0 0 0 0 1\n",
      " 1 0 0]\n",
      "[ 4.79583152  3.31662479  7.54983444  8.18535277  5.56776436  9.11043358\n",
      "  7.28010989  6.08276253 11.09053651  4.12310563 11.44552314  6.244998\n",
      "  5.19615242]\n",
      "[0 0 0 1 1 0 0 0 0 0 1 0 0 0 0 1 0 0 0 0 0 0 0 0 0 0 1 0 0 0 0 0 0 0 0 0 1\n",
      " 1 0 0]\n",
      "[ 4.58257569  2.64575131  6.70820393  7.93725393  5.          9.11043358\n",
      "  7.          5.38516481 10.90871211  3.60555128 11.18033989  6.244998\n",
      "  4.79583152]\n",
      "[0 0 0 1 1 0 0 0 0 0 1 0 0 0 0 1 0 0 0 0 0 0 0 0 0 0 1 0 0 0 0 0 0 0 0 0 1\n",
      " 1 0 0]\n",
      "Predicted Labels: ['Chief executive officer' 'Entrepreneur support organization'\n",
      " 'Middle startup experience' 'Software' 'Technology'] True Labels: ['No startup experience']\n",
      "Predicted Labels: ['Chief executive officer' 'Entrepreneur support organization'\n",
      " 'Middle startup experience' 'Software' 'Technology'] True Labels: ['Middle startup experience']\n",
      "Predicted Labels: ['Chief executive officer' 'Entrepreneur support organization'\n",
      " 'Middle startup experience' 'Software' 'Technology'] True Labels: ['Charity' 'Chief executive officer' 'Faith' 'Generosity']\n",
      "Predicted Labels: ['Chief executive officer' 'Entrepreneur support organization'\n",
      " 'Middle startup experience' 'Software' 'Technology'] True Labels: ['Chief executive officer' 'Deep startup experience' 'Healthcare'\n",
      " 'International business']\n",
      "Predicted Labels: ['Chief executive officer' 'Entrepreneur support organization'\n",
      " 'Middle startup experience' 'Software' 'Technology'] True Labels: ['Digital media' 'Shallow startup experience' 'Videography']\n",
      "Predicted Labels: ['Chief executive officer' 'Entrepreneur support organization'\n",
      " 'Middle startup experience' 'Software' 'Technology'] True Labels: ['Software' 'Technology']\n",
      "Predicted Labels: ['Chief executive officer' 'Entrepreneur support organization'\n",
      " 'Middle startup experience' 'Software' 'Technology'] True Labels: ['Marketing ' 'Sales']\n",
      "Predicted Labels: ['Chief executive officer' 'Entrepreneur support organization'\n",
      " 'Middle startup experience' 'Software' 'Technology'] True Labels: ['Deep startup experience' 'Medical technology' 'Technology']\n",
      "Predicted Labels: ['Chief executive officer' 'Entrepreneur support organization'\n",
      " 'Middle startup experience' 'Software' 'Technology'] True Labels: ['Deep startup experience' 'Faith' 'Recruiting']\n",
      "Predicted Labels: ['Chief executive officer' 'Entrepreneur support organization'\n",
      " 'Middle startup experience' 'Software' 'Technology'] True Labels: ['Business' 'Coffee' 'Consulting' 'Skincare']\n"
     ]
    },
    {
     "name": "stderr",
     "output_type": "stream",
     "text": [
      "<ipython-input-44-db1ea95d5ac4>:45: RuntimeWarning: divide by zero encountered in floor_divide\n",
      "  counts = np.sum(self.train_Y[inds], axis=0)//np.sum(self.train_Y[inds])\n",
      "<ipython-input-44-db1ea95d5ac4>:45: RuntimeWarning: divide by zero encountered in floor_divide\n",
      "  counts = np.sum(self.train_Y[inds], axis=0)//np.sum(self.train_Y[inds])\n",
      "<ipython-input-44-db1ea95d5ac4>:45: RuntimeWarning: divide by zero encountered in floor_divide\n",
      "  counts = np.sum(self.train_Y[inds], axis=0)//np.sum(self.train_Y[inds])\n",
      "<ipython-input-44-db1ea95d5ac4>:45: RuntimeWarning: divide by zero encountered in floor_divide\n",
      "  counts = np.sum(self.train_Y[inds], axis=0)//np.sum(self.train_Y[inds])\n",
      "<ipython-input-44-db1ea95d5ac4>:45: RuntimeWarning: divide by zero encountered in floor_divide\n",
      "  counts = np.sum(self.train_Y[inds], axis=0)//np.sum(self.train_Y[inds])\n",
      "<ipython-input-44-db1ea95d5ac4>:45: RuntimeWarning: divide by zero encountered in floor_divide\n",
      "  counts = np.sum(self.train_Y[inds], axis=0)//np.sum(self.train_Y[inds])\n",
      "<ipython-input-44-db1ea95d5ac4>:45: RuntimeWarning: divide by zero encountered in floor_divide\n",
      "  counts = np.sum(self.train_Y[inds], axis=0)//np.sum(self.train_Y[inds])\n",
      "<ipython-input-44-db1ea95d5ac4>:45: RuntimeWarning: divide by zero encountered in floor_divide\n",
      "  counts = np.sum(self.train_Y[inds], axis=0)//np.sum(self.train_Y[inds])\n",
      "<ipython-input-44-db1ea95d5ac4>:45: RuntimeWarning: divide by zero encountered in floor_divide\n",
      "  counts = np.sum(self.train_Y[inds], axis=0)//np.sum(self.train_Y[inds])\n",
      "<ipython-input-44-db1ea95d5ac4>:45: RuntimeWarning: divide by zero encountered in floor_divide\n",
      "  counts = np.sum(self.train_Y[inds], axis=0)//np.sum(self.train_Y[inds])\n"
     ]
    }
   ],
   "source": [
    "# Original model with poor distance function of euclidean distance (for this limited sample size there may\n",
    "# be three vectors [0,1,0], [1,0,0], [0,0,1] all these three will have the same euclidean distance of 1 when \n",
    "# they may be drastically different I have since updated the model framework to work with a variety of \n",
    "# distance functions)\n",
    "\n",
    "model = MultiKNN(4, 5)\n",
    "\n",
    "model.fit(train_bow_bio.toarray(), df_train[\"Bio Encoded Labels\"].to_numpy())\n",
    "\n",
    "pred_Y = model.predict(test_bow_bio.toarray())\n",
    "\n",
    "for i in range(pred_Y.shape[0]):\n",
    "    inds_pred = np.where(pred_Y[i] == 1)\n",
    "    inds_true = np.where(df_test[\"Bio Encoded Labels\"].to_numpy()[i] == 1)\n",
    "    print(f'Predicted Labels: {bio_unique[inds_pred]}', f'True Labels: {bio_unique[inds_true]}')"
   ]
  },
  {
   "cell_type": "code",
   "execution_count": 109,
   "metadata": {},
   "outputs": [
    {
     "name": "stdout",
     "output_type": "stream",
     "text": [
      "[0.06111323 0.08893282 0.21693046 0.18077538 0.15949044 0.\n",
      " 0.04356068 0.         0.         0.1093435  0.10613237 0.\n",
      " 0.        ]\n",
      "[0 0 1 1 1 0 0 0 0 0 1 0 0 0 0 1 1 0 1 0 0 0 0 0 0 0 1 0 0 0 0 0 0 0 0 0 1\n",
      " 1 0 0]\n",
      "[0.16798421 0.12222647 0.         0.1490712  0.16439899 0.08084521\n",
      " 0.         0.09335201 0.12598816 0.09016696 0.24310832 0.0860663\n",
      " 0.        ]\n",
      "[1 0 0 0 0 0 0 0 0 0 0 0 0 0 0 1 0 0 0 0 0 0 0 1 0 0 1 0 1 0 0 0 1 0 1 0 0\n",
      " 0 0 0]\n",
      "[0.10101525 0.07349939 0.5976143  0.03984095 0.21968739 0.\n",
      " 0.09600307 0.         0.         0.12049067 0.11695218 0.06900656\n",
      " 0.        ]\n",
      "[0 0 1 1 0 0 0 0 0 0 0 0 0 0 0 1 1 0 1 0 0 0 0 0 0 0 1 0 1 0 0 0 0 0 0 0 1\n",
      " 1 0 0]\n",
      "[0.         0.         0.         0.         0.         0.\n",
      " 0.         0.         0.         0.         0.14586499 0.\n",
      " 0.        ]\n",
      "[0 0 0 0 0 0 0 1 1 0 0 0 0 0 0 0 0 0 0 1 0 0 0 0 0 0 1 1 0 0 0 0 0 0 0 0 1\n",
      " 1 1 0]\n",
      "[0.11952286 0.08696566 0.         0.         0.         0.\n",
      " 0.05679618 0.04428074 0.         0.0285133  0.         0.08164966\n",
      " 0.        ]\n",
      "[0 0 0 0 0 0 0 0 0 0 1 0 0 0 0 1 0 0 0 0 0 0 0 0 0 1 1 0 0 0 0 0 0 0 0 0 1\n",
      " 1 0 0]\n",
      "[0.06299408 0.13750477 0.         0.0745356  0.16439899 0.\n",
      " 0.         0.         0.         0.09016696 0.14586499 0.\n",
      " 0.        ]\n",
      "[1 0 1 1 0 0 0 0 0 0 0 0 0 0 0 1 1 0 1 0 0 0 0 1 0 0 1 0 0 0 0 0 1 0 1 0 0\n",
      " 0 0 0]\n",
      "[0.13295401 0.0829185  0.26967994 0.08989331 0.14870448 0.03656362\n",
      " 0.         0.10555008 0.17094086 0.17671136 0.1759198  0.11677484\n",
      " 0.        ]\n",
      "[1 0 0 0 0 0 0 1 0 0 0 0 0 0 0 1 0 0 0 1 0 0 0 1 0 0 0 1 1 0 0 0 1 0 1 0 0\n",
      " 0 0 0]\n",
      "[0.14285714 0.17323973 0.         0.05634362 0.12427395 0.09166985\n",
      " 0.         0.05292561 0.         0.06815982 0.11026357 0.19518001\n",
      " 0.        ]\n",
      "[1 0 0 1 0 0 0 0 0 0 0 0 0 0 0 0 0 0 0 0 0 0 0 1 0 0 1 0 1 0 0 0 1 0 1 0 1\n",
      " 1 0 0]\n",
      "[0.         0.         0.         0.         0.         0.24253563\n",
      " 0.         0.28005602 0.37796447 0.09016696 0.         0.25819889\n",
      " 0.        ]\n",
      "[0 0 0 0 0 0 0 1 1 0 0 0 0 0 0 0 0 0 0 1 0 0 0 0 0 0 1 1 0 0 0 0 0 0 0 0 1\n",
      " 1 1 0]\n",
      "[0.14285714 0.03464795 0.16903085 0.05634362 0.12427395 0.\n",
      " 0.13576885 0.05292561 0.         0.10223973 0.11026357 0.\n",
      " 0.        ]\n",
      "[0 0 0 1 1 0 0 0 0 0 1 0 0 0 0 1 0 0 0 0 0 0 0 0 0 0 1 0 1 0 0 0 0 0 0 0 1\n",
      " 1 0 0]\n",
      "Predicted Labels: ['Deep startup experience' 'Faith' 'Generosity' 'Software' 'Technology'] True Labels: ['Clothing' 'Sewing' 'Shallow startup experience']\n",
      "Predicted Labels: ['Auto detailing' 'Marketing' 'Middle startup experience' 'Sales'\n",
      " 'Shallow startup experience'] True Labels: ['Business' 'Coffee' 'Consulting' 'Skincare']\n",
      "Predicted Labels: ['Chief executive officer' 'Entrepreneur support organization' 'Faith'\n",
      " 'Middle startup experience' 'No startup experience'] True Labels: ['Deep startup experience' 'Entertainment' 'Finance' 'Law' 'Marketing'\n",
      " 'Medical technology' 'Renewable energy' 'Sales' 'Technology']\n",
      "Predicted Labels: ['College entrepreneurship' 'Geospatial analysis'\n",
      " 'Middle startup experience' 'Minimum viable product' 'Video game'] True Labels: ['Digital media' 'Shallow startup experience' 'Videography']\n",
      "Predicted Labels: ['Deep startup experience' 'Entrepreneur support organization'\n",
      " 'Medical technology' 'Software' 'Technology'] True Labels: ['Deep startup experience' 'Faith' 'Recruiting']\n",
      "Predicted Labels: ['Auto detailing' 'Entrepreneur support organization' 'Marketing'\n",
      " 'Middle startup experience' 'Sales'] True Labels: ['E-commerce' 'Education' 'Middle startup experience']\n",
      "Predicted Labels: ['College entrepreneurship' 'Entrepreneur support organization'\n",
      " 'Geospatial analysis' 'Marketing' 'Sales'] True Labels: ['Chief executive officer' 'Deep startup experience' 'Healthcare'\n",
      " 'International business']\n",
      "Predicted Labels: ['Auto detailing' 'Chief executive officer' 'Marketing'\n",
      " 'Middle startup experience' 'Sales'] True Labels: ['Middle startup experience']\n",
      "Predicted Labels: ['College entrepreneurship' 'Geospatial analysis'\n",
      " 'Middle startup experience' 'Minimum viable product' 'Video game'] True Labels: ['Middle startup experience']\n",
      "Predicted Labels: ['Entrepreneur support organization' 'Middle startup experience'\n",
      " 'No startup experience' 'Software' 'Technology'] True Labels: ['Marketing ' 'Sales']\n"
     ]
    },
    {
     "name": "stderr",
     "output_type": "stream",
     "text": [
      "<ipython-input-107-db1ea95d5ac4>:45: RuntimeWarning: divide by zero encountered in floor_divide\n",
      "  counts = np.sum(self.train_Y[inds], axis=0)//np.sum(self.train_Y[inds])\n"
     ]
    }
   ],
   "source": [
    "#Trying with cosine (recommended for sparse vectors)\n",
    "\n",
    "model = MultiKNN(4, 5, 'cosine')\n",
    "\n",
    "model.fit(train_bow_bio.toarray(), df_train[\"Bio Encoded Labels\"].to_numpy())\n",
    "\n",
    "pred_Y = model.predict(test_bow_bio.toarray())\n",
    "\n",
    "for i in range(pred_Y.shape[0]):\n",
    "    inds_pred = np.where(pred_Y[i] == 1)\n",
    "    inds_true = np.where(df_test[\"Bio Encoded Labels\"].to_numpy()[i] == 1)\n",
    "    print(f'Predicted Labels: {bio_unique[inds_pred]}', f'True Labels: {bio_unique[inds_true]}')"
   ]
  },
  {
   "cell_type": "code",
   "execution_count": 110,
   "metadata": {},
   "outputs": [
    {
     "name": "stdout",
     "output_type": "stream",
     "text": [
      "[0.15124153 0.24153499 0.03386005 0.10383747 0.09029345 0.06320542\n",
      " 0.09029345 0.12641084 0.04063205 0.22799097 0.11060948 0.05869074\n",
      " 0.02708804]\n",
      "[0 0 0 1 1 0 0 0 0 0 1 0 0 0 0 0 0 0 0 0 0 0 0 0 0 0 1 0 1 0 0 0 0 0 0 0 1\n",
      " 1 0 0]\n",
      "[0.14446953 0.23024831 0.0248307  0.10158014 0.08352144 0.04740406\n",
      " 0.08352144 0.11286682 0.0248307  0.21896163 0.09706546 0.04288939\n",
      " 0.01580135]\n",
      "[0 0 0 1 1 0 0 0 0 0 1 0 0 0 0 0 0 0 0 0 0 0 0 0 0 0 1 0 1 0 0 0 0 0 0 0 1\n",
      " 1 0 0]\n",
      "[0.14672686 0.23250564 0.01354402 0.11512415 0.08577878 0.06320542\n",
      " 0.08577878 0.12641084 0.04063205 0.22121896 0.11060948 0.05417607\n",
      " 0.02708804]\n",
      "[0 0 0 1 1 0 0 0 0 0 1 0 0 0 0 0 0 0 0 0 0 0 0 0 0 0 1 0 1 0 0 0 0 0 0 0 1\n",
      " 1 0 0]\n",
      "[0.13769752 0.2234763  0.01354402 0.09706546 0.07900677 0.04063205\n",
      " 0.07223476 0.10383747 0.01805869 0.21444695 0.09029345 0.03611738\n",
      " 0.00451467]\n",
      "[0 0 0 1 1 0 0 0 0 0 1 0 0 0 0 0 0 0 0 0 0 0 0 0 0 0 1 0 1 0 0 0 0 0 0 0 1\n",
      " 1 0 0]\n",
      "[0.14446953 0.23024831 0.02708804 0.11060948 0.09255079 0.05417607\n",
      " 0.08126411 0.11286682 0.03160271 0.2234763  0.10835214 0.04514673\n",
      " 0.01805869]\n",
      "[0 0 0 1 1 0 0 0 0 0 1 0 0 0 0 0 0 0 0 0 0 0 0 0 0 0 1 0 1 0 0 0 0 0 0 0 1\n",
      " 1 0 0]\n",
      "[0.13995485 0.2234763  0.02031603 0.0993228  0.07674944 0.04740406\n",
      " 0.07900677 0.11060948 0.0248307  0.21218962 0.0993228  0.04288939\n",
      " 0.01128668]\n",
      "[0 0 0 1 1 0 0 0 0 0 1 0 0 0 0 0 0 0 0 0 0 0 0 0 0 0 1 0 1 0 0 0 0 0 0 0 1\n",
      " 1 0 0]\n",
      "[0.15801354 0.25507901 0.05417607 0.1241535  0.11060948 0.08126411\n",
      " 0.11738149 0.13769752 0.06094808 0.23927765 0.11738149 0.0744921\n",
      " 0.0496614 ]\n",
      "[0 0 0 1 1 0 0 0 0 0 1 0 0 0 0 0 0 0 0 0 0 0 0 0 0 0 1 0 1 0 0 0 0 0 0 0 1\n",
      " 1 0 0]\n",
      "[0.13769752 0.22121896 0.02708804 0.10609481 0.08352144 0.0496614\n",
      " 0.08577878 0.11286682 0.03160271 0.21896163 0.10609481 0.04063205\n",
      " 0.01805869]\n",
      "[0 0 0 1 1 0 0 0 0 0 1 0 0 0 0 0 0 0 0 0 0 0 0 0 0 0 1 0 1 0 0 0 0 0 0 0 1\n",
      " 1 0 0]\n",
      "[0.13769752 0.2234763  0.01354402 0.09706546 0.07900677 0.03611738\n",
      " 0.07223476 0.10158014 0.01354402 0.20993228 0.09480813 0.03160271\n",
      " 0.00451467]\n",
      "[0 0 0 1 1 0 0 0 0 0 1 0 0 0 0 0 0 0 0 0 0 0 0 0 0 0 1 0 1 0 0 0 0 0 0 0 1\n",
      " 1 0 0]\n",
      "[0.13769752 0.23250564 0.02257336 0.10609481 0.08352144 0.05417607\n",
      " 0.07674944 0.11286682 0.03160271 0.21444695 0.10609481 0.0496614\n",
      " 0.01805869]\n",
      "[0 0 0 1 1 0 0 0 0 0 1 0 0 0 0 0 0 0 0 0 0 0 0 0 0 0 1 0 1 0 0 0 0 0 0 0 1\n",
      " 1 0 0]\n",
      "Predicted Labels: ['Chief executive officer' 'Middle startup experience'\n",
      " 'No startup experience' 'Software' 'Technology'] True Labels: ['Clothing' 'Sewing' 'Shallow startup experience']\n",
      "Predicted Labels: ['Chief executive officer' 'Middle startup experience'\n",
      " 'No startup experience' 'Software' 'Technology'] True Labels: ['Business' 'Coffee' 'Consulting' 'Skincare']\n",
      "Predicted Labels: ['Chief executive officer' 'Middle startup experience'\n",
      " 'No startup experience' 'Software' 'Technology'] True Labels: ['Deep startup experience' 'Entertainment' 'Finance' 'Law' 'Marketing'\n",
      " 'Medical technology' 'Renewable energy' 'Sales' 'Technology']\n",
      "Predicted Labels: ['Chief executive officer' 'Middle startup experience'\n",
      " 'No startup experience' 'Software' 'Technology'] True Labels: ['Digital media' 'Shallow startup experience' 'Videography']\n",
      "Predicted Labels: ['Chief executive officer' 'Middle startup experience'\n",
      " 'No startup experience' 'Software' 'Technology'] True Labels: ['Deep startup experience' 'Faith' 'Recruiting']\n",
      "Predicted Labels: ['Chief executive officer' 'Middle startup experience'\n",
      " 'No startup experience' 'Software' 'Technology'] True Labels: ['E-commerce' 'Education' 'Middle startup experience']\n",
      "Predicted Labels: ['Chief executive officer' 'Middle startup experience'\n",
      " 'No startup experience' 'Software' 'Technology'] True Labels: ['Chief executive officer' 'Deep startup experience' 'Healthcare'\n",
      " 'International business']\n",
      "Predicted Labels: ['Chief executive officer' 'Middle startup experience'\n",
      " 'No startup experience' 'Software' 'Technology'] True Labels: ['Middle startup experience']\n",
      "Predicted Labels: ['Chief executive officer' 'Middle startup experience'\n",
      " 'No startup experience' 'Software' 'Technology'] True Labels: ['Middle startup experience']\n",
      "Predicted Labels: ['Chief executive officer' 'Middle startup experience'\n",
      " 'No startup experience' 'Software' 'Technology'] True Labels: ['Marketing ' 'Sales']\n"
     ]
    },
    {
     "name": "stderr",
     "output_type": "stream",
     "text": [
      "<ipython-input-107-db1ea95d5ac4>:45: RuntimeWarning: divide by zero encountered in floor_divide\n",
      "  counts = np.sum(self.train_Y[inds], axis=0)//np.sum(self.train_Y[inds])\n"
     ]
    }
   ],
   "source": [
    "model = MultiKNN(4, 5, 'hamming')\n",
    "\n",
    "model.fit(train_bow_bio.toarray(), df_train[\"Bio Encoded Labels\"].to_numpy())\n",
    "\n",
    "pred_Y = model.predict(test_bow_bio.toarray())\n",
    "\n",
    "for i in range(pred_Y.shape[0]):\n",
    "    inds_pred = np.where(pred_Y[i] == 1)\n",
    "    inds_true = np.where(df_test[\"Bio Encoded Labels\"].to_numpy()[i] == 1)\n",
    "    print(f'Predicted Labels: {bio_unique[inds_pred]}', f'True Labels: {bio_unique[inds_true]}')"
   ]
  },
  {
   "cell_type": "code",
   "execution_count": 111,
   "metadata": {},
   "outputs": [
    {
     "name": "stdout",
     "output_type": "stream",
     "text": [
      "[ 67.         105.66666667  14.33333333  45.33333333  39.33333333\n",
      "  28.          40.          56.          18.          99.66666667\n",
      "  48.33333333  26.          12.        ]\n",
      "[0 0 0 1 1 0 0 0 0 0 1 0 0 0 0 0 0 0 0 0 0 0 0 0 0 0 1 0 1 0 0 0 0 0 0 0 1\n",
      " 1 0 0]\n",
      "[ 62.66666667 100.66666667  11.          44.33333333  36.33333333\n",
      "  21.          37.          49.33333333  11.          96.33333333\n",
      "  43.          19.           7.        ]\n",
      "[0 0 0 1 1 0 0 0 0 0 1 0 0 0 0 0 0 0 0 0 0 0 0 0 0 0 1 0 1 0 0 0 0 0 0 0 1\n",
      " 1 0 0]\n",
      "[ 65.         103.           6.          51.          37.33333333\n",
      "  28.          38.          56.          18.          97.33333333\n",
      "  48.33333333  24.          12.        ]\n",
      "[0 0 0 1 1 0 0 0 0 0 1 0 0 0 0 0 0 0 0 0 0 0 0 0 0 0 1 0 1 0 0 0 0 0 0 0 1\n",
      " 1 0 0]\n",
      "[61. 99.  6. 43. 35. 18. 32. 46.  8. 95. 40. 16.  2.]\n",
      "[0 0 0 1 1 0 0 0 0 0 1 0 0 0 0 0 0 0 0 0 0 0 0 0 0 0 1 0 1 0 0 0 0 0 0 0 1\n",
      " 1 0 0]\n",
      "[ 63.33333333 101.33333333  12.          49.          41.\n",
      "  24.          36.          50.          14.          99.\n",
      "  48.          20.           8.        ]\n",
      "[0 0 0 1 1 0 0 0 0 0 1 0 0 0 0 0 0 0 0 0 0 0 0 0 0 0 1 0 1 0 0 0 0 0 0 0 1\n",
      " 1 0 0]\n",
      "[62.         98.33333333  9.         44.         34.         21.\n",
      " 35.         49.         11.         94.         43.33333333 19.\n",
      "  5.        ]\n",
      "[0 0 0 1 1 0 0 0 0 0 1 0 0 0 0 0 0 0 0 0 0 0 0 0 0 0 1 0 1 0 0 0 0 0 0 0 1\n",
      " 1 0 0]\n",
      "[ 69.33333333 111.66666667  22.66666667  55.          47.66666667\n",
      "  36.          52.          60.5         26.5        103.86666667\n",
      "  50.66666667  32.33333333  22.        ]\n",
      "[0 0 0 1 1 0 0 0 0 0 1 0 0 0 0 0 0 0 0 0 0 0 0 0 0 0 1 0 1 0 0 0 0 0 0 0 1\n",
      " 1 0 0]\n",
      "[61.         97.33333333 12.         47.         37.         22.\n",
      " 38.         50.         14.         97.         46.33333333 18.\n",
      "  8.        ]\n",
      "[0 0 0 1 1 0 0 0 0 0 1 0 0 0 0 0 0 0 0 0 0 0 0 0 0 0 1 0 1 0 0 0 0 0 0 0 1\n",
      " 1 0 0]\n",
      "[61.         99.          6.         43.         35.         16.\n",
      " 32.         44.33333333  6.         93.         42.         14.\n",
      "  2.        ]\n",
      "[0 0 0 1 1 0 0 0 0 0 1 0 0 0 0 0 0 0 0 0 0 0 0 0 0 0 1 0 1 0 0 0 0 0 0 0 1\n",
      " 1 0 0]\n",
      "[ 61.         103.          10.          47.          37.\n",
      "  24.          34.          50.          14.          95.\n",
      "  46.33333333  22.           8.        ]\n",
      "[0 0 0 1 1 0 0 0 0 0 1 0 0 0 0 0 0 0 0 0 0 0 0 0 0 0 1 0 1 0 0 0 0 0 0 0 1\n",
      " 1 0 0]\n",
      "Predicted Labels: ['Chief executive officer' 'Middle startup experience'\n",
      " 'No startup experience' 'Software' 'Technology'] True Labels: ['Clothing' 'Sewing' 'Shallow startup experience']\n",
      "Predicted Labels: ['Chief executive officer' 'Middle startup experience'\n",
      " 'No startup experience' 'Software' 'Technology'] True Labels: ['Business' 'Coffee' 'Consulting' 'Skincare']\n",
      "Predicted Labels: ['Chief executive officer' 'Middle startup experience'\n",
      " 'No startup experience' 'Software' 'Technology'] True Labels: ['Deep startup experience' 'Entertainment' 'Finance' 'Law' 'Marketing'\n",
      " 'Medical technology' 'Renewable energy' 'Sales' 'Technology']\n",
      "Predicted Labels: ['Chief executive officer' 'Middle startup experience'\n",
      " 'No startup experience' 'Software' 'Technology'] True Labels: ['Digital media' 'Shallow startup experience' 'Videography']\n",
      "Predicted Labels: ['Chief executive officer' 'Middle startup experience'\n",
      " 'No startup experience' 'Software' 'Technology'] True Labels: ['Deep startup experience' 'Faith' 'Recruiting']\n",
      "Predicted Labels: ['Chief executive officer' 'Middle startup experience'\n",
      " 'No startup experience' 'Software' 'Technology'] True Labels: ['E-commerce' 'Education' 'Middle startup experience']\n",
      "Predicted Labels: ['Chief executive officer' 'Middle startup experience'\n",
      " 'No startup experience' 'Software' 'Technology'] True Labels: ['Chief executive officer' 'Deep startup experience' 'Healthcare'\n",
      " 'International business']\n",
      "Predicted Labels: ['Chief executive officer' 'Middle startup experience'\n",
      " 'No startup experience' 'Software' 'Technology'] True Labels: ['Middle startup experience']\n",
      "Predicted Labels: ['Chief executive officer' 'Middle startup experience'\n",
      " 'No startup experience' 'Software' 'Technology'] True Labels: ['Middle startup experience']\n",
      "Predicted Labels: ['Chief executive officer' 'Middle startup experience'\n",
      " 'No startup experience' 'Software' 'Technology'] True Labels: ['Marketing ' 'Sales']\n"
     ]
    },
    {
     "name": "stderr",
     "output_type": "stream",
     "text": [
      "<ipython-input-107-db1ea95d5ac4>:45: RuntimeWarning: divide by zero encountered in floor_divide\n",
      "  counts = np.sum(self.train_Y[inds], axis=0)//np.sum(self.train_Y[inds])\n"
     ]
    }
   ],
   "source": [
    "model = MultiKNN(4, 5, 'canberra')\n",
    "\n",
    "model.fit(train_bow_bio.toarray(), df_train[\"Bio Encoded Labels\"].to_numpy())\n",
    "\n",
    "pred_Y = model.predict(test_bow_bio.toarray())\n",
    "\n",
    "for i in range(pred_Y.shape[0]):\n",
    "    inds_pred = np.where(pred_Y[i] == 1)\n",
    "    inds_true = np.where(df_test[\"Bio Encoded Labels\"].to_numpy()[i] == 1)\n",
    "    print(f'Predicted Labels: {bio_unique[inds_pred]}', f'True Labels: {bio_unique[inds_true]}')"
   ]
  },
  {
   "cell_type": "code",
   "execution_count": 112,
   "metadata": {},
   "outputs": [
    {
     "name": "stdout",
     "output_type": "stream",
     "text": [
      "[0.94594595 0.96610169 0.88888889 0.85714286 0.875      1.\n",
      " 0.95454545 1.         1.         0.94827586 0.92857143 1.\n",
      " 1.        ]\n",
      "[0 0 0 0 0 0 0 0 0 0 1 1 0 0 0 0 0 0 0 0 0 0 0 0 0 1 1 0 0 1 0 0 0 0 0 0 1\n",
      " 1 0 1]\n",
      "[0.94117647 0.96428571 1.         0.92       0.9047619  0.91666667\n",
      " 1.         0.96296296 0.85714286 0.96363636 0.88       0.90909091\n",
      " 1.        ]\n",
      "[0 0 0 1 1 0 0 0 0 0 1 1 0 0 0 0 0 0 0 0 0 0 0 0 0 1 1 0 0 1 0 0 0 0 0 0 1\n",
      " 1 0 1]\n",
      "[0.91780822 0.94871795 0.41176471 0.96363636 0.82978723 1.\n",
      " 0.90697674 1.         1.         0.93043478 0.92727273 0.92592593\n",
      " 1.        ]\n",
      "[1 0 0 0 0 0 0 0 1 0 1 0 0 0 0 0 0 0 0 0 0 0 0 1 0 1 1 0 0 0 0 0 1 0 1 0 1\n",
      " 1 1 0]\n",
      "[1.         1.         1.         1.         1.         1.\n",
      " 1.         1.         1.         1.         0.95454545 1.\n",
      " 1.        ]\n",
      "[0 0 0 0 0 0 0 1 1 0 0 1 0 0 0 0 0 0 0 1 0 0 0 0 0 0 1 1 0 1 0 0 0 0 0 0 1\n",
      " 1 1 1]\n",
      "[0.94202899 0.96460177 1.         1.         1.         1.\n",
      " 0.94871795 0.96363636 1.         0.98198198 1.         0.91304348\n",
      " 1.        ]\n",
      "[1 0 1 1 1 0 0 0 1 0 1 0 0 0 0 0 1 0 1 0 0 0 0 1 0 0 1 0 0 0 0 0 1 0 1 0 1\n",
      " 1 1 0]\n",
      "[0.96923077 0.96330275 1.         0.95744681 0.8974359  1.\n",
      " 1.         1.         1.         0.96261682 0.95744681 1.\n",
      " 1.        ]\n",
      "[0 0 0 0 0 0 0 0 0 0 1 1 0 0 0 0 0 0 0 0 0 0 1 0 0 1 1 0 0 1 0 0 0 0 0 0 1\n",
      " 1 0 1]\n",
      "[0.86516854 0.93984962 0.87878788 0.88732394 0.87301587 0.95555556\n",
      " 1.         0.92       0.94285714 0.89312977 0.83098592 0.90697674\n",
      " 1.        ]\n",
      "[0 0 0 0 0 0 0 0 1 0 1 1 0 0 0 0 0 0 0 0 0 0 0 0 0 1 1 0 0 1 0 0 0 0 0 0 1\n",
      " 1 1 1]\n",
      "[0.91176471 0.92857143 1.         0.96       0.9047619  0.91666667\n",
      " 1.         0.96296296 1.         0.96363636 0.96       0.81818182\n",
      " 1.        ]\n",
      "[0 0 0 0 1 0 0 0 1 0 1 0 0 0 0 1 0 0 0 0 0 0 0 0 0 1 1 0 0 0 0 0 0 0 0 0 1\n",
      " 1 1 0]\n",
      "[1.         1.         1.         1.         1.         0.88888889\n",
      " 1.         0.95833333 0.75       0.98076923 1.         0.875\n",
      " 1.        ]\n",
      "[0 0 1 1 1 0 0 0 0 0 1 0 0 0 0 1 1 0 1 0 0 0 0 0 0 0 1 0 0 0 0 0 0 0 0 0 1\n",
      " 1 0 0]\n",
      "[0.91176471 0.98214286 0.83333333 0.96       0.9047619  1.\n",
      " 0.89473684 0.96296296 1.         0.94545455 0.96       1.\n",
      " 1.        ]\n",
      "[1 0 0 0 0 0 0 0 1 0 1 0 0 0 0 0 0 0 0 0 0 0 0 1 0 1 1 0 0 0 0 0 1 0 1 0 1\n",
      " 1 1 0]\n",
      "Predicted Labels: ['Digital media' 'Middle startup experience' 'Software' 'Technology'\n",
      " 'Videography'] True Labels: ['Clothing' 'Sewing' 'Shallow startup experience']\n",
      "Predicted Labels: ['Chief executive officer' 'Medical technology' 'Software' 'Technology'\n",
      " 'Videography'] True Labels: ['Business' 'Coffee' 'Consulting' 'Skincare']\n",
      "Predicted Labels: ['Auto detailing' 'Commercialization' 'Shallow startup experience'\n",
      " 'Software' 'Technology'] True Labels: ['Deep startup experience' 'Entertainment' 'Finance' 'Law' 'Marketing'\n",
      " 'Medical technology' 'Renewable energy' 'Sales' 'Technology']\n",
      "Predicted Labels: ['College entrepreneurship' 'Commercialization' 'Digital media'\n",
      " 'Photography' 'Videography'] True Labels: ['Digital media' 'Shallow startup experience' 'Videography']\n",
      "Predicted Labels: ['Auto detailing' 'Chief technology officer' 'Deep startup experience'\n",
      " 'Generosity' 'Video game'] True Labels: ['Deep startup experience' 'Faith' 'Recruiting']\n",
      "Predicted Labels: ['Digital media' 'Middle startup experience' 'Software' 'Technology'\n",
      " 'Videography'] True Labels: ['E-commerce' 'Education' 'Middle startup experience']\n",
      "Predicted Labels: ['Medical technology' 'Software' 'Technology' 'Video game' 'Videography'] True Labels: ['Chief executive officer' 'Deep startup experience' 'Healthcare'\n",
      " 'International business']\n",
      "Predicted Labels: ['Chief technology officer' 'Commercialization' 'Deep startup experience'\n",
      " 'Medical technology' 'Video game'] True Labels: ['Middle startup experience']\n",
      "Predicted Labels: ['Deep startup experience' 'Faith' 'Generosity' 'Software' 'Technology'] True Labels: ['Middle startup experience']\n",
      "Predicted Labels: ['Auto detailing' 'Commercialization' 'Shallow startup experience'\n",
      " 'Software' 'Technology'] True Labels: ['Marketing ' 'Sales']\n"
     ]
    },
    {
     "name": "stderr",
     "output_type": "stream",
     "text": [
      "<ipython-input-107-db1ea95d5ac4>:45: RuntimeWarning: divide by zero encountered in floor_divide\n",
      "  counts = np.sum(self.train_Y[inds], axis=0)//np.sum(self.train_Y[inds])\n"
     ]
    }
   ],
   "source": [
    "model = MultiKNN(4, 5, 'braycurtis')\n",
    "\n",
    "model.fit(train_bow_bio.toarray(), df_train[\"Bio Encoded Labels\"].to_numpy())\n",
    "\n",
    "pred_Y = model.predict(test_bow_bio.toarray())\n",
    "\n",
    "for i in range(pred_Y.shape[0]):\n",
    "    inds_pred = np.where(pred_Y[i] == 1)\n",
    "    inds_true = np.where(df_test[\"Bio Encoded Labels\"].to_numpy()[i] == 1)\n",
    "    print(f'Predicted Labels: {bio_unique[inds_pred]}', f'True Labels: {bio_unique[inds_true]}')"
   ]
  },
  {
   "cell_type": "code",
   "execution_count": 61,
   "metadata": {},
   "outputs": [
    {
     "data": {
      "text/plain": [
       "array([array([0, 0, 0, 0, 0, 1, 0, 0, 0, 0, 0, 0, 0, 0, 0, 0, 0, 0, 0, 0, 0, 0,\n",
       "       0, 0, 0, 0, 0, 0, 0, 0, 0, 0, 0, 1, 1, 0, 0, 0, 0, 0]),\n",
       "       array([0, 1, 0, 0, 0, 0, 1, 0, 0, 1, 0, 0, 0, 0, 0, 0, 0, 0, 0, 0, 0, 0,\n",
       "       0, 0, 0, 0, 0, 0, 0, 0, 0, 0, 0, 0, 0, 1, 0, 0, 0, 0]),\n",
       "       array([0, 0, 0, 0, 0, 0, 0, 0, 0, 0, 1, 0, 0, 0, 1, 0, 0, 1, 0, 0, 0, 0,\n",
       "       1, 1, 0, 1, 0, 0, 0, 0, 0, 1, 1, 0, 0, 0, 0, 1, 0, 0]),\n",
       "       array([0, 0, 0, 0, 0, 0, 0, 0, 0, 0, 0, 1, 0, 0, 0, 0, 0, 0, 0, 0, 0, 0,\n",
       "       0, 0, 0, 0, 0, 0, 0, 0, 0, 0, 0, 0, 1, 0, 0, 0, 0, 1]),\n",
       "       array([0, 0, 0, 0, 0, 0, 0, 0, 0, 0, 1, 0, 0, 0, 0, 0, 1, 0, 0, 0, 0, 0,\n",
       "       0, 0, 0, 0, 0, 0, 0, 0, 1, 0, 0, 0, 0, 0, 0, 0, 0, 0]),\n",
       "       array([0, 0, 0, 0, 0, 0, 0, 0, 0, 0, 0, 0, 1, 1, 0, 0, 0, 0, 0, 0, 0, 0,\n",
       "       0, 0, 0, 0, 1, 0, 0, 0, 0, 0, 0, 0, 0, 0, 0, 0, 0, 0]),\n",
       "       array([0, 0, 0, 1, 0, 0, 0, 0, 0, 0, 1, 0, 0, 0, 0, 0, 0, 0, 0, 0, 1, 1,\n",
       "       0, 0, 0, 0, 0, 0, 0, 0, 0, 0, 0, 0, 0, 0, 0, 0, 0, 0]),\n",
       "       array([0, 0, 0, 0, 0, 0, 0, 0, 0, 0, 0, 0, 0, 0, 0, 0, 0, 0, 0, 0, 0, 0,\n",
       "       0, 0, 0, 0, 1, 0, 0, 0, 0, 0, 0, 0, 0, 0, 0, 0, 0, 0]),\n",
       "       array([0, 0, 0, 0, 0, 0, 0, 0, 0, 0, 0, 0, 0, 0, 0, 0, 0, 0, 0, 0, 0, 0,\n",
       "       0, 0, 0, 0, 1, 0, 0, 0, 0, 0, 0, 0, 0, 0, 0, 0, 0, 0]),\n",
       "       array([0, 0, 0, 0, 0, 0, 0, 0, 0, 0, 0, 0, 0, 0, 0, 0, 0, 0, 0, 0, 0, 0,\n",
       "       0, 0, 1, 0, 0, 0, 0, 0, 0, 0, 1, 0, 0, 0, 0, 0, 0, 0])],\n",
       "      dtype=object)"
      ]
     },
     "execution_count": 61,
     "metadata": {},
     "output_type": "execute_result"
    }
   ],
   "source": [
    "df_test[\"Bio Encoded Labels\"].to_numpy()"
   ]
  },
  {
   "cell_type": "code",
   "execution_count": 40,
   "metadata": {},
   "outputs": [
    {
     "data": {
      "text/plain": [
       "(13, 443)"
      ]
     },
     "execution_count": 40,
     "metadata": {},
     "output_type": "execute_result"
    }
   ],
   "source": [
    "arr.shape"
   ]
  },
  {
   "cell_type": "code",
   "execution_count": 114,
   "metadata": {},
   "outputs": [
    {
     "name": "stdout",
     "output_type": "stream",
     "text": [
      "[0.         0.         0.         0.         0.         0.\n",
      " 0.         0.         0.         0.05679618 0.         0.0758098\n",
      " 0.        ]\n",
      "[0 0 0 0 0 0 0 0 0 0 0 0 0 0 0 0 0 0 1 0 0 0 1 1 0 0 0 1 1 0 0 1 1 0 0 0 0\n",
      " 0 1 0 0 0 0 0 1 0 0 0 1]\n",
      "[0.12196734 0.03008284 0.         0.         0.         0.1490712\n",
      " 0.09759001 0.         0.         0.         0.         0.\n",
      " 0.        ]\n",
      "[0 0 0 0 0 0 0 0 0 0 0 0 1 0 0 0 0 0 1 0 0 0 0 0 1 0 0 0 1 0 0 1 0 0 0 0 1\n",
      " 0 1 0 0 0 0 0 0 0 0 1 1]\n",
      "[0.16439899 0.02211735 0.32879797 0.08710071 0.19387964 0.09133277\n",
      " 0.0358748  0.02216755 0.07352146 0.05281938 0.06906139 0.12337795\n",
      " 0.22056439]\n",
      "[0 0 0 0 0 0 0 1 0 0 0 0 1 1 0 1 0 0 0 0 0 1 0 1 1 1 0 0 0 0 0 0 1 1 0 0 1\n",
      " 0 1 0 0 0 0 1 1 1 0 0 1]\n",
      "[0.18213356 0.0634202  0.         0.12487811 0.10107974 0.01309457\n",
      " 0.07715167 0.03178209 0.         0.07572824 0.14852213 0.18952451\n",
      " 0.21081851]\n",
      "[0 0 0 0 0 0 1 0 0 0 0 0 0 0 0 0 1 1 0 1 0 1 0 0 1 0 0 0 0 0 0 1 0 0 0 0 1\n",
      " 0 0 1 0 0 0 0 0 0 0 0 1]\n",
      "[0.06752558 0.1873683  0.         0.         0.03981726 0.04126563\n",
      " 0.04052204 0.07511746 0.08304548 0.05966163 0.02600255 0.01990863\n",
      " 0.16609096]\n",
      "[1 0 0 0 0 0 0 0 0 0 0 0 1 0 0 0 0 0 1 0 0 0 0 0 0 0 0 0 1 0 0 1 1 0 0 0 0\n",
      " 0 1 0 0 1 0 0 0 0 0 0 1]\n",
      "[0.2231405  0.13453456 0.         0.16857685 0.03898591 0.09090909\n",
      " 0.1983799  0.03677454 0.         0.08032193 0.06364909 0.26315489\n",
      " 0.12196734]\n",
      "[0 0 0 0 0 0 1 0 0 0 0 0 1 0 0 0 0 0 0 0 0 0 0 0 1 0 0 0 0 0 0 1 0 0 0 0 1\n",
      " 0 1 1 0 0 0 0 0 0 0 1 0]\n",
      "[0.16262313 0.18049705 0.         0.11846978 0.06392844 0.13250773\n",
      " 0.09759001 0.16080605 0.         0.14368424 0.18786729 0.30366009\n",
      " 0.        ]\n",
      "[0 0 0 1 0 0 1 0 0 0 0 0 1 0 0 0 0 0 0 0 0 0 0 0 1 0 0 0 0 0 0 1 0 0 0 0 1\n",
      " 0 1 1 0 0 0 0 0 0 0 1 0]\n",
      "[0.19187086 0.14197294 0.15075567 0.03993615 0.09697623 0.01675063\n",
      " 0.23028309 0.06098367 0.         0.01210899 0.06333005 0.03232541\n",
      " 0.13483997]\n",
      "[1 0 0 0 0 0 1 1 0 0 0 0 1 1 0 1 1 1 0 1 0 1 0 1 0 1 0 0 0 0 0 0 0 1 0 0 0\n",
      " 0 0 1 0 1 0 1 0 0 0 0 1]\n",
      "[0.         0.         0.         0.         0.         0.\n",
      " 0.         0.09534626 0.         0.         0.         0.0758098\n",
      " 0.        ]\n",
      "[0 0 0 0 0 0 0 0 0 0 0 0 0 0 0 0 0 0 1 0 0 0 1 1 0 0 0 1 1 0 0 1 1 0 0 0 0\n",
      " 0 1 0 0 0 0 0 1 0 0 0 1]\n",
      "[0.         0.         0.         0.11846978 0.09589266 0.\n",
      " 0.         0.         0.         0.         0.06262243 0.04794633\n",
      " 0.        ]\n",
      "[0 0 0 0 0 0 0 0 0 0 0 0 0 0 0 0 1 1 0 1 0 1 1 1 0 0 0 1 0 0 0 1 1 0 0 0 0\n",
      " 0 1 0 0 0 0 0 1 0 0 0 1]\n",
      "Predicted Labels: ['Lacks support' 'Lonely' 'Mental health' 'Startup transition'\n",
      " 'Young team'] True Labels: ['Customer acquisition' 'Growth strategy' 'Lacks resources' 'Pricing']\n",
      "Predicted Labels: ['Growth strategy' 'Lacks experience' 'Startup transition'\n",
      " 'Workforce management' 'Young team'] True Labels: ['Childcare' 'Lacks mentorship' 'Staffing issues'\n",
      " 'Workforce lacks knowledge']\n",
      "Predicted Labels: ['Customer acquisition' 'Growth strategy' 'Hybrid workforce'\n",
      " 'Stakeholders' 'Young team'] True Labels: ['Big startup' 'Economy' 'Investors' 'Virtual workforce']\n",
      "Predicted Labels: ['Culture' 'Lacks deadline accountability' 'Lacks education' 'Talent'\n",
      " 'Young team'] True Labels: ['Business law' 'Growth strategy' 'Lacks experience' 'Lacks resources'\n",
      " 'Pricing' 'Small startup' 'Young team']\n",
      "Predicted Labels: ['Growth strategy' 'Lacks experience' 'Minimum viable product'\n",
      " 'Startup transition' 'Young team'] True Labels: ['Cofounder disagreements' 'Faith' 'Finding direction']\n",
      "Predicted Labels: ['Culture' 'Growth strategy' 'Managing company relationships' 'Talent'\n",
      " 'Workforce management'] True Labels: ['Business law' 'Lacks mentorship ' 'Mental health'\n",
      " 'Minimum viable product' 'Software' 'Technology']\n",
      "Predicted Labels: ['Business model' 'Culture' 'Growth strategy'\n",
      " 'Managing company relationships' 'Workforce management'] True Labels: ['Lacks resources' 'Medical approval' 'New technology' 'Startup finance'\n",
      " 'Vendor issues']\n",
      "Predicted Labels: ['Culture' 'Customer acquisition' 'Growth strategy'\n",
      " 'Social media marketing' 'Young team'] True Labels: ['Business law' 'Cofounder disagreements' 'Customer acquisition'\n",
      " 'Finding direction' 'Pricing' 'Sales' 'Work division']\n",
      "Predicted Labels: ['Lacks support' 'Lonely' 'Mental health' 'Startup transition'\n",
      " 'Young team'] True Labels: ['Investor disagreements']\n",
      "Predicted Labels: ['Lacks education' 'Lacks support' 'Lonely' 'Startup transition'\n",
      " 'Young team'] True Labels: ['Business law' 'Finding investors' 'Startup finance']\n"
     ]
    },
    {
     "name": "stderr",
     "output_type": "stream",
     "text": [
      "<ipython-input-107-db1ea95d5ac4>:45: RuntimeWarning: divide by zero encountered in floor_divide\n",
      "  counts = np.sum(self.train_Y[inds], axis=0)//np.sum(self.train_Y[inds])\n"
     ]
    }
   ],
   "source": [
    "model = MultiKNN(4, 5, 'cosine')\n",
    "\n",
    "model.fit(train_bow_prob.toarray(), df_train[\"Problem Encoded Labels\"].to_numpy())\n",
    "\n",
    "pred_Y = model.predict(test_bow_prob.toarray())\n",
    "\n",
    "for i in range(pred_Y.shape[0]):\n",
    "    inds_pred = np.where(pred_Y[i] == 1)\n",
    "    inds_true = np.where(df_test[\"Problem Encoded Labels\"].to_numpy()[i] == 1)\n",
    "    print(f'Predicted Labels: {prob_unique[inds_pred]}', f'True Labels: {prob_unique[inds_true]}')"
   ]
  },
  {
   "cell_type": "code",
   "execution_count": 55,
   "metadata": {},
   "outputs": [
    {
     "data": {
      "text/plain": [
       "3"
      ]
     },
     "execution_count": 55,
     "metadata": {},
     "output_type": "execute_result"
    }
   ],
   "source": [
    "def ok(a,b):\n",
    "    return a+b\n",
    "\n",
    "def spesh(name):\n",
    "    if name == 'yes':\n",
    "        return ok\n",
    "    else:\n",
    "        return \n",
    "\n",
    "dist = spesh('yes')\n",
    "dist(1,2)"
   ]
  },
  {
   "cell_type": "code",
   "execution_count": 106,
   "metadata": {},
   "outputs": [
    {
     "data": {
      "text/plain": [
       "0.6666666666666666"
      ]
     },
     "execution_count": 106,
     "metadata": {},
     "output_type": "execute_result"
    }
   ],
   "source": [
    "a = np.array([0, 1, 0]).reshape(1,-1)\n",
    "b = np.array([1, 0, 0]).reshape(1,-1)\n",
    "\n",
    "\n",
    "#cosine_sim(a,b)\n",
    "d = DistanceMetric.get_metric('hamming')\n",
    "d.pairwise(a.reshape(1,-1), b.reshape(1,-1))[0][0]\n"
   ]
  },
  {
   "cell_type": "code",
   "execution_count": 50,
   "metadata": {},
   "outputs": [],
   "source": [
    "# TF-IDF embeddings\n",
    "\n",
    "vectorizer = TfidfVectorizer(strip_accents='unicode', analyzer='word', ngram_range=(1,3), norm='l2')\n",
    "vectorizer.fit(df_train['Cleaned Bio'].values)\n",
    "vectorizer.fit(df_test['Cleaned Bio'].values)\n",
    "train_tfidf_bio = vectorizer.transform(df_train['Cleaned Bio'].values)\n",
    "test_tfidf_bio = vectorizer.transform(df_test['Cleaned Bio'].values)\n",
    "\n",
    "\n",
    "vectorizer = TfidfVectorizer(strip_accents='unicode', analyzer='word', ngram_range=(1,3), norm='l2')\n",
    "vectorizer.fit(df_train['Cleaned Problem'].values)\n",
    "vectorizer.fit(df_test['Cleaned Problem'].values)\n",
    "train_tfidf_prob = vectorizer.transform(df_train['Cleaned Problem'].values)\n",
    "test_tfidf_prob = vectorizer.transform(df_test['Cleaned Problem'].values)\n"
   ]
  },
  {
   "cell_type": "code",
   "execution_count": 120,
   "metadata": {},
   "outputs": [
    {
     "name": "stdout",
     "output_type": "stream",
     "text": [
      "[1.38733352 1.36444895 1.38684195 1.30522339 1.35188609 1.41421356\n",
      " 1.38533218 1.41421356 1.41421356 1.3542371  1.36302145 1.41421356\n",
      " 1.        ]\n",
      "[0 0 0 0 0 0 0 0 0 0 1 0 0 0 0 0 0 0 0 0 0 0 1 0 0 1 0 0 1 0 0 0 0 0 0 0 1\n",
      " 1 0 0]\n",
      "[1.32556314 1.34683107 1.41421356 1.35346687 1.36568461 1.35759426\n",
      " 1.41421356 1.33949461 1.34264704 1.37554122 1.31854333 1.36863376\n",
      " 1.        ]\n",
      "[0 0 1 1 0 0 0 0 1 0 0 1 0 0 0 0 1 0 1 0 0 0 0 0 0 0 1 0 1 1 0 0 0 0 0 0 1\n",
      " 1 1 1]\n",
      "[1.37226631 1.37682806 1.18957381 1.40638305 1.31448384 1.41421356\n",
      " 1.31250965 1.41421356 1.41421356 1.33948481 1.37892277 1.38161253\n",
      " 1.        ]\n",
      "[1 0 0 0 0 0 0 0 0 0 1 0 0 0 0 0 0 0 0 0 0 0 0 1 0 1 1 0 1 0 0 0 1 0 1 0 0\n",
      " 1 0 0]\n",
      "[1.41421356 1.41421356 1.41421356 1.41421356 1.41421356 1.41421356\n",
      " 1.41421356 1.41421356 1.41421356 1.41421356 1.36735824 1.41421356\n",
      " 1.        ]\n",
      "[0 0 0 0 0 0 0 0 0 0 1 1 0 0 0 0 0 0 0 0 0 0 0 0 0 1 1 0 1 1 0 0 0 0 0 0 1\n",
      " 1 0 1]\n",
      "[1.3688838  1.37151398 1.41421356 1.41421356 1.41421356 1.41421356\n",
      " 1.38568524 1.39409941 1.41421356 1.39799808 1.41421356 1.38937213\n",
      " 1.        ]\n",
      "[1 0 0 0 0 0 0 1 1 0 0 0 0 0 0 0 0 0 0 1 0 0 0 1 0 0 1 1 1 0 0 0 1 0 1 0 1\n",
      " 1 1 0]\n",
      "[1.40455326 1.36913618 1.41421356 1.40327954 1.37814549 1.41421356\n",
      " 1.41421356 1.41421356 1.41421356 1.38414451 1.38918745 1.41421356\n",
      " 1.        ]\n",
      "[0 0 0 0 0 0 0 1 0 0 1 0 0 0 0 0 0 0 0 1 0 0 1 0 0 1 0 1 1 0 0 0 0 0 0 0 1\n",
      " 1 0 0]\n",
      "[1.33627131 1.37049646 1.36438844 1.36650024 1.34607142 1.38486134\n",
      " 1.41421356 1.32123024 1.30005154 1.29437669 1.30301325 1.36236554\n",
      " 1.        ]\n",
      "[0 0 0 1 0 0 0 0 0 0 1 1 0 0 0 0 0 0 0 0 0 0 1 0 0 0 1 0 1 1 0 0 0 0 0 0 1\n",
      " 1 0 1]\n",
      "[1.35108309 1.31653918 1.41421356 1.40417049 1.38110912 1.34164392\n",
      " 1.41421356 1.38031151 1.41421356 1.38661026 1.3912362  1.29488306\n",
      " 1.        ]\n",
      "[0 0 0 0 1 0 0 1 0 0 1 0 0 0 0 1 0 0 0 1 0 0 0 0 0 0 0 1 1 0 0 0 0 0 0 0 0\n",
      " 1 0 0]\n",
      "[1.41421356 1.41421356 1.41421356 1.41421356 1.41421356 0.98469062\n",
      " 1.41421356 0.80567294 0.83941786 1.26726056 1.41421356 1.0803767\n",
      " 1.        ]\n",
      "[0 0 1 1 0 0 0 0 0 0 0 0 0 0 0 1 1 0 1 0 0 0 0 0 0 0 1 0 1 0 0 0 0 0 0 0 1\n",
      " 1 0 0]\n",
      "[1.36207156 1.40765031 1.39234225 1.40450911 1.38668397 1.41421356\n",
      " 1.28706801 1.38146415 1.41421356 1.36838219 1.39201441 1.41421356\n",
      " 1.        ]\n",
      "[1 0 0 0 0 0 0 0 1 0 1 0 0 0 0 0 0 0 0 0 0 0 1 1 0 0 1 0 1 0 0 0 1 0 1 0 1\n",
      " 1 1 0]\n",
      "Predicted Labels: ['Deep startup experience' 'Law' 'No startup experience' 'Software'\n",
      " 'Technology'] True Labels: ['Clothing' 'Sewing' 'Shallow startup experience']\n",
      "Predicted Labels: ['Digital media' 'Generosity' 'Photography' 'Video game' 'Videography'] True Labels: ['Business' 'Coffee' 'Consulting' 'Skincare']\n",
      "Predicted Labels: ['Auto detailing' 'Deep startup experience' 'Marketing'\n",
      " 'Medical technology' 'Sales'] True Labels: ['Deep startup experience' 'Entertainment' 'Finance' 'Law' 'Marketing'\n",
      " 'Medical technology' 'Renewable energy' 'Sales' 'Technology']\n",
      "Predicted Labels: ['Deep startup experience' 'Digital media' 'Medical technology'\n",
      " 'Photography' 'Videography'] True Labels: ['Digital media' 'Shallow startup experience' 'Videography']\n",
      "Predicted Labels: ['College entrepreneurship' 'Commercialization' 'Geospatial analysis'\n",
      " 'No startup experience' 'Video game'] True Labels: ['Deep startup experience' 'Faith' 'Recruiting']\n",
      "Predicted Labels: ['College entrepreneurship' 'Deep startup experience'\n",
      " 'Geospatial analysis' 'Law' 'Medical technology'] True Labels: ['E-commerce' 'Education' 'Middle startup experience']\n",
      "Predicted Labels: ['Deep startup experience' 'Digital media' 'Law' 'Photography'\n",
      " 'Videography'] True Labels: ['Chief executive officer' 'Deep startup experience' 'Healthcare'\n",
      " 'International business']\n",
      "Predicted Labels: ['Chief technology officer' 'College entrepreneurship'\n",
      " 'Entrepreneur support organization' 'Geospatial analysis' 'Technology'] True Labels: ['Middle startup experience']\n",
      "Predicted Labels: ['Chief executive officer' 'Entrepreneur support organization' 'Faith'\n",
      " 'Middle startup experience' 'No startup experience'] True Labels: ['Middle startup experience']\n",
      "Predicted Labels: ['Auto detailing' 'Commercialization' 'Shallow startup experience'\n",
      " 'Software' 'Technology'] True Labels: ['Marketing ' 'Sales']\n"
     ]
    },
    {
     "name": "stderr",
     "output_type": "stream",
     "text": [
      "<ipython-input-107-db1ea95d5ac4>:45: RuntimeWarning: divide by zero encountered in floor_divide\n",
      "  counts = np.sum(self.train_Y[inds], axis=0)//np.sum(self.train_Y[inds])\n",
      "<ipython-input-107-db1ea95d5ac4>:45: RuntimeWarning: divide by zero encountered in floor_divide\n",
      "  counts = np.sum(self.train_Y[inds], axis=0)//np.sum(self.train_Y[inds])\n",
      "<ipython-input-107-db1ea95d5ac4>:45: RuntimeWarning: divide by zero encountered in floor_divide\n",
      "  counts = np.sum(self.train_Y[inds], axis=0)//np.sum(self.train_Y[inds])\n",
      "<ipython-input-107-db1ea95d5ac4>:45: RuntimeWarning: divide by zero encountered in floor_divide\n",
      "  counts = np.sum(self.train_Y[inds], axis=0)//np.sum(self.train_Y[inds])\n",
      "<ipython-input-107-db1ea95d5ac4>:45: RuntimeWarning: divide by zero encountered in floor_divide\n",
      "  counts = np.sum(self.train_Y[inds], axis=0)//np.sum(self.train_Y[inds])\n",
      "<ipython-input-107-db1ea95d5ac4>:45: RuntimeWarning: divide by zero encountered in floor_divide\n",
      "  counts = np.sum(self.train_Y[inds], axis=0)//np.sum(self.train_Y[inds])\n",
      "<ipython-input-107-db1ea95d5ac4>:45: RuntimeWarning: divide by zero encountered in floor_divide\n",
      "  counts = np.sum(self.train_Y[inds], axis=0)//np.sum(self.train_Y[inds])\n",
      "<ipython-input-107-db1ea95d5ac4>:45: RuntimeWarning: divide by zero encountered in floor_divide\n",
      "  counts = np.sum(self.train_Y[inds], axis=0)//np.sum(self.train_Y[inds])\n",
      "<ipython-input-107-db1ea95d5ac4>:45: RuntimeWarning: divide by zero encountered in floor_divide\n",
      "  counts = np.sum(self.train_Y[inds], axis=0)//np.sum(self.train_Y[inds])\n",
      "<ipython-input-107-db1ea95d5ac4>:45: RuntimeWarning: divide by zero encountered in floor_divide\n",
      "  counts = np.sum(self.train_Y[inds], axis=0)//np.sum(self.train_Y[inds])\n"
     ]
    }
   ],
   "source": [
    "#Model with tf-idf embeddings\n",
    "\n",
    "model = MultiKNN(4, 5, 'euclidean')\n",
    "\n",
    "model.fit(train_tfidf_bio.toarray(), df_train[\"Bio Encoded Labels\"].to_numpy())\n",
    "\n",
    "pred_Y = model.predict(test_tfidf_bio.toarray())\n",
    "\n",
    "for i in range(pred_Y.shape[0]):\n",
    "    inds_pred = np.where(pred_Y[i] == 1)\n",
    "    inds_true = np.where(df_test[\"Bio Encoded Labels\"].to_numpy()[i] == 1)\n",
    "    print(f'Predicted Labels: {bio_unique[inds_pred]}', f'True Labels: {bio_unique[inds_true]}')"
   ]
  },
  {
   "cell_type": "code",
   "execution_count": 51,
   "metadata": {},
   "outputs": [
    {
     "name": "stdout",
     "output_type": "stream",
     "text": [
      "[0. 0. 0. 0. 0. 0. 0. 0. 0. 0. 0. 0. 0.]\n",
      "[0 0 0 0 1 0 0 0 1 0 1 1 0 0 0 0 0 0 0 0 0 0 0 0 0 0 1 0 0 1 0 0 0 0 0 0 1\n",
      " 1 1 1]\n",
      "[0.2160654  0.         0.         0.         0.         0.10488298\n",
      " 0.58196421 0.         0.18503364 0.         0.11761298 0.\n",
      " 0.        ]\n",
      "[0 0 0 0 0 0 0 0 1 0 0 1 1 1 0 0 0 0 0 0 0 0 0 0 0 0 1 0 0 1 0 0 0 0 0 0 1\n",
      " 1 1 1]\n",
      "[0.11718585 0.20297184 0.         0.02264015 0.         0.\n",
      " 0.         0.04426879 0.02104958 0.20375417 0.15435439 0.\n",
      " 0.13146259]\n",
      "[0 0 0 0 0 1 0 0 0 0 1 1 1 1 1 0 0 1 0 0 0 0 1 1 0 1 1 0 0 1 0 1 1 1 1 0 0\n",
      " 1 0 1]\n",
      "[0.10056085 0.         0.14526523 0.10391634 0.01671766 0.05115074\n",
      " 0.08175559 0.03768339 0.07533032 0.07977025 0.13734962 0.\n",
      " 0.05203595]\n",
      "[1 0 0 0 0 0 0 0 0 0 0 0 1 1 0 0 0 0 0 0 0 0 0 1 0 0 1 0 0 0 0 0 1 0 1 0 0\n",
      " 0 0 0]\n",
      "[0.         0.         0.11029822 0.         0.         0.18163518\n",
      " 0.08539949 0.1710429  0.         0.         0.         0.\n",
      " 0.        ]\n",
      "[0 0 0 0 1 0 0 0 1 0 1 0 1 1 0 0 0 0 0 0 0 0 0 0 0 0 1 0 0 0 0 0 0 0 0 0 1\n",
      " 1 1 0]\n",
      "[0.         0.         0.10115716 0.10161741 0.03082112 0.17152878\n",
      " 0.01137531 0.02278311 0.07227702 0.06783621 0.06823238 0.\n",
      " 0.        ]\n",
      "[1 0 0 0 1 0 0 0 0 0 1 0 0 0 0 1 0 0 0 0 0 0 0 1 0 0 1 0 0 0 0 0 1 0 1 0 0\n",
      " 1 0 0]\n",
      "[0.         0.         0.03686758 0.08603957 0.03867111 0.0687445\n",
      " 0.10169438 0.10965214 0.01359242 0.         0.06513167 0.20735436\n",
      " 0.        ]\n",
      "[0 0 0 1 1 0 0 0 0 0 1 0 0 0 0 1 0 0 0 0 0 0 0 0 0 0 1 0 0 0 0 0 0 0 0 0 1\n",
      " 1 0 0]\n",
      "[0.         0.         0.03305254 0.0502758  0.10571997 0.11092253\n",
      " 0.13752207 0.07814866 0.01218589 0.         0.09101583 0.\n",
      " 0.        ]\n",
      "[1 0 0 1 1 0 0 0 0 0 1 0 0 0 0 0 0 0 0 0 0 0 0 1 0 0 1 0 0 0 0 0 1 0 1 0 1\n",
      " 1 0 0]\n",
      "[0.04819161 0.         0.         0.07015635 0.06815979 0.01933254\n",
      " 0.01817918 0.         0.07187201 0.         0.02261668 0.05406279\n",
      " 0.        ]\n",
      "[0 0 0 1 0 0 0 0 0 0 0 1 0 0 0 0 0 0 0 0 0 0 0 0 0 0 1 0 0 1 0 0 0 0 0 0 1\n",
      " 1 0 1]\n",
      "[0.08772534 0.15194475 0.14256591 0.12689217 0.17716594 0.\n",
      " 0.03229516 0.13096183 0.11797745 0.06958844 0.05878693 0.\n",
      " 0.09841292]\n",
      "[1 0 0 0 0 1 0 0 0 0 1 0 0 0 1 0 0 1 0 0 0 0 1 1 0 1 0 0 0 0 0 1 1 1 1 0 1\n",
      " 1 0 0]\n",
      "Predicted Labels: ['Chief technology officer' 'Software' 'Technology' 'Video game'\n",
      " 'Videography'] True Labels: ['No startup experience']\n",
      "Predicted Labels: ['Middle startup experience' 'Software' 'Technology' 'Video game'\n",
      " 'Videography'] True Labels: ['Middle startup experience']\n",
      "Predicted Labels: ['Clothing' 'Digital media' 'E-commerce' 'Finance' 'Videography'] True Labels: ['Charity' 'Chief executive officer' 'Faith' 'Generosity']\n",
      "Predicted Labels: ['Auto detailing' 'E-commerce' 'Education' 'Sales'\n",
      " 'Shallow startup experience'] True Labels: ['Chief executive officer' 'Deep startup experience' 'Healthcare'\n",
      " 'International business']\n",
      "Predicted Labels: ['Commercialization' 'Middle startup experience' 'Software' 'Technology'\n",
      " 'Video game'] True Labels: ['Digital media' 'Shallow startup experience' 'Videography']\n",
      "Predicted Labels: ['Auto detailing' 'Deep startup experience' 'Marketing'\n",
      " 'Middle startup experience' 'Sales'] True Labels: ['Software' 'Technology']\n",
      "Predicted Labels: ['Chief executive officer' 'Entrepreneur support organization'\n",
      " 'Middle startup experience' 'Software' 'Technology'] True Labels: ['Marketing ' 'Sales']\n",
      "Predicted Labels: ['Auto detailing' 'Sales' 'Shallow startup experience' 'Software'\n",
      " 'Technology'] True Labels: ['Deep startup experience' 'Medical technology' 'Technology']\n",
      "Predicted Labels: ['Chief executive officer' 'Middle startup experience' 'Software'\n",
      " 'Technology' 'Videography'] True Labels: ['Deep startup experience' 'Faith' 'Recruiting']\n",
      "Predicted Labels: ['Auto detailing' 'Deep startup experience' 'Finance' 'Law'\n",
      " 'Renewable energy'] True Labels: ['Business' 'Coffee' 'Consulting' 'Skincare']\n"
     ]
    },
    {
     "name": "stderr",
     "output_type": "stream",
     "text": [
      "<ipython-input-44-db1ea95d5ac4>:45: RuntimeWarning: divide by zero encountered in floor_divide\n",
      "  counts = np.sum(self.train_Y[inds], axis=0)//np.sum(self.train_Y[inds])\n"
     ]
    }
   ],
   "source": [
    "#Model with tf-idf embeddings\n",
    "\n",
    "model = MultiKNN(4, 5, 'cosine')\n",
    "\n",
    "model.fit(train_tfidf_bio.toarray(), df_train[\"Bio Encoded Labels\"].to_numpy())\n",
    "\n",
    "pred_Y = model.predict(test_tfidf_bio.toarray())\n",
    "\n",
    "for i in range(pred_Y.shape[0]):\n",
    "    inds_pred = np.where(pred_Y[i] == 1)\n",
    "    inds_true = np.where(df_test[\"Bio Encoded Labels\"].to_numpy()[i] == 1)\n",
    "    print(f'Predicted Labels: {bio_unique[inds_pred]}', f'True Labels: {bio_unique[inds_true]}')"
   ]
  },
  {
   "cell_type": "code",
   "execution_count": null,
   "metadata": {},
   "outputs": [],
   "source": []
  },
  {
   "cell_type": "markdown",
   "metadata": {},
   "source": [
    "# Building Logistic Regression Model"
   ]
  },
  {
   "cell_type": "code",
   "execution_count": 1,
   "metadata": {},
   "outputs": [],
   "source": []
  },
  {
   "cell_type": "code",
   "execution_count": null,
   "metadata": {},
   "outputs": [],
   "source": []
  },
  {
   "cell_type": "code",
   "execution_count": null,
   "metadata": {},
   "outputs": [],
   "source": []
  },
  {
   "cell_type": "code",
   "execution_count": null,
   "metadata": {},
   "outputs": [],
   "source": []
  },
  {
   "cell_type": "code",
   "execution_count": null,
   "metadata": {},
   "outputs": [],
   "source": []
  },
  {
   "cell_type": "code",
   "execution_count": 98,
   "metadata": {},
   "outputs": [],
   "source": [
    "class LogisticRegression_new:\n",
    "    def __init__(self, d):\n",
    "        self.w = np.random.randn(d)\n",
    "\n",
    "    def compute_loss(self, X, Y):\n",
    "        \"\"\"\n",
    "        Compute l(w) with n samples.\n",
    "        Inputs:\n",
    "            X  - A numpy array of size (n, d). Each row is a sample.\n",
    "            Y  - A numpy array of size (n,). Each element is 0 or 1.\n",
    "        Returns:\n",
    "            A float.\n",
    "        \"\"\"\n",
    "        sol = 0\n",
    "        for i in range(X.shape[0]):\n",
    "            inner = np.dot(self.w, X[i])\n",
    "            y_i = Y[i]*(-1)\n",
    "            outer = y_i*inner\n",
    "            sol += outer + np.log(1 + np.exp(inner))\n",
    "        return sol/X.shape[0]\n",
    "\n",
    "    def compute_grad(self, X, Y):\n",
    "        \"\"\"\n",
    "        Compute the derivative of l(w).\n",
    "        Inputs: Same as above.\n",
    "        Returns:\n",
    "            A numpy array of size (d,).\n",
    "        \"\"\"\n",
    "        inner = 0\n",
    "        for i in range(X.shape[0]):\n",
    "            inner += X[i]*np.mean(np.exp(np.dot(self.w, X[i]))/(1 + np.exp(np.dot(self.w, X[i]))) - Y[i])\n",
    "        \n",
    "        #inner = X*(np.exp(np.dot(self.w, X))/(1 + np.exp(np.dot(self.w, X))) - Y)\n",
    "        #data_new = alpha*data\n",
    "        #data_new /= N\n",
    "        #data_new *= inner\n",
    "        #theta += data_new\n",
    "        #return theta\n",
    "        return inner/X.shape[0]\n",
    "        '''\n",
    "        Y.shape = (Y.shape[0], 1)\n",
    "        res = np.vectorize(lambda x,y,w: x*(np.exp(np.dot(w, x))/(1 + np.exp(np.dot(w, x))) - y))\n",
    "        sol = res(X, Y, self.w)\n",
    "        sol = np.sum(sol, axis=0)\n",
    "        sol.shape = (sol.shape[0],)\n",
    "        return sol/X.shape[0]\n",
    "        '''\n",
    "        #raise NotImplementedError\n",
    "\n",
    "    def train(self, X, Y, eta, rho):\n",
    "        \"\"\"\n",
    "        Train the model with gradient descent.\n",
    "        Update self.w with the algorithm listed in the problem.\n",
    "        Returns: Nothing.\n",
    "        \"\"\"\n",
    "        if eta <= 0 or rho <= 0:\n",
    "            return None\n",
    "        i = 0\n",
    "        while True:\n",
    "            #print(i)\n",
    "            grad = self.compute_grad(X, Y)\n",
    "            #print(f'stop? {np.linalg.norm(grad)} vs {rho}')\n",
    "            if np.linalg.norm(grad) < rho:\n",
    "                break\n",
    "            if i < 20000:\n",
    "                self.w -= 0.1*grad\n",
    "            elif 350000 > i and i > 20000:\n",
    "                self.w -= 0.01*grad\n",
    "            else:\n",
    "                self.w -= eta*grad\n",
    "            i += 1"
   ]
  },
  {
   "cell_type": "code",
   "execution_count": 68,
   "metadata": {},
   "outputs": [
    {
     "ename": "KeyboardInterrupt",
     "evalue": "",
     "output_type": "error",
     "traceback": [
      "\u001b[0;31m---------------------------------------------------------------------------\u001b[0m",
      "\u001b[0;31mKeyboardInterrupt\u001b[0m                         Traceback (most recent call last)",
      "\u001b[0;32m<ipython-input-68-abb6777e4fed>\u001b[0m in \u001b[0;36m<module>\u001b[0;34m\u001b[0m\n\u001b[1;32m      9\u001b[0m \u001b[0;34m\u001b[0m\u001b[0m\n\u001b[1;32m     10\u001b[0m \u001b[0mreg\u001b[0m \u001b[0;34m=\u001b[0m \u001b[0mLogisticRegression\u001b[0m\u001b[0;34m(\u001b[0m\u001b[0mlen\u001b[0m\u001b[0;34m(\u001b[0m\u001b[0mtrain_tfidf_bio\u001b[0m\u001b[0;34m.\u001b[0m\u001b[0mtoarray\u001b[0m\u001b[0;34m(\u001b[0m\u001b[0;34m)\u001b[0m\u001b[0;34m[\u001b[0m\u001b[0;36m0\u001b[0m\u001b[0;34m]\u001b[0m\u001b[0;34m)\u001b[0m\u001b[0;34m)\u001b[0m\u001b[0;34m\u001b[0m\u001b[0;34m\u001b[0m\u001b[0m\n\u001b[0;32m---> 11\u001b[0;31m \u001b[0mreg\u001b[0m\u001b[0;34m.\u001b[0m\u001b[0mtrain\u001b[0m\u001b[0;34m(\u001b[0m\u001b[0mtrain_tfidf_bio\u001b[0m\u001b[0;34m.\u001b[0m\u001b[0mtoarray\u001b[0m\u001b[0;34m(\u001b[0m\u001b[0;34m)\u001b[0m\u001b[0;34m,\u001b[0m \u001b[0mdf_train\u001b[0m\u001b[0;34m[\u001b[0m\u001b[0;34m\"Bio Encoded Labels\"\u001b[0m\u001b[0;34m]\u001b[0m\u001b[0;34m.\u001b[0m\u001b[0mto_numpy\u001b[0m\u001b[0;34m(\u001b[0m\u001b[0;34m)\u001b[0m\u001b[0;34m,\u001b[0m \u001b[0meta\u001b[0m\u001b[0;34m,\u001b[0m \u001b[0mrho\u001b[0m\u001b[0;34m)\u001b[0m\u001b[0;34m\u001b[0m\u001b[0;34m\u001b[0m\u001b[0m\n\u001b[0m",
      "\u001b[0;32m<ipython-input-67-ecd4fe86d44f>\u001b[0m in \u001b[0;36mtrain\u001b[0;34m(self, X, Y, eta, rho)\u001b[0m\n\u001b[1;32m     59\u001b[0m         \u001b[0;32mwhile\u001b[0m \u001b[0;32mTrue\u001b[0m\u001b[0;34m:\u001b[0m\u001b[0;34m\u001b[0m\u001b[0;34m\u001b[0m\u001b[0m\n\u001b[1;32m     60\u001b[0m             \u001b[0;31m#print(i)\u001b[0m\u001b[0;34m\u001b[0m\u001b[0;34m\u001b[0m\u001b[0;34m\u001b[0m\u001b[0m\n\u001b[0;32m---> 61\u001b[0;31m             \u001b[0mgrad\u001b[0m \u001b[0;34m=\u001b[0m \u001b[0mself\u001b[0m\u001b[0;34m.\u001b[0m\u001b[0mcompute_grad\u001b[0m\u001b[0;34m(\u001b[0m\u001b[0mX\u001b[0m\u001b[0;34m,\u001b[0m \u001b[0mY\u001b[0m\u001b[0;34m)\u001b[0m\u001b[0;34m\u001b[0m\u001b[0;34m\u001b[0m\u001b[0m\n\u001b[0m\u001b[1;32m     62\u001b[0m             \u001b[0;31m#print(f'stop? {np.linalg.norm(grad)} vs {rho}')\u001b[0m\u001b[0;34m\u001b[0m\u001b[0;34m\u001b[0m\u001b[0;34m\u001b[0m\u001b[0m\n\u001b[1;32m     63\u001b[0m             \u001b[0;32mif\u001b[0m \u001b[0mnp\u001b[0m\u001b[0;34m.\u001b[0m\u001b[0mlinalg\u001b[0m\u001b[0;34m.\u001b[0m\u001b[0mnorm\u001b[0m\u001b[0;34m(\u001b[0m\u001b[0mgrad\u001b[0m\u001b[0;34m)\u001b[0m \u001b[0;34m<\u001b[0m \u001b[0mrho\u001b[0m\u001b[0;34m:\u001b[0m\u001b[0;34m\u001b[0m\u001b[0;34m\u001b[0m\u001b[0m\n",
      "\u001b[0;32m<ipython-input-67-ecd4fe86d44f>\u001b[0m in \u001b[0;36mcompute_grad\u001b[0;34m(self, X, Y)\u001b[0m\n\u001b[1;32m     29\u001b[0m         \u001b[0minner\u001b[0m \u001b[0;34m=\u001b[0m \u001b[0;36m0\u001b[0m\u001b[0;34m\u001b[0m\u001b[0;34m\u001b[0m\u001b[0m\n\u001b[1;32m     30\u001b[0m         \u001b[0;32mfor\u001b[0m \u001b[0mi\u001b[0m \u001b[0;32min\u001b[0m \u001b[0mrange\u001b[0m\u001b[0;34m(\u001b[0m\u001b[0mX\u001b[0m\u001b[0;34m.\u001b[0m\u001b[0mshape\u001b[0m\u001b[0;34m[\u001b[0m\u001b[0;36m0\u001b[0m\u001b[0;34m]\u001b[0m\u001b[0;34m)\u001b[0m\u001b[0;34m:\u001b[0m\u001b[0;34m\u001b[0m\u001b[0;34m\u001b[0m\u001b[0m\n\u001b[0;32m---> 31\u001b[0;31m             \u001b[0minner\u001b[0m \u001b[0;34m+=\u001b[0m \u001b[0mX\u001b[0m\u001b[0;34m[\u001b[0m\u001b[0mi\u001b[0m\u001b[0;34m]\u001b[0m\u001b[0;34m*\u001b[0m\u001b[0mnp\u001b[0m\u001b[0;34m.\u001b[0m\u001b[0mmean\u001b[0m\u001b[0;34m(\u001b[0m\u001b[0mnp\u001b[0m\u001b[0;34m.\u001b[0m\u001b[0mexp\u001b[0m\u001b[0;34m(\u001b[0m\u001b[0mnp\u001b[0m\u001b[0;34m.\u001b[0m\u001b[0mdot\u001b[0m\u001b[0;34m(\u001b[0m\u001b[0mself\u001b[0m\u001b[0;34m.\u001b[0m\u001b[0mw\u001b[0m\u001b[0;34m,\u001b[0m \u001b[0mX\u001b[0m\u001b[0;34m[\u001b[0m\u001b[0mi\u001b[0m\u001b[0;34m]\u001b[0m\u001b[0;34m)\u001b[0m\u001b[0;34m)\u001b[0m\u001b[0;34m/\u001b[0m\u001b[0;34m(\u001b[0m\u001b[0;36m1\u001b[0m \u001b[0;34m+\u001b[0m \u001b[0mnp\u001b[0m\u001b[0;34m.\u001b[0m\u001b[0mexp\u001b[0m\u001b[0;34m(\u001b[0m\u001b[0mnp\u001b[0m\u001b[0;34m.\u001b[0m\u001b[0mdot\u001b[0m\u001b[0;34m(\u001b[0m\u001b[0mself\u001b[0m\u001b[0;34m.\u001b[0m\u001b[0mw\u001b[0m\u001b[0;34m,\u001b[0m \u001b[0mX\u001b[0m\u001b[0;34m[\u001b[0m\u001b[0mi\u001b[0m\u001b[0;34m]\u001b[0m\u001b[0;34m)\u001b[0m\u001b[0;34m)\u001b[0m\u001b[0;34m)\u001b[0m \u001b[0;34m-\u001b[0m \u001b[0mY\u001b[0m\u001b[0;34m[\u001b[0m\u001b[0mi\u001b[0m\u001b[0;34m]\u001b[0m\u001b[0;34m)\u001b[0m\u001b[0;34m\u001b[0m\u001b[0;34m\u001b[0m\u001b[0m\n\u001b[0m\u001b[1;32m     32\u001b[0m \u001b[0;34m\u001b[0m\u001b[0m\n\u001b[1;32m     33\u001b[0m         \u001b[0;31m#inner = X*(np.exp(np.dot(self.w, X))/(1 + np.exp(np.dot(self.w, X))) - Y)\u001b[0m\u001b[0;34m\u001b[0m\u001b[0;34m\u001b[0m\u001b[0;34m\u001b[0m\u001b[0m\n",
      "\u001b[0;31mKeyboardInterrupt\u001b[0m: "
     ]
    }
   ],
   "source": [
    "#d = 10\n",
    "#n = 1000\n",
    "\n",
    "#np.random.seed(0)\n",
    "#X = np.random.randn(n, d)\n",
    "#Y = np.array([0] * (n // 2) + [1] * (n // 2))\n",
    "eta = 1e-3\n",
    "rho = 1e-6\n",
    "\n",
    "reg = LogisticRegression(len(train_tfidf_bio.toarray()[0]))\n",
    "reg.train(train_tfidf_bio.toarray(), df_train[\"Bio Encoded Labels\"].to_numpy(), eta, rho)"
   ]
  },
  {
   "cell_type": "code",
   "execution_count": null,
   "metadata": {},
   "outputs": [],
   "source": []
  },
  {
   "cell_type": "code",
   "execution_count": null,
   "metadata": {},
   "outputs": [],
   "source": []
  },
  {
   "cell_type": "code",
   "execution_count": null,
   "metadata": {},
   "outputs": [],
   "source": []
  },
  {
   "cell_type": "code",
   "execution_count": null,
   "metadata": {},
   "outputs": [],
   "source": []
  },
  {
   "cell_type": "code",
   "execution_count": null,
   "metadata": {},
   "outputs": [],
   "source": []
  },
  {
   "cell_type": "code",
   "execution_count": null,
   "metadata": {},
   "outputs": [],
   "source": []
  },
  {
   "cell_type": "code",
   "execution_count": 136,
   "metadata": {},
   "outputs": [
    {
     "ename": "AttributeError",
     "evalue": "'bool' object has no attribute 'any'",
     "output_type": "error",
     "traceback": [
      "\u001b[0;31m---------------------------------------------------------------------------\u001b[0m",
      "\u001b[0;31mAttributeError\u001b[0m                            Traceback (most recent call last)",
      "\u001b[0;32m<ipython-input-136-4bd4333604cd>\u001b[0m in \u001b[0;36m<module>\u001b[0;34m\u001b[0m\n\u001b[1;32m      1\u001b[0m \u001b[0mlogistic_model\u001b[0m \u001b[0;34m=\u001b[0m \u001b[0mMultiOutputClassifier\u001b[0m\u001b[0;34m(\u001b[0m\u001b[0mLogisticRegression\u001b[0m\u001b[0;34m(\u001b[0m\u001b[0mclass_weight\u001b[0m\u001b[0;34m=\u001b[0m\u001b[0;34m'balanced'\u001b[0m\u001b[0;34m,\u001b[0m \u001b[0mrandom_state\u001b[0m\u001b[0;34m=\u001b[0m\u001b[0;36m0\u001b[0m\u001b[0;34m)\u001b[0m\u001b[0;34m)\u001b[0m\u001b[0;34m\u001b[0m\u001b[0;34m\u001b[0m\u001b[0m\n\u001b[0;32m----> 2\u001b[0;31m \u001b[0mlogistic_model\u001b[0m\u001b[0;34m.\u001b[0m\u001b[0mfit\u001b[0m\u001b[0;34m(\u001b[0m\u001b[0mtrain_bow_bio\u001b[0m\u001b[0;34m.\u001b[0m\u001b[0mtoarray\u001b[0m\u001b[0;34m(\u001b[0m\u001b[0;34m)\u001b[0m\u001b[0;34m,\u001b[0m \u001b[0mdf_train\u001b[0m\u001b[0;34m[\u001b[0m\u001b[0;34m\"Bio Encoded Labels\"\u001b[0m\u001b[0;34m]\u001b[0m\u001b[0;34m.\u001b[0m\u001b[0mto_numpy\u001b[0m\u001b[0;34m(\u001b[0m\u001b[0;34m)\u001b[0m\u001b[0;34m)\u001b[0m\u001b[0;34m\u001b[0m\u001b[0;34m\u001b[0m\u001b[0m\n\u001b[0m\u001b[1;32m      3\u001b[0m \u001b[0mpred_Y\u001b[0m \u001b[0;34m=\u001b[0m \u001b[0mlogistic_model\u001b[0m\u001b[0;34m.\u001b[0m\u001b[0mpredict\u001b[0m\u001b[0;34m(\u001b[0m\u001b[0mtest_bow_bio\u001b[0m\u001b[0;34m.\u001b[0m\u001b[0mtoarray\u001b[0m\u001b[0;34m(\u001b[0m\u001b[0;34m)\u001b[0m\u001b[0;34m)\u001b[0m\u001b[0;34m\u001b[0m\u001b[0;34m\u001b[0m\u001b[0m\n\u001b[1;32m      4\u001b[0m \u001b[0;34m\u001b[0m\u001b[0m\n\u001b[1;32m      5\u001b[0m \u001b[0;32mfor\u001b[0m \u001b[0mi\u001b[0m \u001b[0;32min\u001b[0m \u001b[0mrange\u001b[0m\u001b[0;34m(\u001b[0m\u001b[0mpred_Y\u001b[0m\u001b[0;34m.\u001b[0m\u001b[0mshape\u001b[0m\u001b[0;34m[\u001b[0m\u001b[0;36m0\u001b[0m\u001b[0;34m]\u001b[0m\u001b[0;34m)\u001b[0m\u001b[0;34m:\u001b[0m\u001b[0;34m\u001b[0m\u001b[0;34m\u001b[0m\u001b[0m\n",
      "\u001b[0;32m~/anaconda3/lib/python3.8/site-packages/sklearn/multioutput.py\u001b[0m in \u001b[0;36mfit\u001b[0;34m(self, X, Y, sample_weight, **fit_params)\u001b[0m\n\u001b[1;32m    349\u001b[0m         \u001b[0mself\u001b[0m \u001b[0;34m:\u001b[0m \u001b[0mobject\u001b[0m\u001b[0;34m\u001b[0m\u001b[0;34m\u001b[0m\u001b[0m\n\u001b[1;32m    350\u001b[0m         \"\"\"\n\u001b[0;32m--> 351\u001b[0;31m         \u001b[0msuper\u001b[0m\u001b[0;34m(\u001b[0m\u001b[0;34m)\u001b[0m\u001b[0;34m.\u001b[0m\u001b[0mfit\u001b[0m\u001b[0;34m(\u001b[0m\u001b[0mX\u001b[0m\u001b[0;34m,\u001b[0m \u001b[0mY\u001b[0m\u001b[0;34m,\u001b[0m \u001b[0msample_weight\u001b[0m\u001b[0;34m,\u001b[0m \u001b[0;34m**\u001b[0m\u001b[0mfit_params\u001b[0m\u001b[0;34m)\u001b[0m\u001b[0;34m\u001b[0m\u001b[0;34m\u001b[0m\u001b[0m\n\u001b[0m\u001b[1;32m    352\u001b[0m         \u001b[0mself\u001b[0m\u001b[0;34m.\u001b[0m\u001b[0mclasses_\u001b[0m \u001b[0;34m=\u001b[0m \u001b[0;34m[\u001b[0m\u001b[0mestimator\u001b[0m\u001b[0;34m.\u001b[0m\u001b[0mclasses_\u001b[0m \u001b[0;32mfor\u001b[0m \u001b[0mestimator\u001b[0m \u001b[0;32min\u001b[0m \u001b[0mself\u001b[0m\u001b[0;34m.\u001b[0m\u001b[0mestimators_\u001b[0m\u001b[0;34m]\u001b[0m\u001b[0;34m\u001b[0m\u001b[0;34m\u001b[0m\u001b[0m\n\u001b[1;32m    353\u001b[0m         \u001b[0;32mreturn\u001b[0m \u001b[0mself\u001b[0m\u001b[0;34m\u001b[0m\u001b[0;34m\u001b[0m\u001b[0m\n",
      "\u001b[0;32m~/anaconda3/lib/python3.8/site-packages/sklearn/multioutput.py\u001b[0m in \u001b[0;36mfit\u001b[0;34m(self, X, y, sample_weight, **fit_params)\u001b[0m\n\u001b[1;32m    154\u001b[0m                              \" a fit method\")\n\u001b[1;32m    155\u001b[0m \u001b[0;34m\u001b[0m\u001b[0m\n\u001b[0;32m--> 156\u001b[0;31m         \u001b[0mX\u001b[0m\u001b[0;34m,\u001b[0m \u001b[0my\u001b[0m \u001b[0;34m=\u001b[0m \u001b[0mself\u001b[0m\u001b[0;34m.\u001b[0m\u001b[0m_validate_data\u001b[0m\u001b[0;34m(\u001b[0m\u001b[0mX\u001b[0m\u001b[0;34m,\u001b[0m \u001b[0my\u001b[0m\u001b[0;34m,\u001b[0m \u001b[0mmulti_output\u001b[0m\u001b[0;34m=\u001b[0m\u001b[0;32mTrue\u001b[0m\u001b[0;34m,\u001b[0m \u001b[0maccept_sparse\u001b[0m\u001b[0;34m=\u001b[0m\u001b[0;32mTrue\u001b[0m\u001b[0;34m)\u001b[0m\u001b[0;34m\u001b[0m\u001b[0;34m\u001b[0m\u001b[0m\n\u001b[0m\u001b[1;32m    157\u001b[0m \u001b[0;34m\u001b[0m\u001b[0m\n\u001b[1;32m    158\u001b[0m         \u001b[0;32mif\u001b[0m \u001b[0mis_classifier\u001b[0m\u001b[0;34m(\u001b[0m\u001b[0mself\u001b[0m\u001b[0;34m)\u001b[0m\u001b[0;34m:\u001b[0m\u001b[0;34m\u001b[0m\u001b[0;34m\u001b[0m\u001b[0m\n",
      "\u001b[0;32m~/anaconda3/lib/python3.8/site-packages/sklearn/base.py\u001b[0m in \u001b[0;36m_validate_data\u001b[0;34m(self, X, y, reset, validate_separately, **check_params)\u001b[0m\n\u001b[1;32m    430\u001b[0m                 \u001b[0my\u001b[0m \u001b[0;34m=\u001b[0m \u001b[0mcheck_array\u001b[0m\u001b[0;34m(\u001b[0m\u001b[0my\u001b[0m\u001b[0;34m,\u001b[0m \u001b[0;34m**\u001b[0m\u001b[0mcheck_y_params\u001b[0m\u001b[0;34m)\u001b[0m\u001b[0;34m\u001b[0m\u001b[0;34m\u001b[0m\u001b[0m\n\u001b[1;32m    431\u001b[0m             \u001b[0;32melse\u001b[0m\u001b[0;34m:\u001b[0m\u001b[0;34m\u001b[0m\u001b[0;34m\u001b[0m\u001b[0m\n\u001b[0;32m--> 432\u001b[0;31m                 \u001b[0mX\u001b[0m\u001b[0;34m,\u001b[0m \u001b[0my\u001b[0m \u001b[0;34m=\u001b[0m \u001b[0mcheck_X_y\u001b[0m\u001b[0;34m(\u001b[0m\u001b[0mX\u001b[0m\u001b[0;34m,\u001b[0m \u001b[0my\u001b[0m\u001b[0;34m,\u001b[0m \u001b[0;34m**\u001b[0m\u001b[0mcheck_params\u001b[0m\u001b[0;34m)\u001b[0m\u001b[0;34m\u001b[0m\u001b[0;34m\u001b[0m\u001b[0m\n\u001b[0m\u001b[1;32m    433\u001b[0m             \u001b[0mout\u001b[0m \u001b[0;34m=\u001b[0m \u001b[0mX\u001b[0m\u001b[0;34m,\u001b[0m \u001b[0my\u001b[0m\u001b[0;34m\u001b[0m\u001b[0;34m\u001b[0m\u001b[0m\n\u001b[1;32m    434\u001b[0m \u001b[0;34m\u001b[0m\u001b[0m\n",
      "\u001b[0;32m~/anaconda3/lib/python3.8/site-packages/sklearn/utils/validation.py\u001b[0m in \u001b[0;36minner_f\u001b[0;34m(*args, **kwargs)\u001b[0m\n\u001b[1;32m     71\u001b[0m                           FutureWarning)\n\u001b[1;32m     72\u001b[0m         \u001b[0mkwargs\u001b[0m\u001b[0;34m.\u001b[0m\u001b[0mupdate\u001b[0m\u001b[0;34m(\u001b[0m\u001b[0;34m{\u001b[0m\u001b[0mk\u001b[0m\u001b[0;34m:\u001b[0m \u001b[0marg\u001b[0m \u001b[0;32mfor\u001b[0m \u001b[0mk\u001b[0m\u001b[0;34m,\u001b[0m \u001b[0marg\u001b[0m \u001b[0;32min\u001b[0m \u001b[0mzip\u001b[0m\u001b[0;34m(\u001b[0m\u001b[0msig\u001b[0m\u001b[0;34m.\u001b[0m\u001b[0mparameters\u001b[0m\u001b[0;34m,\u001b[0m \u001b[0margs\u001b[0m\u001b[0;34m)\u001b[0m\u001b[0;34m}\u001b[0m\u001b[0;34m)\u001b[0m\u001b[0;34m\u001b[0m\u001b[0;34m\u001b[0m\u001b[0m\n\u001b[0;32m---> 73\u001b[0;31m         \u001b[0;32mreturn\u001b[0m \u001b[0mf\u001b[0m\u001b[0;34m(\u001b[0m\u001b[0;34m**\u001b[0m\u001b[0mkwargs\u001b[0m\u001b[0;34m)\u001b[0m\u001b[0;34m\u001b[0m\u001b[0;34m\u001b[0m\u001b[0m\n\u001b[0m\u001b[1;32m     74\u001b[0m     \u001b[0;32mreturn\u001b[0m \u001b[0minner_f\u001b[0m\u001b[0;34m\u001b[0m\u001b[0;34m\u001b[0m\u001b[0m\n\u001b[1;32m     75\u001b[0m \u001b[0;34m\u001b[0m\u001b[0m\n",
      "\u001b[0;32m~/anaconda3/lib/python3.8/site-packages/sklearn/utils/validation.py\u001b[0m in \u001b[0;36mcheck_X_y\u001b[0;34m(X, y, accept_sparse, accept_large_sparse, dtype, order, copy, force_all_finite, ensure_2d, allow_nd, multi_output, ensure_min_samples, ensure_min_features, y_numeric, estimator)\u001b[0m\n\u001b[1;32m    803\u001b[0m                     estimator=estimator)\n\u001b[1;32m    804\u001b[0m     \u001b[0;32mif\u001b[0m \u001b[0mmulti_output\u001b[0m\u001b[0;34m:\u001b[0m\u001b[0;34m\u001b[0m\u001b[0;34m\u001b[0m\u001b[0m\n\u001b[0;32m--> 805\u001b[0;31m         y = check_array(y, accept_sparse='csr', force_all_finite=True,\n\u001b[0m\u001b[1;32m    806\u001b[0m                         ensure_2d=False, dtype=None)\n\u001b[1;32m    807\u001b[0m     \u001b[0;32melse\u001b[0m\u001b[0;34m:\u001b[0m\u001b[0;34m\u001b[0m\u001b[0;34m\u001b[0m\u001b[0m\n",
      "\u001b[0;32m~/anaconda3/lib/python3.8/site-packages/sklearn/utils/validation.py\u001b[0m in \u001b[0;36minner_f\u001b[0;34m(*args, **kwargs)\u001b[0m\n\u001b[1;32m     71\u001b[0m                           FutureWarning)\n\u001b[1;32m     72\u001b[0m         \u001b[0mkwargs\u001b[0m\u001b[0;34m.\u001b[0m\u001b[0mupdate\u001b[0m\u001b[0;34m(\u001b[0m\u001b[0;34m{\u001b[0m\u001b[0mk\u001b[0m\u001b[0;34m:\u001b[0m \u001b[0marg\u001b[0m \u001b[0;32mfor\u001b[0m \u001b[0mk\u001b[0m\u001b[0;34m,\u001b[0m \u001b[0marg\u001b[0m \u001b[0;32min\u001b[0m \u001b[0mzip\u001b[0m\u001b[0;34m(\u001b[0m\u001b[0msig\u001b[0m\u001b[0;34m.\u001b[0m\u001b[0mparameters\u001b[0m\u001b[0;34m,\u001b[0m \u001b[0margs\u001b[0m\u001b[0;34m)\u001b[0m\u001b[0;34m}\u001b[0m\u001b[0;34m)\u001b[0m\u001b[0;34m\u001b[0m\u001b[0;34m\u001b[0m\u001b[0m\n\u001b[0;32m---> 73\u001b[0;31m         \u001b[0;32mreturn\u001b[0m \u001b[0mf\u001b[0m\u001b[0;34m(\u001b[0m\u001b[0;34m**\u001b[0m\u001b[0mkwargs\u001b[0m\u001b[0;34m)\u001b[0m\u001b[0;34m\u001b[0m\u001b[0;34m\u001b[0m\u001b[0m\n\u001b[0m\u001b[1;32m     74\u001b[0m     \u001b[0;32mreturn\u001b[0m \u001b[0minner_f\u001b[0m\u001b[0;34m\u001b[0m\u001b[0;34m\u001b[0m\u001b[0m\n\u001b[1;32m     75\u001b[0m \u001b[0;34m\u001b[0m\u001b[0m\n",
      "\u001b[0;32m~/anaconda3/lib/python3.8/site-packages/sklearn/utils/validation.py\u001b[0m in \u001b[0;36mcheck_array\u001b[0;34m(array, accept_sparse, accept_large_sparse, dtype, order, copy, force_all_finite, ensure_2d, allow_nd, ensure_min_samples, ensure_min_features, estimator)\u001b[0m\n\u001b[1;32m    643\u001b[0m \u001b[0;34m\u001b[0m\u001b[0m\n\u001b[1;32m    644\u001b[0m         \u001b[0;32mif\u001b[0m \u001b[0mforce_all_finite\u001b[0m\u001b[0;34m:\u001b[0m\u001b[0;34m\u001b[0m\u001b[0;34m\u001b[0m\u001b[0m\n\u001b[0;32m--> 645\u001b[0;31m             _assert_all_finite(array,\n\u001b[0m\u001b[1;32m    646\u001b[0m                                allow_nan=force_all_finite == 'allow-nan')\n\u001b[1;32m    647\u001b[0m \u001b[0;34m\u001b[0m\u001b[0m\n",
      "\u001b[0;32m~/anaconda3/lib/python3.8/site-packages/sklearn/utils/validation.py\u001b[0m in \u001b[0;36m_assert_all_finite\u001b[0;34m(X, allow_nan, msg_dtype)\u001b[0m\n\u001b[1;32m    102\u001b[0m     \u001b[0;31m# for object dtype data, we only check for NaNs (GH-13254)\u001b[0m\u001b[0;34m\u001b[0m\u001b[0;34m\u001b[0m\u001b[0;34m\u001b[0m\u001b[0m\n\u001b[1;32m    103\u001b[0m     \u001b[0;32melif\u001b[0m \u001b[0mX\u001b[0m\u001b[0;34m.\u001b[0m\u001b[0mdtype\u001b[0m \u001b[0;34m==\u001b[0m \u001b[0mnp\u001b[0m\u001b[0;34m.\u001b[0m\u001b[0mdtype\u001b[0m\u001b[0;34m(\u001b[0m\u001b[0;34m'object'\u001b[0m\u001b[0;34m)\u001b[0m \u001b[0;32mand\u001b[0m \u001b[0;32mnot\u001b[0m \u001b[0mallow_nan\u001b[0m\u001b[0;34m:\u001b[0m\u001b[0;34m\u001b[0m\u001b[0;34m\u001b[0m\u001b[0m\n\u001b[0;32m--> 104\u001b[0;31m         \u001b[0;32mif\u001b[0m \u001b[0m_object_dtype_isnan\u001b[0m\u001b[0;34m(\u001b[0m\u001b[0mX\u001b[0m\u001b[0;34m)\u001b[0m\u001b[0;34m.\u001b[0m\u001b[0many\u001b[0m\u001b[0;34m(\u001b[0m\u001b[0;34m)\u001b[0m\u001b[0;34m:\u001b[0m\u001b[0;34m\u001b[0m\u001b[0;34m\u001b[0m\u001b[0m\n\u001b[0m\u001b[1;32m    105\u001b[0m             \u001b[0;32mraise\u001b[0m \u001b[0mValueError\u001b[0m\u001b[0;34m(\u001b[0m\u001b[0;34m\"Input contains NaN\"\u001b[0m\u001b[0;34m)\u001b[0m\u001b[0;34m\u001b[0m\u001b[0;34m\u001b[0m\u001b[0m\n\u001b[1;32m    106\u001b[0m \u001b[0;34m\u001b[0m\u001b[0m\n",
      "\u001b[0;31mAttributeError\u001b[0m: 'bool' object has no attribute 'any'"
     ]
    }
   ],
   "source": [
    "logistic_model = MultiOutputClassifier(LogisticRegression(class_weight='balanced', random_state=0))\n",
    "logistic_model.fit(train_bow_bio.toarray(), df_train[\"Bio Encoded Labels\"].to_numpy())\n",
    "pred_Y = logistic_model.predict(test_bow_bio.toarray())\n",
    "\n",
    "for i in range(pred_Y.shape[0]):\n",
    "    inds_pred = np.where(pred_Y[i] == 1)\n",
    "    inds_true = np.where(df_test[\"Bio Encoded Labels\"].to_numpy()[i] == 1)\n",
    "    print(f'Predicted Labels: {bio_unique[inds_pred]}', f'True Labels: {bio_unique[inds_true]}')\n",
    "\n"
   ]
  },
  {
   "cell_type": "code",
   "execution_count": 125,
   "metadata": {
    "scrolled": true
   },
   "outputs": [
    {
     "data": {
      "text/plain": [
       "array([array([0, 0, 0, 0, 0, 0, 0, 0, 1, 0, 0, 0, 0, 0, 0, 0, 0, 0, 0, 0, 0, 0,\n",
       "       0, 0, 0, 0, 1, 0, 0, 0, 0, 0, 0, 0, 0, 0, 1, 1, 1, 0]),\n",
       "       array([0, 0, 0, 0, 0, 0, 0, 1, 0, 0, 0, 0, 0, 0, 0, 0, 0, 0, 0, 1, 0, 0,\n",
       "       0, 0, 0, 0, 0, 1, 0, 0, 0, 0, 0, 0, 0, 0, 0, 0, 0, 0]),\n",
       "       array([0, 0, 0, 0, 0, 0, 0, 0, 0, 0, 0, 0, 0, 0, 0, 0, 0, 0, 0, 0, 0, 0,\n",
       "       0, 0, 0, 0, 1, 0, 0, 0, 0, 0, 0, 0, 0, 0, 0, 0, 0, 0]),\n",
       "       array([0, 0, 0, 0, 0, 0, 0, 0, 0, 0, 0, 0, 0, 0, 0, 0, 0, 0, 0, 0, 0, 0,\n",
       "       0, 0, 0, 0, 0, 0, 0, 0, 0, 0, 0, 0, 0, 0, 1, 1, 0, 0]),\n",
       "       array([0, 0, 0, 0, 0, 0, 0, 0, 0, 0, 1, 0, 0, 0, 0, 0, 0, 0, 0, 0, 0, 0,\n",
       "       0, 0, 0, 1, 0, 0, 0, 0, 0, 0, 0, 0, 0, 0, 0, 1, 0, 0]),\n",
       "       array([0, 0, 0, 0, 0, 0, 0, 0, 0, 0, 0, 0, 0, 0, 0, 1, 0, 0, 0, 0, 0, 0,\n",
       "       0, 0, 0, 0, 0, 0, 0, 0, 0, 0, 0, 0, 0, 0, 0, 0, 0, 0]),\n",
       "       array([1, 0, 0, 0, 0, 0, 0, 0, 0, 0, 0, 0, 0, 0, 0, 0, 0, 0, 0, 0, 0, 0,\n",
       "       0, 1, 0, 0, 0, 0, 0, 0, 0, 0, 1, 0, 1, 0, 0, 0, 0, 0]),\n",
       "       array([0, 0, 1, 1, 0, 0, 0, 0, 0, 0, 0, 0, 0, 0, 0, 0, 1, 0, 1, 0, 0, 0,\n",
       "       0, 0, 0, 0, 0, 0, 0, 0, 0, 0, 0, 0, 0, 0, 0, 0, 0, 0]),\n",
       "       array([0, 0, 0, 1, 0, 0, 0, 0, 0, 0, 0, 0, 0, 0, 0, 0, 0, 0, 0, 0, 0, 0,\n",
       "       0, 0, 0, 0, 1, 0, 0, 0, 0, 0, 0, 0, 0, 0, 1, 1, 0, 0]),\n",
       "       array([0, 0, 0, 0, 0, 0, 0, 0, 0, 0, 1, 0, 0, 0, 0, 0, 0, 0, 0, 0, 0, 0,\n",
       "       1, 0, 0, 0, 0, 0, 0, 0, 0, 0, 0, 0, 0, 0, 1, 1, 0, 0]),\n",
       "       array([0, 0, 0, 0, 0, 0, 0, 0, 0, 0, 0, 1, 0, 0, 0, 0, 0, 0, 0, 0, 0, 0,\n",
       "       0, 0, 0, 0, 1, 0, 0, 1, 0, 0, 0, 0, 0, 0, 0, 0, 0, 1]),\n",
       "       array([0, 0, 0, 0, 1, 0, 0, 0, 0, 0, 1, 0, 0, 0, 0, 0, 0, 0, 0, 0, 0, 0,\n",
       "       0, 0, 0, 0, 0, 0, 0, 0, 0, 0, 0, 0, 0, 0, 0, 1, 0, 0]),\n",
       "       array([0, 0, 0, 0, 0, 0, 0, 0, 0, 0, 0, 0, 0, 0, 0, 0, 0, 0, 0, 0, 0, 0,\n",
       "       0, 0, 0, 0, 0, 0, 1, 0, 0, 0, 0, 0, 0, 0, 0, 0, 0, 0])],\n",
       "      dtype=object)"
      ]
     },
     "execution_count": 125,
     "metadata": {},
     "output_type": "execute_result"
    }
   ],
   "source": [
    "df_train[\"Bio Encoded Labels\"].to_numpy()"
   ]
  },
  {
   "cell_type": "code",
   "execution_count": null,
   "metadata": {},
   "outputs": [],
   "source": []
  },
  {
   "cell_type": "code",
   "execution_count": 134,
   "metadata": {},
   "outputs": [
    {
     "name": "stdout",
     "output_type": "stream",
     "text": [
      "Requirement already satisfied: sklearn in ./miniconda3/lib/python3.9/site-packages (0.0.post1)\r\n"
     ]
    }
   ],
   "source": []
  },
  {
   "cell_type": "code",
   "execution_count": 109,
   "metadata": {},
   "outputs": [],
   "source": [
    "#Using most frequent labels as main label in order to make logistic regression work\n",
    "\n",
    "bio_lab_freq = np.sum(df_train[\"Bio Encoded Labels\"].to_numpy(), axis=0)\n",
    "top_labs = np.argsort(bio_lab_freq)[::-1]\n",
    "bio_multi_labs = df_train[\"Bio Encoded Labels\"].to_numpy()\n",
    "\n",
    "single_bio_lab = np.array([], dtype=int)\n",
    "\n",
    "for i in range(len(bio_multi_labs)):\n",
    "    for j in range(len(top_labs)):\n",
    "        if bio_multi_labs[i][top_labs[j]] == 1:\n",
    "            new_onehot = np.zeros(len(bio_multi_labs[i]), dtype=int)\n",
    "            new_onehot[top_labs[j]] = 1\n",
    "            single_bio_lab = np.append(single_bio_lab, new_onehot)\n",
    "            break\n",
    "            \n",
    "    \n",
    "single_bio_lab = single_bio_lab.reshape(len(bio_multi_labs),len(bio_lab_freq))\n"
   ]
  },
  {
   "cell_type": "code",
   "execution_count": 114,
   "metadata": {},
   "outputs": [],
   "source": [
    "#Using most frequent labels as main label in order to make logistic regression work\n",
    "\n",
    "bio_lab_freq = np.sum(df_train[\"Bio Encoded Labels\"].to_numpy(), axis=0)\n",
    "top_labs = np.argsort(bio_lab_freq)[::-1]\n",
    "bio_multi_labs = df_train[\"Bio Encoded Labels\"].to_numpy()\n",
    "\n",
    "single_bio_lab = np.array([], dtype=int)\n",
    "\n",
    "for i in range(len(bio_multi_labs)):\n",
    "    for j in range(len(top_labs)):\n",
    "        if bio_multi_labs[i][top_labs[j]] == 1:\n",
    "            single_bio_lab = np.append(single_bio_lab, top_labs[j])\n",
    "            break"
   ]
  },
  {
   "cell_type": "code",
   "execution_count": 117,
   "metadata": {},
   "outputs": [
    {
     "name": "stdout",
     "output_type": "stream",
     "text": [
      "[26 37 26 26 26 26 34 26 26 26]\n",
      "Predicted Labels: Middle startup experience True Labels: ['No startup experience']\n",
      "Predicted Labels: Technology True Labels: ['Middle startup experience']\n",
      "Predicted Labels: Middle startup experience True Labels: ['Charity' 'Chief executive officer' 'Faith' 'Generosity']\n",
      "Predicted Labels: Middle startup experience True Labels: ['Chief executive officer' 'Deep startup experience' 'Healthcare'\n",
      " 'International business']\n",
      "Predicted Labels: Middle startup experience True Labels: ['Digital media' 'Shallow startup experience' 'Videography']\n",
      "Predicted Labels: Middle startup experience True Labels: ['Software' 'Technology']\n",
      "Predicted Labels: Shallow startup experience True Labels: ['Marketing ' 'Sales']\n",
      "Predicted Labels: Middle startup experience True Labels: ['Deep startup experience' 'Medical technology' 'Technology']\n",
      "Predicted Labels: Middle startup experience True Labels: ['Deep startup experience' 'Faith' 'Recruiting']\n",
      "Predicted Labels: Middle startup experience True Labels: ['Business' 'Coffee' 'Consulting' 'Skincare']\n"
     ]
    }
   ],
   "source": [
    "logistic_model = LogisticRegression(class_weight='balanced', random_state=0, multi_class='multinomial')\n",
    "logistic_model.fit(train_tfidf_bio.toarray(), single_bio_lab)\n",
    "pred_Y = logistic_model.predict(test_tfidf_bio.toarray())\n",
    "print(pred_Y)\n",
    "for i in range(len(pred_Y)):\n",
    "    inds_pred = pred_Y[i]\n",
    "    inds_true = np.where(df_test[\"Bio Encoded Labels\"].to_numpy()[i] == 1)\n",
    "    print(f'Predicted Labels: {bio_unique[inds_pred]}', f'True Labels: {bio_unique[inds_true]}')"
   ]
  },
  {
   "cell_type": "code",
   "execution_count": null,
   "metadata": {},
   "outputs": [],
   "source": []
  },
  {
   "cell_type": "code",
   "execution_count": null,
   "metadata": {},
   "outputs": [],
   "source": []
  },
  {
   "cell_type": "code",
   "execution_count": null,
   "metadata": {},
   "outputs": [],
   "source": []
  },
  {
   "cell_type": "code",
   "execution_count": null,
   "metadata": {},
   "outputs": [],
   "source": []
  },
  {
   "cell_type": "code",
   "execution_count": null,
   "metadata": {},
   "outputs": [],
   "source": []
  },
  {
   "cell_type": "code",
   "execution_count": null,
   "metadata": {},
   "outputs": [],
   "source": []
  },
  {
   "cell_type": "code",
   "execution_count": null,
   "metadata": {},
   "outputs": [],
   "source": []
  },
  {
   "cell_type": "code",
   "execution_count": null,
   "metadata": {},
   "outputs": [],
   "source": []
  },
  {
   "cell_type": "code",
   "execution_count": 75,
   "metadata": {},
   "outputs": [
    {
     "data": {
      "text/plain": [
       "array([array([0, 0, 0, 0, 1, 0, 0, 0, 0, 0, 1, 0, 0, 0, 0, 0, 0, 0, 0, 0, 0, 0,\n",
       "       0, 0, 0, 0, 0, 0, 0, 0, 0, 0, 0, 0, 0, 0, 0, 1, 0, 0]),\n",
       "       array([0, 0, 0, 0, 0, 0, 0, 0, 0, 0, 0, 0, 0, 0, 0, 0, 0, 0, 0, 0, 0, 0,\n",
       "       0, 0, 0, 0, 1, 0, 0, 0, 0, 0, 0, 0, 0, 0, 0, 0, 0, 0]),\n",
       "       array([0, 0, 0, 0, 0, 0, 0, 0, 0, 0, 0, 1, 0, 0, 0, 0, 0, 0, 0, 0, 0, 0,\n",
       "       0, 0, 0, 0, 1, 0, 0, 1, 0, 0, 0, 0, 0, 0, 0, 0, 0, 1]),\n",
       "       array([0, 0, 0, 0, 0, 0, 0, 0, 1, 0, 0, 0, 0, 0, 0, 0, 0, 0, 0, 0, 0, 0,\n",
       "       0, 0, 0, 0, 1, 0, 0, 0, 0, 0, 0, 0, 0, 0, 1, 1, 1, 0]),\n",
       "       array([0, 0, 0, 0, 0, 0, 0, 0, 0, 0, 0, 0, 1, 1, 0, 0, 0, 0, 0, 0, 0, 0,\n",
       "       0, 0, 0, 0, 1, 0, 0, 0, 0, 0, 0, 0, 0, 0, 0, 0, 0, 0]),\n",
       "       array([0, 0, 0, 0, 0, 1, 0, 0, 0, 0, 0, 0, 0, 0, 0, 0, 0, 0, 0, 0, 0, 0,\n",
       "       0, 0, 0, 0, 0, 0, 0, 0, 0, 0, 0, 1, 1, 0, 0, 0, 0, 0]),\n",
       "       array([0, 0, 0, 0, 0, 0, 0, 0, 0, 0, 1, 0, 0, 0, 1, 0, 0, 1, 0, 0, 0, 0,\n",
       "       1, 1, 0, 1, 0, 0, 0, 0, 0, 1, 1, 0, 0, 0, 0, 1, 0, 0]),\n",
       "       array([0, 0, 0, 0, 0, 0, 0, 0, 0, 0, 0, 0, 0, 0, 0, 0, 0, 0, 0, 0, 0, 0,\n",
       "       0, 0, 0, 0, 1, 0, 0, 0, 0, 0, 0, 0, 0, 0, 0, 0, 0, 0]),\n",
       "       array([0, 0, 0, 0, 0, 0, 0, 1, 0, 0, 0, 0, 0, 0, 0, 0, 0, 0, 0, 1, 0, 0,\n",
       "       0, 0, 0, 0, 0, 1, 0, 0, 0, 0, 0, 0, 0, 0, 0, 0, 0, 0]),\n",
       "       array([0, 0, 0, 1, 0, 0, 0, 0, 0, 0, 0, 0, 0, 0, 0, 0, 0, 0, 0, 0, 0, 0,\n",
       "       0, 0, 0, 0, 1, 0, 0, 0, 0, 0, 0, 0, 0, 0, 1, 1, 0, 0]),\n",
       "       array([0, 0, 0, 0, 0, 0, 0, 0, 0, 0, 1, 0, 0, 0, 0, 0, 0, 0, 0, 0, 0, 0,\n",
       "       1, 0, 0, 0, 0, 0, 0, 0, 0, 0, 0, 0, 0, 0, 1, 1, 0, 0]),\n",
       "       array([1, 0, 0, 0, 0, 0, 0, 0, 0, 0, 0, 0, 0, 0, 0, 0, 0, 0, 0, 0, 0, 0,\n",
       "       0, 1, 0, 0, 0, 0, 0, 0, 0, 0, 1, 0, 1, 0, 0, 0, 0, 0]),\n",
       "       array([0, 0, 0, 0, 0, 0, 0, 0, 0, 0, 0, 0, 0, 0, 0, 1, 0, 0, 0, 0, 0, 0,\n",
       "       0, 0, 0, 0, 0, 0, 0, 0, 0, 0, 0, 0, 0, 0, 0, 0, 0, 0])],\n",
       "      dtype=object)"
      ]
     },
     "execution_count": 75,
     "metadata": {},
     "output_type": "execute_result"
    }
   ],
   "source": [
    "df_train[\"Bio Encoded Labels\"].to_numpy()"
   ]
  },
  {
   "cell_type": "code",
   "execution_count": 102,
   "metadata": {},
   "outputs": [
    {
     "data": {
      "text/plain": [
       "(13, 514)"
      ]
     },
     "execution_count": 102,
     "metadata": {},
     "output_type": "execute_result"
    }
   ],
   "source": [
    "train_tfidf_bio.toarray().shape"
   ]
  },
  {
   "cell_type": "code",
   "execution_count": 103,
   "metadata": {},
   "outputs": [
    {
     "data": {
      "text/plain": [
       "(520,)"
      ]
     },
     "execution_count": 103,
     "metadata": {},
     "output_type": "execute_result"
    }
   ],
   "source": [
    "single_bio_lab.shape"
   ]
  },
  {
   "cell_type": "code",
   "execution_count": null,
   "metadata": {},
   "outputs": [],
   "source": []
  },
  {
   "cell_type": "code",
   "execution_count": null,
   "metadata": {},
   "outputs": [],
   "source": []
  },
  {
   "cell_type": "code",
   "execution_count": null,
   "metadata": {},
   "outputs": [],
   "source": []
  },
  {
   "cell_type": "code",
   "execution_count": null,
   "metadata": {},
   "outputs": [],
   "source": []
  },
  {
   "cell_type": "code",
   "execution_count": null,
   "metadata": {},
   "outputs": [],
   "source": []
  },
  {
   "cell_type": "code",
   "execution_count": null,
   "metadata": {},
   "outputs": [],
   "source": []
  },
  {
   "cell_type": "code",
   "execution_count": null,
   "metadata": {},
   "outputs": [],
   "source": []
  }
 ],
 "metadata": {
  "kernelspec": {
   "display_name": "Python 3",
   "language": "python",
   "name": "python3"
  },
  "language_info": {
   "codemirror_mode": {
    "name": "ipython",
    "version": 3
   },
   "file_extension": ".py",
   "mimetype": "text/x-python",
   "name": "python",
   "nbconvert_exporter": "python",
   "pygments_lexer": "ipython3",
   "version": "3.8.3"
  }
 },
 "nbformat": 4,
 "nbformat_minor": 4
}
