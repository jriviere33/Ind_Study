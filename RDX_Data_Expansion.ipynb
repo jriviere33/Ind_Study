{
 "cells": [
  {
   "cell_type": "markdown",
   "metadata": {},
   "source": [
    "# Imports"
   ]
  },
  {
   "cell_type": "code",
   "execution_count": 119,
   "metadata": {},
   "outputs": [],
   "source": [
    "#Imports\n",
    "import matplotlib.pyplot as plt\n",
    "import pandas as pd\n",
    "import numpy as np\n",
    "from numpy import linalg as LA\n",
    "from sklearn.preprocessing import label_binarize\n",
    "from sklearn.model_selection import train_test_split\n",
    "from sklearn.utils import shuffle\n",
    "from sklearn.feature_extraction.text import CountVectorizer\n",
    "from sklearn.feature_extraction.text import TfidfVectorizer\n",
    "from sklearn.model_selection import GridSearchCV\n",
    "from sklearn import metrics\n",
    "from sklearn.metrics import roc_curve\n",
    "from sklearn.metrics import roc_auc_score\n",
    "from sklearn.neighbors import KNeighborsClassifier\n",
    "from sklearn.neighbors import DistanceMetric\n",
    "from sklearn.metrics.pairwise import euclidean_distances\n",
    "from sklearn.linear_model import LogisticRegression\n",
    "from sklearn.multioutput import MultiOutputClassifier\n",
    "#from skmultilearn.adapt import MLkNN\n",
    "#import multilabel_knn as mlk\n",
    "import re\n",
    "import string\n",
    "import nltk\n",
    "from tqdm import tqdm #to show progress bar"
   ]
  },
  {
   "cell_type": "code",
   "execution_count": 120,
   "metadata": {},
   "outputs": [],
   "source": [
    "og_data_df = pd.DataFrame(pd.read_excel(\"Desktop/CMU/Ind_Study/Responses.xlsx\"))"
   ]
  },
  {
   "cell_type": "code",
   "execution_count": 121,
   "metadata": {},
   "outputs": [],
   "source": [
    "new_data_df = pd.DataFrame(pd.read_excel(\"Desktop/CMU/Ind_Study/Responses_GPT.xlsx\"))"
   ]
  },
  {
   "cell_type": "code",
   "execution_count": 122,
   "metadata": {},
   "outputs": [
    {
     "data": {
      "text/html": [
       "<div>\n",
       "<style scoped>\n",
       "    .dataframe tbody tr th:only-of-type {\n",
       "        vertical-align: middle;\n",
       "    }\n",
       "\n",
       "    .dataframe tbody tr th {\n",
       "        vertical-align: top;\n",
       "    }\n",
       "\n",
       "    .dataframe thead th {\n",
       "        text-align: right;\n",
       "    }\n",
       "</style>\n",
       "<table border=\"1\" class=\"dataframe\">\n",
       "  <thead>\n",
       "    <tr style=\"text-align: right;\">\n",
       "      <th></th>\n",
       "      <th>Profile Bio / Statement of Entrepreneur Background (Experience)</th>\n",
       "      <th>What problems/issues are you currently facing in your entrepreneurship space (i.e., things that founders face such as challenges with investors, cofounders, business stressors, business model, strategic partners, company culture, anxiety, sales, financing, etc.)?</th>\n",
       "      <th>Bio Labels</th>\n",
       "      <th>Problem Labels</th>\n",
       "    </tr>\n",
       "  </thead>\n",
       "  <tbody>\n",
       "    <tr>\n",
       "      <th>0</th>\n",
       "      <td>While in college, I had the opportunity to wor...</td>\n",
       "      <td>One of the biggest early challenges that we fa...</td>\n",
       "      <td>College entrepreneurship, Minimum viable produ...</td>\n",
       "      <td>Startup transition, Young team, Small startup,...</td>\n",
       "    </tr>\n",
       "    <tr>\n",
       "      <th>1</th>\n",
       "      <td>My name is *****. I am a software engineer and...</td>\n",
       "      <td>I am currently experiencing the challenge of t...</td>\n",
       "      <td>Software, Technology</td>\n",
       "      <td>Young team, Lacks experience, Minimum viable p...</td>\n",
       "    </tr>\n",
       "    <tr>\n",
       "      <th>2</th>\n",
       "      <td>I have worked for several tech startups, most ...</td>\n",
       "      <td>I would say loneliness and mental health are k...</td>\n",
       "      <td>Software, Technology, Video game, Commercializ...</td>\n",
       "      <td>Lonely, Mental health, Lacks support</td>\n",
       "    </tr>\n",
       "    <tr>\n",
       "      <th>3</th>\n",
       "      <td>8 years of sales, entrepreneur at heart.\\nGrad...</td>\n",
       "      <td>I’m a visionary so I love all of the product d...</td>\n",
       "      <td>Sales, Marketing</td>\n",
       "      <td>Startup finance, Finding investors, Business law</td>\n",
       "    </tr>\n",
       "    <tr>\n",
       "      <th>4</th>\n",
       "      <td>Founded natural skincare company\\nAcquired sma...</td>\n",
       "      <td>Staffing issues\\nTech Disparity in multi gener...</td>\n",
       "      <td>Skincare, Coffee, Business, Consulting</td>\n",
       "      <td>Staffing issues, Workforce lacks knowledge, La...</td>\n",
       "    </tr>\n",
       "  </tbody>\n",
       "</table>\n",
       "</div>"
      ],
      "text/plain": [
       "  Profile Bio / Statement of Entrepreneur Background (Experience)  \\\n",
       "0  While in college, I had the opportunity to wor...                \n",
       "1  My name is *****. I am a software engineer and...                \n",
       "2  I have worked for several tech startups, most ...                \n",
       "3  8 years of sales, entrepreneur at heart.\\nGrad...                \n",
       "4  Founded natural skincare company\\nAcquired sma...                \n",
       "\n",
       "  What problems/issues are you currently facing in your entrepreneurship space (i.e., things that founders face such as challenges with investors, cofounders, business stressors, business model, strategic partners, company culture, anxiety, sales, financing, etc.)?  \\\n",
       "0  One of the biggest early challenges that we fa...                                                                                                                                                                                                                        \n",
       "1  I am currently experiencing the challenge of t...                                                                                                                                                                                                                        \n",
       "2  I would say loneliness and mental health are k...                                                                                                                                                                                                                        \n",
       "3  I’m a visionary so I love all of the product d...                                                                                                                                                                                                                        \n",
       "4  Staffing issues\\nTech Disparity in multi gener...                                                                                                                                                                                                                        \n",
       "\n",
       "                                          Bio Labels  \\\n",
       "0  College entrepreneurship, Minimum viable produ...   \n",
       "1                               Software, Technology   \n",
       "2  Software, Technology, Video game, Commercializ...   \n",
       "3                                  Sales, Marketing    \n",
       "4             Skincare, Coffee, Business, Consulting   \n",
       "\n",
       "                                      Problem Labels  \n",
       "0  Startup transition, Young team, Small startup,...  \n",
       "1  Young team, Lacks experience, Minimum viable p...  \n",
       "2               Lonely, Mental health, Lacks support  \n",
       "3   Startup finance, Finding investors, Business law  \n",
       "4  Staffing issues, Workforce lacks knowledge, La...  "
      ]
     },
     "execution_count": 122,
     "metadata": {},
     "output_type": "execute_result"
    }
   ],
   "source": [
    "og_data_df.head(5)"
   ]
  },
  {
   "cell_type": "code",
   "execution_count": 123,
   "metadata": {},
   "outputs": [
    {
     "data": {
      "text/html": [
       "<div>\n",
       "<style scoped>\n",
       "    .dataframe tbody tr th:only-of-type {\n",
       "        vertical-align: middle;\n",
       "    }\n",
       "\n",
       "    .dataframe tbody tr th {\n",
       "        vertical-align: top;\n",
       "    }\n",
       "\n",
       "    .dataframe thead th {\n",
       "        text-align: right;\n",
       "    }\n",
       "</style>\n",
       "<table border=\"1\" class=\"dataframe\">\n",
       "  <thead>\n",
       "    <tr style=\"text-align: right;\">\n",
       "      <th></th>\n",
       "      <th>Profile Bio / Statement of Entrepreneur Background (Experience)</th>\n",
       "      <th>Original Bio statement (before refactoring)</th>\n",
       "      <th>What problems/issues are you currently facing in your entrepreneurship space (i.e., things that founders face such as challenges with investors, cofounders, business stressors, business model, strategic partners, company culture, anxiety, sales, financing, etc.)?</th>\n",
       "      <th>Original Problem statement (before refactoring)</th>\n",
       "      <th>Bio Labels</th>\n",
       "      <th>Problem Labels</th>\n",
       "      <th>Bio Query in ChatGPT</th>\n",
       "      <th>Problem Query in ChatGPT</th>\n",
       "      <th>Real data influence</th>\n",
       "    </tr>\n",
       "  </thead>\n",
       "  <tbody>\n",
       "    <tr>\n",
       "      <th>0</th>\n",
       "      <td>I have founded a medical technology company ca...</td>\n",
       "      <td>Here is a potential entrepreneurial background...</td>\n",
       "      <td>I don’t come from a very business savvy backgr...</td>\n",
       "      <td>Managing and overseeing a large team of employ...</td>\n",
       "      <td>Medical technology, Technology, Middle startup...</td>\n",
       "      <td>Stakeholders, Competition, Business law, Talent</td>\n",
       "      <td>Write the entrepreneurial background of a foun...</td>\n",
       "      <td>Write the problems of a founder of a medical c...</td>\n",
       "      <td>12</td>\n",
       "    </tr>\n",
       "    <tr>\n",
       "      <th>1</th>\n",
       "      <td>**** founded the restaurant Nova. She worked f...</td>\n",
       "      <td>The founder of the medium-sized restaurant is ...</td>\n",
       "      <td>1) Dealing with the competition in an industry...</td>\n",
       "      <td>Competition: In a crowded market, it can be di...</td>\n",
       "      <td>Restaurant, Middle startup experience</td>\n",
       "      <td>Competition, Investor acquisition, Vision, Tal...</td>\n",
       "      <td>Write the entrepreneurial background of a foun...</td>\n",
       "      <td>Write the problems of a founder of a restauran...</td>\n",
       "      <td>19</td>\n",
       "    </tr>\n",
       "    <tr>\n",
       "      <th>2</th>\n",
       "      <td>4 years as a high school teacher, always have ...</td>\n",
       "      <td>The founder of our education company, Jane Doe...</td>\n",
       "      <td>I have always been more inclined to the academ...</td>\n",
       "      <td>As the founder of a large education company, J...</td>\n",
       "      <td>Education, Small startup experience</td>\n",
       "      <td>Business law, Marketing, Competition</td>\n",
       "      <td>Write the entrepreneurial background of a foun...</td>\n",
       "      <td>Write the problems of a founder of a education...</td>\n",
       "      <td>5</td>\n",
       "    </tr>\n",
       "    <tr>\n",
       "      <th>3</th>\n",
       "      <td>Very limited</td>\n",
       "      <td>The founder of this ecommerce company began th...</td>\n",
       "      <td>Competition, Scalability</td>\n",
       "      <td>As the founder of a large ecommerce company, s...</td>\n",
       "      <td>No startup experience</td>\n",
       "      <td>Competition, Growth strategy</td>\n",
       "      <td>Write the entrepreneurial background of a foun...</td>\n",
       "      <td>Write the problems of a founder of a Ecommerce...</td>\n",
       "      <td>13</td>\n",
       "    </tr>\n",
       "    <tr>\n",
       "      <th>4</th>\n",
       "      <td>Designer who started a clothing company after ...</td>\n",
       "      <td>The founder of our small clothing company has ...</td>\n",
       "      <td>Starting a fashion company is very challenging...</td>\n",
       "      <td>As the founder of a small clothing company, so...</td>\n",
       "      <td>Clothing, Fashion design, Small startup experi...</td>\n",
       "      <td>Lacking resources, Growth strategy, Culture, B...</td>\n",
       "      <td>Write the entrepreneurial background of a foun...</td>\n",
       "      <td>Write the problems of a founder of a clothing ...</td>\n",
       "      <td>10</td>\n",
       "    </tr>\n",
       "  </tbody>\n",
       "</table>\n",
       "</div>"
      ],
      "text/plain": [
       "  Profile Bio / Statement of Entrepreneur Background (Experience)  \\\n",
       "0  I have founded a medical technology company ca...                \n",
       "1  **** founded the restaurant Nova. She worked f...                \n",
       "2  4 years as a high school teacher, always have ...                \n",
       "3                                       Very limited                \n",
       "4  Designer who started a clothing company after ...                \n",
       "\n",
       "         Original Bio statement (before refactoring)  \\\n",
       "0  Here is a potential entrepreneurial background...   \n",
       "1  The founder of the medium-sized restaurant is ...   \n",
       "2  The founder of our education company, Jane Doe...   \n",
       "3  The founder of this ecommerce company began th...   \n",
       "4  The founder of our small clothing company has ...   \n",
       "\n",
       "  What problems/issues are you currently facing in your entrepreneurship space (i.e., things that founders face such as challenges with investors, cofounders, business stressors, business model, strategic partners, company culture, anxiety, sales, financing, etc.)?  \\\n",
       "0  I don’t come from a very business savvy backgr...                                                                                                                                                                                                                        \n",
       "1  1) Dealing with the competition in an industry...                                                                                                                                                                                                                        \n",
       "2  I have always been more inclined to the academ...                                                                                                                                                                                                                        \n",
       "3                           Competition, Scalability                                                                                                                                                                                                                        \n",
       "4  Starting a fashion company is very challenging...                                                                                                                                                                                                                        \n",
       "\n",
       "     Original Problem statement (before refactoring)  \\\n",
       "0  Managing and overseeing a large team of employ...   \n",
       "1  Competition: In a crowded market, it can be di...   \n",
       "2  As the founder of a large education company, J...   \n",
       "3  As the founder of a large ecommerce company, s...   \n",
       "4  As the founder of a small clothing company, so...   \n",
       "\n",
       "                                          Bio Labels  \\\n",
       "0  Medical technology, Technology, Middle startup...   \n",
       "1              Restaurant, Middle startup experience   \n",
       "2                Education, Small startup experience   \n",
       "3                              No startup experience   \n",
       "4  Clothing, Fashion design, Small startup experi...   \n",
       "\n",
       "                                      Problem Labels  \\\n",
       "0    Stakeholders, Competition, Business law, Talent   \n",
       "1  Competition, Investor acquisition, Vision, Tal...   \n",
       "2               Business law, Marketing, Competition   \n",
       "3                       Competition, Growth strategy   \n",
       "4  Lacking resources, Growth strategy, Culture, B...   \n",
       "\n",
       "                                Bio Query in ChatGPT  \\\n",
       "0  Write the entrepreneurial background of a foun...   \n",
       "1  Write the entrepreneurial background of a foun...   \n",
       "2  Write the entrepreneurial background of a foun...   \n",
       "3  Write the entrepreneurial background of a foun...   \n",
       "4  Write the entrepreneurial background of a foun...   \n",
       "\n",
       "                            Problem Query in ChatGPT  Real data influence  \n",
       "0  Write the problems of a founder of a medical c...                   12  \n",
       "1  Write the problems of a founder of a restauran...                   19  \n",
       "2  Write the problems of a founder of a education...                    5  \n",
       "3  Write the problems of a founder of a Ecommerce...                   13  \n",
       "4  Write the problems of a founder of a clothing ...                   10  "
      ]
     },
     "execution_count": 123,
     "metadata": {},
     "output_type": "execute_result"
    }
   ],
   "source": [
    "new_data_df.head(5)"
   ]
  },
  {
   "cell_type": "code",
   "execution_count": 124,
   "metadata": {},
   "outputs": [],
   "source": [
    "new_data_df = new_data_df[['Profile Bio / Statement of Entrepreneur Background (Experience)', 'What problems/issues are you currently facing in your entrepreneurship space (i.e., things that founders face such as challenges with investors, cofounders, business stressors, business model, strategic partners, company culture, anxiety, sales, financing, etc.)?', 'Bio Labels', 'Problem Labels']]"
   ]
  },
  {
   "cell_type": "code",
   "execution_count": 125,
   "metadata": {},
   "outputs": [
    {
     "data": {
      "text/html": [
       "<div>\n",
       "<style scoped>\n",
       "    .dataframe tbody tr th:only-of-type {\n",
       "        vertical-align: middle;\n",
       "    }\n",
       "\n",
       "    .dataframe tbody tr th {\n",
       "        vertical-align: top;\n",
       "    }\n",
       "\n",
       "    .dataframe thead th {\n",
       "        text-align: right;\n",
       "    }\n",
       "</style>\n",
       "<table border=\"1\" class=\"dataframe\">\n",
       "  <thead>\n",
       "    <tr style=\"text-align: right;\">\n",
       "      <th></th>\n",
       "      <th>Profile Bio / Statement of Entrepreneur Background (Experience)</th>\n",
       "      <th>What problems/issues are you currently facing in your entrepreneurship space (i.e., things that founders face such as challenges with investors, cofounders, business stressors, business model, strategic partners, company culture, anxiety, sales, financing, etc.)?</th>\n",
       "      <th>Bio Labels</th>\n",
       "      <th>Problem Labels</th>\n",
       "    </tr>\n",
       "  </thead>\n",
       "  <tbody>\n",
       "    <tr>\n",
       "      <th>0</th>\n",
       "      <td>I have founded a medical technology company ca...</td>\n",
       "      <td>I don’t come from a very business savvy backgr...</td>\n",
       "      <td>Medical technology, Technology, Middle startup...</td>\n",
       "      <td>Stakeholders, Competition, Business law, Talent</td>\n",
       "    </tr>\n",
       "    <tr>\n",
       "      <th>1</th>\n",
       "      <td>**** founded the restaurant Nova. She worked f...</td>\n",
       "      <td>1) Dealing with the competition in an industry...</td>\n",
       "      <td>Restaurant, Middle startup experience</td>\n",
       "      <td>Competition, Investor acquisition, Vision, Tal...</td>\n",
       "    </tr>\n",
       "    <tr>\n",
       "      <th>2</th>\n",
       "      <td>4 years as a high school teacher, always have ...</td>\n",
       "      <td>I have always been more inclined to the academ...</td>\n",
       "      <td>Education, Small startup experience</td>\n",
       "      <td>Business law, Marketing, Competition</td>\n",
       "    </tr>\n",
       "    <tr>\n",
       "      <th>3</th>\n",
       "      <td>Very limited</td>\n",
       "      <td>Competition, Scalability</td>\n",
       "      <td>No startup experience</td>\n",
       "      <td>Competition, Growth strategy</td>\n",
       "    </tr>\n",
       "    <tr>\n",
       "      <th>4</th>\n",
       "      <td>Designer who started a clothing company after ...</td>\n",
       "      <td>Starting a fashion company is very challenging...</td>\n",
       "      <td>Clothing, Fashion design, Small startup experi...</td>\n",
       "      <td>Lacking resources, Growth strategy, Culture, B...</td>\n",
       "    </tr>\n",
       "  </tbody>\n",
       "</table>\n",
       "</div>"
      ],
      "text/plain": [
       "  Profile Bio / Statement of Entrepreneur Background (Experience)  \\\n",
       "0  I have founded a medical technology company ca...                \n",
       "1  **** founded the restaurant Nova. She worked f...                \n",
       "2  4 years as a high school teacher, always have ...                \n",
       "3                                       Very limited                \n",
       "4  Designer who started a clothing company after ...                \n",
       "\n",
       "  What problems/issues are you currently facing in your entrepreneurship space (i.e., things that founders face such as challenges with investors, cofounders, business stressors, business model, strategic partners, company culture, anxiety, sales, financing, etc.)?  \\\n",
       "0  I don’t come from a very business savvy backgr...                                                                                                                                                                                                                        \n",
       "1  1) Dealing with the competition in an industry...                                                                                                                                                                                                                        \n",
       "2  I have always been more inclined to the academ...                                                                                                                                                                                                                        \n",
       "3                           Competition, Scalability                                                                                                                                                                                                                        \n",
       "4  Starting a fashion company is very challenging...                                                                                                                                                                                                                        \n",
       "\n",
       "                                          Bio Labels  \\\n",
       "0  Medical technology, Technology, Middle startup...   \n",
       "1              Restaurant, Middle startup experience   \n",
       "2                Education, Small startup experience   \n",
       "3                              No startup experience   \n",
       "4  Clothing, Fashion design, Small startup experi...   \n",
       "\n",
       "                                      Problem Labels  \n",
       "0    Stakeholders, Competition, Business law, Talent  \n",
       "1  Competition, Investor acquisition, Vision, Tal...  \n",
       "2               Business law, Marketing, Competition  \n",
       "3                       Competition, Growth strategy  \n",
       "4  Lacking resources, Growth strategy, Culture, B...  "
      ]
     },
     "execution_count": 125,
     "metadata": {},
     "output_type": "execute_result"
    }
   ],
   "source": [
    "new_data_df.head(5)"
   ]
  },
  {
   "cell_type": "code",
   "execution_count": 126,
   "metadata": {},
   "outputs": [],
   "source": [
    "og_data_df = og_data_df.rename(columns={\"Profile Bio / Statement of Entrepreneur Background (Experience)\": \"Bio\", \"What problems/issues are you currently facing in your entrepreneurship space (i.e., things that founders face such as challenges with investors, cofounders, business stressors, business model, strategic partners, company culture, anxiety, sales, financing, etc.)?\": \"Problem\"})\n",
    "new_data_df = new_data_df.rename(columns={\"Profile Bio / Statement of Entrepreneur Background (Experience)\": \"Bio\", \"What problems/issues are you currently facing in your entrepreneurship space (i.e., things that founders face such as challenges with investors, cofounders, business stressors, business model, strategic partners, company culture, anxiety, sales, financing, etc.)?\": \"Problem\"})"
   ]
  },
  {
   "cell_type": "code",
   "execution_count": 127,
   "metadata": {},
   "outputs": [
    {
     "data": {
      "text/html": [
       "<div>\n",
       "<style scoped>\n",
       "    .dataframe tbody tr th:only-of-type {\n",
       "        vertical-align: middle;\n",
       "    }\n",
       "\n",
       "    .dataframe tbody tr th {\n",
       "        vertical-align: top;\n",
       "    }\n",
       "\n",
       "    .dataframe thead th {\n",
       "        text-align: right;\n",
       "    }\n",
       "</style>\n",
       "<table border=\"1\" class=\"dataframe\">\n",
       "  <thead>\n",
       "    <tr style=\"text-align: right;\">\n",
       "      <th></th>\n",
       "      <th>Bio</th>\n",
       "      <th>Problem</th>\n",
       "      <th>Bio Labels</th>\n",
       "      <th>Problem Labels</th>\n",
       "    </tr>\n",
       "  </thead>\n",
       "  <tbody>\n",
       "    <tr>\n",
       "      <th>0</th>\n",
       "      <td>While in college, I had the opportunity to wor...</td>\n",
       "      <td>One of the biggest early challenges that we fa...</td>\n",
       "      <td>College entrepreneurship, Minimum viable produ...</td>\n",
       "      <td>Startup transition, Young team, Small startup,...</td>\n",
       "    </tr>\n",
       "  </tbody>\n",
       "</table>\n",
       "</div>"
      ],
      "text/plain": [
       "                                                 Bio  \\\n",
       "0  While in college, I had the opportunity to wor...   \n",
       "\n",
       "                                             Problem  \\\n",
       "0  One of the biggest early challenges that we fa...   \n",
       "\n",
       "                                          Bio Labels  \\\n",
       "0  College entrepreneurship, Minimum viable produ...   \n",
       "\n",
       "                                      Problem Labels  \n",
       "0  Startup transition, Young team, Small startup,...  "
      ]
     },
     "execution_count": 127,
     "metadata": {},
     "output_type": "execute_result"
    }
   ],
   "source": [
    "og_data_df.head(1)"
   ]
  },
  {
   "cell_type": "code",
   "execution_count": 128,
   "metadata": {},
   "outputs": [
    {
     "data": {
      "text/html": [
       "<div>\n",
       "<style scoped>\n",
       "    .dataframe tbody tr th:only-of-type {\n",
       "        vertical-align: middle;\n",
       "    }\n",
       "\n",
       "    .dataframe tbody tr th {\n",
       "        vertical-align: top;\n",
       "    }\n",
       "\n",
       "    .dataframe thead th {\n",
       "        text-align: right;\n",
       "    }\n",
       "</style>\n",
       "<table border=\"1\" class=\"dataframe\">\n",
       "  <thead>\n",
       "    <tr style=\"text-align: right;\">\n",
       "      <th></th>\n",
       "      <th>Bio</th>\n",
       "      <th>Problem</th>\n",
       "      <th>Bio Labels</th>\n",
       "      <th>Problem Labels</th>\n",
       "    </tr>\n",
       "  </thead>\n",
       "  <tbody>\n",
       "    <tr>\n",
       "      <th>0</th>\n",
       "      <td>I have founded a medical technology company ca...</td>\n",
       "      <td>I don’t come from a very business savvy backgr...</td>\n",
       "      <td>Medical technology, Technology, Middle startup...</td>\n",
       "      <td>Stakeholders, Competition, Business law, Talent</td>\n",
       "    </tr>\n",
       "  </tbody>\n",
       "</table>\n",
       "</div>"
      ],
      "text/plain": [
       "                                                 Bio  \\\n",
       "0  I have founded a medical technology company ca...   \n",
       "\n",
       "                                             Problem  \\\n",
       "0  I don’t come from a very business savvy backgr...   \n",
       "\n",
       "                                          Bio Labels  \\\n",
       "0  Medical technology, Technology, Middle startup...   \n",
       "\n",
       "                                    Problem Labels  \n",
       "0  Stakeholders, Competition, Business law, Talent  "
      ]
     },
     "execution_count": 128,
     "metadata": {},
     "output_type": "execute_result"
    }
   ],
   "source": [
    "new_data_df.head(1)"
   ]
  },
  {
   "cell_type": "code",
   "execution_count": 129,
   "metadata": {},
   "outputs": [
    {
     "data": {
      "text/html": [
       "<div>\n",
       "<style scoped>\n",
       "    .dataframe tbody tr th:only-of-type {\n",
       "        vertical-align: middle;\n",
       "    }\n",
       "\n",
       "    .dataframe tbody tr th {\n",
       "        vertical-align: top;\n",
       "    }\n",
       "\n",
       "    .dataframe thead th {\n",
       "        text-align: right;\n",
       "    }\n",
       "</style>\n",
       "<table border=\"1\" class=\"dataframe\">\n",
       "  <thead>\n",
       "    <tr style=\"text-align: right;\">\n",
       "      <th></th>\n",
       "      <th>Bio</th>\n",
       "      <th>Problem</th>\n",
       "      <th>Bio Labels</th>\n",
       "      <th>Problem Labels</th>\n",
       "    </tr>\n",
       "  </thead>\n",
       "  <tbody>\n",
       "    <tr>\n",
       "      <th>0</th>\n",
       "      <td>While in college, I had the opportunity to wor...</td>\n",
       "      <td>One of the biggest early challenges that we fa...</td>\n",
       "      <td>College entrepreneurship, Minimum viable produ...</td>\n",
       "      <td>Startup transition, Young team, Small startup,...</td>\n",
       "    </tr>\n",
       "    <tr>\n",
       "      <th>1</th>\n",
       "      <td>My name is *****. I am a software engineer and...</td>\n",
       "      <td>I am currently experiencing the challenge of t...</td>\n",
       "      <td>Software, Technology</td>\n",
       "      <td>Young team, Lacks experience, Minimum viable p...</td>\n",
       "    </tr>\n",
       "    <tr>\n",
       "      <th>2</th>\n",
       "      <td>I have worked for several tech startups, most ...</td>\n",
       "      <td>I would say loneliness and mental health are k...</td>\n",
       "      <td>Software, Technology, Video game, Commercializ...</td>\n",
       "      <td>Lonely, Mental health, Lacks support</td>\n",
       "    </tr>\n",
       "  </tbody>\n",
       "</table>\n",
       "</div>"
      ],
      "text/plain": [
       "                                                 Bio  \\\n",
       "0  While in college, I had the opportunity to wor...   \n",
       "1  My name is *****. I am a software engineer and...   \n",
       "2  I have worked for several tech startups, most ...   \n",
       "\n",
       "                                             Problem  \\\n",
       "0  One of the biggest early challenges that we fa...   \n",
       "1  I am currently experiencing the challenge of t...   \n",
       "2  I would say loneliness and mental health are k...   \n",
       "\n",
       "                                          Bio Labels  \\\n",
       "0  College entrepreneurship, Minimum viable produ...   \n",
       "1                               Software, Technology   \n",
       "2  Software, Technology, Video game, Commercializ...   \n",
       "\n",
       "                                      Problem Labels  \n",
       "0  Startup transition, Young team, Small startup,...  \n",
       "1  Young team, Lacks experience, Minimum viable p...  \n",
       "2               Lonely, Mental health, Lacks support  "
      ]
     },
     "execution_count": 129,
     "metadata": {},
     "output_type": "execute_result"
    }
   ],
   "source": [
    "df = pd.concat([og_data_df, new_data_df])\n",
    "df.head(3)"
   ]
  },
  {
   "cell_type": "code",
   "execution_count": 130,
   "metadata": {},
   "outputs": [
    {
     "data": {
      "text/html": [
       "<div>\n",
       "<style scoped>\n",
       "    .dataframe tbody tr th:only-of-type {\n",
       "        vertical-align: middle;\n",
       "    }\n",
       "\n",
       "    .dataframe tbody tr th {\n",
       "        vertical-align: top;\n",
       "    }\n",
       "\n",
       "    .dataframe thead th {\n",
       "        text-align: right;\n",
       "    }\n",
       "</style>\n",
       "<table border=\"1\" class=\"dataframe\">\n",
       "  <thead>\n",
       "    <tr style=\"text-align: right;\">\n",
       "      <th></th>\n",
       "      <th>Bio</th>\n",
       "      <th>Problem</th>\n",
       "      <th>Bio Labels</th>\n",
       "      <th>Problem Labels</th>\n",
       "    </tr>\n",
       "  </thead>\n",
       "  <tbody>\n",
       "    <tr>\n",
       "      <th>20</th>\n",
       "      <td>Founded a tailoring company\\n\\n3 years in the ...</td>\n",
       "      <td>Managing company brand and reputation\\n\\nAnxie...</td>\n",
       "      <td>Tailoring, Small startup experience</td>\n",
       "      <td>Growth strategy, Talent, Business law, Culture</td>\n",
       "    </tr>\n",
       "    <tr>\n",
       "      <th>21</th>\n",
       "      <td>Founder of nonprofit charity Savior’s Hands</td>\n",
       "      <td>Talent and Resource allocation</td>\n",
       "      <td>Charity, Small startup experience</td>\n",
       "      <td>Talent, Resources</td>\n",
       "    </tr>\n",
       "    <tr>\n",
       "      <th>22</th>\n",
       "      <td>In 2015 I founded a data company that allows c...</td>\n",
       "      <td>Managing the security challenges that come wit...</td>\n",
       "      <td>Data, Middle startup experience</td>\n",
       "      <td>Security, Business law, Growth strategy</td>\n",
       "    </tr>\n",
       "  </tbody>\n",
       "</table>\n",
       "</div>"
      ],
      "text/plain": [
       "                                                  Bio  \\\n",
       "20  Founded a tailoring company\\n\\n3 years in the ...   \n",
       "21        Founder of nonprofit charity Savior’s Hands   \n",
       "22  In 2015 I founded a data company that allows c...   \n",
       "\n",
       "                                              Problem  \\\n",
       "20  Managing company brand and reputation\\n\\nAnxie...   \n",
       "21                     Talent and Resource allocation   \n",
       "22  Managing the security challenges that come wit...   \n",
       "\n",
       "                             Bio Labels  \\\n",
       "20  Tailoring, Small startup experience   \n",
       "21    Charity, Small startup experience   \n",
       "22      Data, Middle startup experience   \n",
       "\n",
       "                                    Problem Labels  \n",
       "20  Growth strategy, Talent, Business law, Culture  \n",
       "21                               Talent, Resources  \n",
       "22         Security, Business law, Growth strategy  "
      ]
     },
     "execution_count": 130,
     "metadata": {},
     "output_type": "execute_result"
    }
   ],
   "source": [
    "df.tail(3)"
   ]
  },
  {
   "cell_type": "markdown",
   "metadata": {},
   "source": [
    "# Initial Plotting before further data expansion"
   ]
  },
  {
   "cell_type": "code",
   "execution_count": 131,
   "metadata": {},
   "outputs": [],
   "source": [
    "bio_labels = df['Bio Labels'].to_numpy()\n",
    "#bio_labels\n",
    "new = np.array([], dtype=str)\n",
    "for i in range(len(bio_labels)):\n",
    "    new = np.append(new, bio_labels[i].split(', '))\n",
    "bio_labels = new\n",
    "bio_labels.shape\n",
    "\n",
    "bio_unique, bio_counts = np.unique(bio_labels, return_counts=True)"
   ]
  },
  {
   "cell_type": "code",
   "execution_count": 132,
   "metadata": {},
   "outputs": [
    {
     "data": {
      "image/png": "[encoded data removed]",
      "text/plain": [
       "<Figure size 432x288 with 1 Axes>"
      ]
     },
     "metadata": {
      "needs_background": "light"
     },
     "output_type": "display_data"
    }
   ],
   "source": [
    "plt.bar(bio_unique, bio_counts, color ='maroon',\n",
    "        width = 0.5)\n",
    " \n",
    "plt.xticks(rotation=90)\n",
    "plt.show()"
   ]
  },
  {
   "cell_type": "code",
   "execution_count": 133,
   "metadata": {},
   "outputs": [],
   "source": [
    "prob_labels = df['Problem Labels'].to_numpy()\n",
    "#bio_labels\n",
    "new = np.array([], dtype=str)\n",
    "for i in range(len(prob_labels)):\n",
    "    new = np.append(new, prob_labels[i].split(', '))\n",
    "prob_labels = new\n",
    "prob_labels.shape\n",
    "\n",
    "prob_unique, prob_counts = np.unique(prob_labels, return_counts=True)"
   ]
  },
  {
   "cell_type": "code",
   "execution_count": 134,
   "metadata": {},
   "outputs": [
    {
     "data": {
      "image/png": "[encoded data removed]",
      "text/plain": [
       "<Figure size 432x288 with 1 Axes>"
      ]
     },
     "metadata": {
      "needs_background": "light"
     },
     "output_type": "display_data"
    }
   ],
   "source": [
    "plt.bar(prob_unique, prob_counts, color ='maroon',\n",
    "        width = 0.5)\n",
    " \n",
    "plt.xticks(rotation=90)\n",
    "plt.show()"
   ]
  },
  {
   "cell_type": "code",
   "execution_count": 135,
   "metadata": {},
   "outputs": [],
   "source": [
    "#Plotting the distribution of label count for bios\n",
    "\n",
    "bio_labels = df['Bio Labels'].to_numpy()\n",
    "\n",
    "new = np.array([], dtype=str)\n",
    "for i in range(len(bio_labels)):\n",
    "    new = np.append(new, len(bio_labels[i].split(', ')))\n",
    "bio_labels = new\n",
    "bio_labels.shape\n",
    "\n",
    "bio_count_unique, bio_count_counts = np.unique(bio_labels, return_counts=True)"
   ]
  },
  {
   "cell_type": "code",
   "execution_count": 136,
   "metadata": {},
   "outputs": [
    {
     "data": {
      "image/png": "[encoded data removed]",
      "text/plain": [
       "<Figure size 432x288 with 1 Axes>"
      ]
     },
     "metadata": {
      "needs_background": "light"
     },
     "output_type": "display_data"
    }
   ],
   "source": [
    "plt.bar(bio_count_unique, bio_count_counts, color ='maroon',\n",
    "        width = 0.5)\n",
    "plt.show()"
   ]
  },
  {
   "cell_type": "code",
   "execution_count": 137,
   "metadata": {},
   "outputs": [],
   "source": [
    "#Plotting the distribution of label count for probs\n",
    "\n",
    "prob_labels = df['Problem Labels'].to_numpy()\n",
    "\n",
    "new = np.array([], dtype=str)\n",
    "for i in range(len(prob_labels)):\n",
    "    new = np.append(new, len(prob_labels[i].split(', ')))\n",
    "prob_labels = new\n",
    "prob_labels.shape\n",
    "\n",
    "prob_count_unique, prob_count_counts = np.unique(prob_labels, return_counts=True)"
   ]
  },
  {
   "cell_type": "code",
   "execution_count": 138,
   "metadata": {},
   "outputs": [
    {
     "data": {
      "image/png": "[encoded data removed]",
      "text/plain": [
       "<Figure size 432x288 with 1 Axes>"
      ]
     },
     "metadata": {
      "needs_background": "light"
     },
     "output_type": "display_data"
    }
   ],
   "source": [
    "plt.bar(prob_count_unique, prob_count_counts, color ='maroon',\n",
    "        width = 0.5)\n",
    "\n",
    "plt.show()"
   ]
  },
  {
   "cell_type": "markdown",
   "metadata": {},
   "source": [
    "# Creating synthetic data"
   ]
  },
  {
   "cell_type": "markdown",
   "metadata": {},
   "source": [
    "### Data Augmentation through Synonym Replacement, Random Insertion, Random Swap, and Random Deletion"
   ]
  },
  {
   "cell_type": "code",
   "execution_count": 70,
   "metadata": {},
   "outputs": [
    {
     "name": "stderr",
     "output_type": "stream",
     "text": [
      "<>:163: SyntaxWarning: \"is not\" with a literal. Did you mean \"!=\"?\n",
      "<>:163: SyntaxWarning: \"is not\" with a literal. Did you mean \"!=\"?\n",
      "[nltk_data] Downloading package wordnet to\n",
      "[nltk_data]     /Users/jacobriviere/nltk_data...\n",
      "<ipython-input-70-1171ee637728>:163: SyntaxWarning: \"is not\" with a literal. Did you mean \"!=\"?\n",
      "  words = [word for word in words if word is not '']\n"
     ]
    }
   ],
   "source": [
    "import random\n",
    "from random import shuffle\n",
    "random.seed(1)\n",
    "\n",
    "#stop words list\n",
    "stop_words = ['i', 'me', 'my', 'myself', 'we', 'our', 'ours', 'ourselves', 'you', 'your', 'yours', 'yourself',\\\n",
    "              'yourselves', 'he', 'him', 'his', 'himself', 'she', 'her', 'hers', 'herself', 'it', 'its', \\\n",
    "              'itself', 'they', 'them', 'their', 'theirs', 'themselves', 'what', 'which', 'who', 'whom', \\\n",
    "              'this', 'that', 'these', 'those', 'am', 'is', 'are', 'was', 'were', 'be', 'been', 'being', \\\n",
    "              'have', 'has', 'had', 'having', 'do', 'does', 'did','doing', 'a', 'an', 'the', 'and', 'but', \\\n",
    "              'if', 'or', 'because', 'as', 'until', 'while', 'of', 'at', 'by', 'for', 'with', 'about', \\\n",
    "              'against', 'between','into', 'through', 'during', 'before', 'after', 'above', 'below', 'to', \\\n",
    "              'from', 'up', 'down', 'in','out', 'on', 'off', 'over', 'under', 'again', 'further', \\\n",
    "              'then', 'once', 'here', 'there', 'when', 'where', 'why', 'how', 'all', 'any', 'both', \\\n",
    "              'each', 'few', 'more', 'most', 'other', 'some', 'such', 'no', 'nor', 'not', 'only', 'own', \\\n",
    "              'same', 'so', 'than', 'too', 'very', 's', 't', 'can', 'will', 'just', 'don', 'should', 'now', '']\n",
    "\n",
    "#cleaning up text\n",
    "import re\n",
    "def get_only_chars(line):\n",
    "\n",
    "    clean_line = \"\"\n",
    "\n",
    "    line = line.replace(\"’\", \"\")\n",
    "    line = line.replace(\"'\", \"\")\n",
    "    line = line.replace(\"-\", \" \") #replace hyphens with spaces\n",
    "    line = line.replace(\"\\t\", \" \")\n",
    "    line = line.replace(\"\\n\", \" \")\n",
    "    line = line.lower()\n",
    "\n",
    "    for char in line:\n",
    "        if char in 'qwertyuiopasdfghjklzxcvbnm ':\n",
    "            clean_line += char\n",
    "        else:\n",
    "            clean_line += ' '\n",
    "\n",
    "    clean_line = re.sub(' +',' ',clean_line) #delete extra spaces\n",
    "    if clean_line[0] == ' ':\n",
    "        clean_line = clean_line[1:]\n",
    "    return clean_line\n",
    "\n",
    "########################################################################\n",
    "# Synonym replacement\n",
    "# Replace n words in the sentence with synonyms from wordnet\n",
    "########################################################################\n",
    "\n",
    "#for the first time you use wordnet\n",
    "import nltk\n",
    "nltk.download('wordnet')\n",
    "from nltk.corpus import wordnet \n",
    "\n",
    "def synonym_replacement(words, n):\n",
    "    new_words = words.copy()\n",
    "    random_word_list = list(set([word for word in words if word not in stop_words]))\n",
    "    random.shuffle(random_word_list)\n",
    "    num_replaced = 0\n",
    "    for random_word in random_word_list:\n",
    "        synonyms = get_synonyms(random_word)\n",
    "        if len(synonyms) >= 1:\n",
    "            synonym = random.choice(list(synonyms))\n",
    "            new_words = [synonym if word == random_word else word for word in new_words]\n",
    "            #print(\"replaced\", random_word, \"with\", synonym)\n",
    "            num_replaced += 1\n",
    "        if num_replaced >= n: #only replace up to n words\n",
    "            break\n",
    "\n",
    "    #necessary\n",
    "    sentence = ' '.join(new_words)\n",
    "    new_words = sentence.split(' ')\n",
    "\n",
    "    return new_words\n",
    "\n",
    "def get_synonyms(word):\n",
    "    synonyms = set()\n",
    "    for syn in wordnet.synsets(word): \n",
    "        for l in syn.lemmas(): \n",
    "            synonym = l.name().replace(\"_\", \" \").replace(\"-\", \" \").lower()\n",
    "            synonym = \"\".join([char for char in synonym if char in ' qwertyuiopasdfghjklzxcvbnm'])\n",
    "            synonyms.add(synonym) \n",
    "    if word in synonyms:\n",
    "        synonyms.remove(word)\n",
    "    return list(synonyms)\n",
    "\n",
    "########################################################################\n",
    "# Random deletion\n",
    "# Randomly delete words from the sentence with probability p\n",
    "########################################################################\n",
    "\n",
    "def random_deletion(words, p):\n",
    "\n",
    "    #obviously, if there's only one word, don't delete it\n",
    "    if len(words) == 1:\n",
    "        return words\n",
    "\n",
    "    #randomly delete words with probability p\n",
    "    new_words = []\n",
    "    for word in words:\n",
    "        r = random.uniform(0, 1)\n",
    "        if r > p:\n",
    "            new_words.append(word)\n",
    "\n",
    "    #if you end up deleting all words, just return a random word\n",
    "    if len(new_words) == 0:\n",
    "        rand_int = random.randint(0, len(words)-1)\n",
    "        return [words[rand_int]]\n",
    "\n",
    "    return new_words\n",
    "\n",
    "########################################################################\n",
    "# Random swap\n",
    "# Randomly swap two words in the sentence n times\n",
    "########################################################################\n",
    "\n",
    "def random_swap(words, n):\n",
    "    new_words = words.copy()\n",
    "    for _ in range(n):\n",
    "        new_words = swap_word(new_words)\n",
    "    return new_words\n",
    "\n",
    "def swap_word(new_words):\n",
    "    random_idx_1 = random.randint(0, len(new_words)-1)\n",
    "    random_idx_2 = random_idx_1\n",
    "    counter = 0\n",
    "    while random_idx_2 == random_idx_1:\n",
    "        random_idx_2 = random.randint(0, len(new_words)-1)\n",
    "        counter += 1\n",
    "        if counter > 3:\n",
    "            return new_words\n",
    "    new_words[random_idx_1], new_words[random_idx_2] = new_words[random_idx_2], new_words[random_idx_1] \n",
    "    return new_words\n",
    "\n",
    "########################################################################\n",
    "# Random insertion\n",
    "# Randomly insert n words into the sentence\n",
    "########################################################################\n",
    "\n",
    "def random_insertion(words, n):\n",
    "    new_words = words.copy()\n",
    "    for _ in range(n):\n",
    "        add_word(new_words)\n",
    "    return new_words\n",
    "\n",
    "def add_word(new_words):\n",
    "    synonyms = []\n",
    "    counter = 0\n",
    "    while len(synonyms) < 1:\n",
    "        random_word = new_words[random.randint(0, len(new_words)-1)]\n",
    "        synonyms = get_synonyms(random_word)\n",
    "        counter += 1\n",
    "        if counter >= 10:\n",
    "            return\n",
    "    random_synonym = synonyms[0]\n",
    "    random_idx = random.randint(0, len(new_words)-1)\n",
    "    new_words.insert(random_idx, random_synonym)\n",
    "\n",
    "########################################################################\n",
    "# main data augmentation function\n",
    "########################################################################\n",
    "\n",
    "def eda(sentence, alpha_sr=0.1, alpha_ri=0.1, alpha_rs=0.1, p_rd=0.1, num_aug=9):\n",
    "    sentence = get_only_chars(sentence)\n",
    "    words = sentence.split(' ')\n",
    "    words = [word for word in words if word is not '']\n",
    "    num_words = len(words)\n",
    "\n",
    "    augmented_sentences = []\n",
    "    num_new_per_technique = int(num_aug/4)+1\n",
    "\n",
    "    #sr\n",
    "    if (alpha_sr > 0):\n",
    "        n_sr = max(1, int(alpha_sr*num_words))\n",
    "        for _ in range(num_new_per_technique):\n",
    "            a_words = synonym_replacement(words, n_sr)\n",
    "            augmented_sentences.append(' '.join(a_words))\n",
    "\n",
    "    #ri\n",
    "    if (alpha_ri > 0):\n",
    "        n_ri = max(1, int(alpha_ri*num_words))\n",
    "        for _ in range(num_new_per_technique):\n",
    "            a_words = random_insertion(words, n_ri)\n",
    "            augmented_sentences.append(' '.join(a_words))\n",
    "\n",
    "    #rs\n",
    "    if (alpha_rs > 0):\n",
    "        n_rs = max(1, int(alpha_rs*num_words))\n",
    "        for _ in range(num_new_per_technique):\n",
    "            a_words = random_swap(words, n_rs)\n",
    "            augmented_sentences.append(' '.join(a_words))\n",
    "\n",
    "    #rd\n",
    "    if (p_rd > 0):\n",
    "        for _ in range(num_new_per_technique):\n",
    "            a_words = random_deletion(words, p_rd)\n",
    "            augmented_sentences.append(' '.join(a_words))\n",
    "\n",
    "    augmented_sentences = [get_only_chars(sentence) for sentence in augmented_sentences]\n",
    "    shuffle(augmented_sentences)\n",
    "\n",
    "    #trim so that we have the desired number of augmented sentences\n",
    "    if num_aug >= 1:\n",
    "        augmented_sentences = augmented_sentences[:num_aug]\n",
    "    else:\n",
    "        keep_prob = num_aug / len(augmented_sentences)\n",
    "        augmented_sentences = [s for s in augmented_sentences if random.uniform(0, 1) < keep_prob]\n",
    "\n",
    "    #append the original sentence\n",
    "    augmented_sentences.append(sentence)\n",
    "\n",
    "    return augmented_sentences"
   ]
  },
  {
   "cell_type": "code",
   "execution_count": 71,
   "metadata": {},
   "outputs": [],
   "source": [
    "#number of augmented sentences to generate per original sentence\n",
    "num_aug = 10 #default\n",
    "\n",
    "#how much to replace each word by synonyms\n",
    "alpha_sr = 0.1#default\n",
    "\n",
    "#how much to insert new words that are synonyms\n",
    "alpha_ri = 0.1#default\n",
    "\n",
    "#how much to swap words\n",
    "alpha_rs = 0.1#default\n",
    "\n",
    "#how much to delete words\n",
    "alpha_rd = 0.1#default\n",
    "\n",
    "\n",
    "#generate more data with standard augmentation\n",
    "def gen_eda(data, alpha_sr, alpha_ri, alpha_rs, alpha_rd, num_aug=9):\n",
    "            \n",
    "    gen_bio_df = pd.DataFrame()\n",
    "    gen_prob_df = pd.DataFrame()\n",
    "            \n",
    "    for index, row in data.iterrows():\n",
    "        bio_label = row['Bio Labels']\n",
    "        bio_text = row['Bio']\n",
    "        prob_label = row['Problem Labels']\n",
    "        prob_text = row['Problem']\n",
    "        aug_bios = eda(bio_text, alpha_sr, alpha_ri, alpha_rs, alpha_rd, num_aug)\n",
    "        aug_probs = eda(prob_text, alpha_sr, alpha_ri, alpha_rs, alpha_rd, num_aug)\n",
    "        \n",
    "        for aug_bio in aug_bios:\n",
    "            gen_bio_df = gen_bio_df.append({'Bio': aug_bio, 'Bio Labels': bio_label}, ignore_index=True)\n",
    "            \n",
    "            \n",
    "        for aug_prob in aug_probs:\n",
    "            gen_prob_df = gen_prob_df.append({'Problem': aug_prob, 'Problem Labels': prob_label}, ignore_index=True)\n",
    "            \n",
    "    return [gen_bio_df, gen_prob_df]\n",
    "\n"
   ]
  },
  {
   "cell_type": "markdown",
   "metadata": {},
   "source": [
    "## New fix to avoid overfitting"
   ]
  },
  {
   "cell_type": "code",
   "execution_count": 139,
   "metadata": {},
   "outputs": [],
   "source": [
    "df = df.sample(frac=1).reset_index(drop=True)\n",
    "df_train, df_test = train_test_split(df, test_size=0.5)\n",
    "df_train = df_train.reset_index(drop=True)\n",
    "df_test = df_test.reset_index(drop=True)"
   ]
  },
  {
   "cell_type": "code",
   "execution_count": 140,
   "metadata": {},
   "outputs": [],
   "source": [
    "safety = df_train.copy(deep=True)\n",
    "#Small generation, make a total of ~250\n",
    "small_bio_df, small_prob_df = gen_eda(safety, 0.1, 0.1, 0.1, 0.1, 10)\n",
    "\n",
    "#Middle generation, make a total of ~500\n",
    "mid_bio_df, mid_prob_df = gen_eda(safety, 0.2, 0.2, 0.2, 0.2, 20)\n",
    "\n",
    "#Large generation, make a total of ~1000\n",
    "big_bio_df, big_prob_df = gen_eda(safety, 0.4, 0.4, 0.4, 0.4, 40)\n",
    "\n"
   ]
  },
  {
   "cell_type": "code",
   "execution_count": 141,
   "metadata": {},
   "outputs": [
    {
     "data": {
      "text/html": [
       "<div>\n",
       "<style scoped>\n",
       "    .dataframe tbody tr th:only-of-type {\n",
       "        vertical-align: middle;\n",
       "    }\n",
       "\n",
       "    .dataframe tbody tr th {\n",
       "        vertical-align: top;\n",
       "    }\n",
       "\n",
       "    .dataframe thead th {\n",
       "        text-align: right;\n",
       "    }\n",
       "</style>\n",
       "<table border=\"1\" class=\"dataframe\">\n",
       "  <thead>\n",
       "    <tr style=\"text-align: right;\">\n",
       "      <th></th>\n",
       "      <th>Bio</th>\n",
       "      <th>Problem</th>\n",
       "      <th>Bio Labels</th>\n",
       "      <th>Problem Labels</th>\n",
       "    </tr>\n",
       "  </thead>\n",
       "  <tbody>\n",
       "    <tr>\n",
       "      <th>0</th>\n",
       "      <td>i have founded a medical engineering science c...</td>\n",
       "      <td>i dont come from a very business get the pictu...</td>\n",
       "      <td>Medical technology, Technology, Middle startup...</td>\n",
       "      <td>Stakeholders, Competition, Business law, Talent</td>\n",
       "    </tr>\n",
       "    <tr>\n",
       "      <th>1</th>\n",
       "      <td>i have constitute a medical technology company...</td>\n",
       "      <td>i dont come from a very business savvy backgro...</td>\n",
       "      <td>Medical technology, Technology, Middle startup...</td>\n",
       "      <td>Stakeholders, Competition, Business law, Talent</td>\n",
       "    </tr>\n",
       "    <tr>\n",
       "      <th>2</th>\n",
       "      <td>i have founded a medical technology company ca...</td>\n",
       "      <td>i dont come from a very business savvy desktop...</td>\n",
       "      <td>Medical technology, Technology, Middle startup...</td>\n",
       "      <td>Stakeholders, Competition, Business law, Talent</td>\n",
       "    </tr>\n",
       "    <tr>\n",
       "      <th>3</th>\n",
       "      <td>i have founded a medical technology company ca...</td>\n",
       "      <td>i dont come caller from a very business savvy ...</td>\n",
       "      <td>Medical technology, Technology, Middle startup...</td>\n",
       "      <td>Stakeholders, Competition, Business law, Talent</td>\n",
       "    </tr>\n",
       "    <tr>\n",
       "      <th>4</th>\n",
       "      <td>i have founded a animation medical technology ...</td>\n",
       "      <td>i dont come from a very business savvy backgro...</td>\n",
       "      <td>Medical technology, Technology, Middle startup...</td>\n",
       "      <td>Stakeholders, Competition, Business law, Talent</td>\n",
       "    </tr>\n",
       "  </tbody>\n",
       "</table>\n",
       "</div>"
      ],
      "text/plain": [
       "                                                 Bio  \\\n",
       "0  i have founded a medical engineering science c...   \n",
       "1  i have constitute a medical technology company...   \n",
       "2  i have founded a medical technology company ca...   \n",
       "3  i have founded a medical technology company ca...   \n",
       "4  i have founded a animation medical technology ...   \n",
       "\n",
       "                                             Problem  \\\n",
       "0  i dont come from a very business get the pictu...   \n",
       "1  i dont come from a very business savvy backgro...   \n",
       "2  i dont come from a very business savvy desktop...   \n",
       "3  i dont come caller from a very business savvy ...   \n",
       "4  i dont come from a very business savvy backgro...   \n",
       "\n",
       "                                          Bio Labels  \\\n",
       "0  Medical technology, Technology, Middle startup...   \n",
       "1  Medical technology, Technology, Middle startup...   \n",
       "2  Medical technology, Technology, Middle startup...   \n",
       "3  Medical technology, Technology, Middle startup...   \n",
       "4  Medical technology, Technology, Middle startup...   \n",
       "\n",
       "                                    Problem Labels  \n",
       "0  Stakeholders, Competition, Business law, Talent  \n",
       "1  Stakeholders, Competition, Business law, Talent  \n",
       "2  Stakeholders, Competition, Business law, Talent  \n",
       "3  Stakeholders, Competition, Business law, Talent  \n",
       "4  Stakeholders, Competition, Business law, Talent  "
      ]
     },
     "execution_count": 141,
     "metadata": {},
     "output_type": "execute_result"
    }
   ],
   "source": [
    "small_df = pd.concat([small_bio_df, small_prob_df], axis=1, join='inner')\n",
    "small_df = small_df[['Bio', 'Problem', 'Bio Labels', 'Problem Labels']]\n",
    "small_df.head(5)"
   ]
  },
  {
   "cell_type": "code",
   "execution_count": 142,
   "metadata": {},
   "outputs": [
    {
     "data": {
      "text/html": [
       "<div>\n",
       "<style scoped>\n",
       "    .dataframe tbody tr th:only-of-type {\n",
       "        vertical-align: middle;\n",
       "    }\n",
       "\n",
       "    .dataframe tbody tr th {\n",
       "        vertical-align: top;\n",
       "    }\n",
       "\n",
       "    .dataframe thead th {\n",
       "        text-align: right;\n",
       "    }\n",
       "</style>\n",
       "<table border=\"1\" class=\"dataframe\">\n",
       "  <thead>\n",
       "    <tr style=\"text-align: right;\">\n",
       "      <th></th>\n",
       "      <th>Bio</th>\n",
       "      <th>Problem</th>\n",
       "      <th>Bio Labels</th>\n",
       "      <th>Problem Labels</th>\n",
       "    </tr>\n",
       "  </thead>\n",
       "  <tbody>\n",
       "    <tr>\n",
       "      <th>0</th>\n",
       "      <td>i have base a medical technology company hollo...</td>\n",
       "      <td>i dont come in from a very business savvy back...</td>\n",
       "      <td>Medical technology, Technology, Middle startup...</td>\n",
       "      <td>Stakeholders, Competition, Business law, Talent</td>\n",
       "    </tr>\n",
       "    <tr>\n",
       "      <th>1</th>\n",
       "      <td>i have founded a medical applied science compa...</td>\n",
       "      <td>i dont fall from a very job savvy background a...</td>\n",
       "      <td>Medical technology, Technology, Middle startup...</td>\n",
       "      <td>Stakeholders, Competition, Business law, Talent</td>\n",
       "    </tr>\n",
       "    <tr>\n",
       "      <th>2</th>\n",
       "      <td>i have founded a medical technology companions...</td>\n",
       "      <td>i dont come up from a very clientele discernme...</td>\n",
       "      <td>Medical technology, Technology, Middle startup...</td>\n",
       "      <td>Stakeholders, Competition, Business law, Talent</td>\n",
       "    </tr>\n",
       "    <tr>\n",
       "      <th>3</th>\n",
       "      <td>i have founded a medical engineering company c...</td>\n",
       "      <td>i dont semen from a very business sector savvy...</td>\n",
       "      <td>Medical technology, Technology, Middle startup...</td>\n",
       "      <td>Stakeholders, Competition, Business law, Talent</td>\n",
       "    </tr>\n",
       "    <tr>\n",
       "      <th>4</th>\n",
       "      <td>i have founded a medical engineering science c...</td>\n",
       "      <td>i dont come from a very business enterprise co...</td>\n",
       "      <td>Medical technology, Technology, Middle startup...</td>\n",
       "      <td>Stakeholders, Competition, Business law, Talent</td>\n",
       "    </tr>\n",
       "  </tbody>\n",
       "</table>\n",
       "</div>"
      ],
      "text/plain": [
       "                                                 Bio  \\\n",
       "0  i have base a medical technology company hollo...   \n",
       "1  i have founded a medical applied science compa...   \n",
       "2  i have founded a medical technology companions...   \n",
       "3  i have founded a medical engineering company c...   \n",
       "4  i have founded a medical engineering science c...   \n",
       "\n",
       "                                             Problem  \\\n",
       "0  i dont come in from a very business savvy back...   \n",
       "1  i dont fall from a very job savvy background a...   \n",
       "2  i dont come up from a very clientele discernme...   \n",
       "3  i dont semen from a very business sector savvy...   \n",
       "4  i dont come from a very business enterprise co...   \n",
       "\n",
       "                                          Bio Labels  \\\n",
       "0  Medical technology, Technology, Middle startup...   \n",
       "1  Medical technology, Technology, Middle startup...   \n",
       "2  Medical technology, Technology, Middle startup...   \n",
       "3  Medical technology, Technology, Middle startup...   \n",
       "4  Medical technology, Technology, Middle startup...   \n",
       "\n",
       "                                    Problem Labels  \n",
       "0  Stakeholders, Competition, Business law, Talent  \n",
       "1  Stakeholders, Competition, Business law, Talent  \n",
       "2  Stakeholders, Competition, Business law, Talent  \n",
       "3  Stakeholders, Competition, Business law, Talent  \n",
       "4  Stakeholders, Competition, Business law, Talent  "
      ]
     },
     "execution_count": 142,
     "metadata": {},
     "output_type": "execute_result"
    }
   ],
   "source": [
    "mid_df = pd.concat([mid_bio_df, mid_prob_df], axis=1, join='inner')\n",
    "mid_df = mid_df[['Bio', 'Problem', 'Bio Labels', 'Problem Labels']]\n",
    "mid_df.head(5)"
   ]
  },
  {
   "cell_type": "code",
   "execution_count": 143,
   "metadata": {},
   "outputs": [
    {
     "data": {
      "text/html": [
       "<div>\n",
       "<style scoped>\n",
       "    .dataframe tbody tr th:only-of-type {\n",
       "        vertical-align: middle;\n",
       "    }\n",
       "\n",
       "    .dataframe tbody tr th {\n",
       "        vertical-align: top;\n",
       "    }\n",
       "\n",
       "    .dataframe thead th {\n",
       "        text-align: right;\n",
       "    }\n",
       "</style>\n",
       "<table border=\"1\" class=\"dataframe\">\n",
       "  <thead>\n",
       "    <tr style=\"text-align: right;\">\n",
       "      <th></th>\n",
       "      <th>Bio</th>\n",
       "      <th>Problem</th>\n",
       "      <th>Bio Labels</th>\n",
       "      <th>Problem Labels</th>\n",
       "    </tr>\n",
       "  </thead>\n",
       "  <tbody>\n",
       "    <tr>\n",
       "      <th>0</th>\n",
       "      <td>i have plant a medical technology keep company...</td>\n",
       "      <td>i dont total from a very clientele get the pic...</td>\n",
       "      <td>Medical technology, Technology, Middle startup...</td>\n",
       "      <td>Stakeholders, Competition, Business law, Talent</td>\n",
       "    </tr>\n",
       "    <tr>\n",
       "      <th>1</th>\n",
       "      <td>i have found a health check applied science co...</td>\n",
       "      <td>i dont make out from a very line comprehend do...</td>\n",
       "      <td>Medical technology, Technology, Middle startup...</td>\n",
       "      <td>Stakeholders, Competition, Business law, Talent</td>\n",
       "    </tr>\n",
       "    <tr>\n",
       "      <th>2</th>\n",
       "      <td>i have set up a aesculapian applied science fe...</td>\n",
       "      <td>i dont seminal fluid from a very business sect...</td>\n",
       "      <td>Medical technology, Technology, Middle startup...</td>\n",
       "      <td>Stakeholders, Competition, Business law, Talent</td>\n",
       "    </tr>\n",
       "    <tr>\n",
       "      <th>3</th>\n",
       "      <td>i have found a checkup technology caller calle...</td>\n",
       "      <td>i dont arrive from a very byplay get the pictu...</td>\n",
       "      <td>Medical technology, Technology, Middle startup...</td>\n",
       "      <td>Stakeholders, Competition, Business law, Talent</td>\n",
       "    </tr>\n",
       "    <tr>\n",
       "      <th>4</th>\n",
       "      <td>i have found a medical engineering ships compa...</td>\n",
       "      <td>i dont come in from a very business enterprise...</td>\n",
       "      <td>Medical technology, Technology, Middle startup...</td>\n",
       "      <td>Stakeholders, Competition, Business law, Talent</td>\n",
       "    </tr>\n",
       "  </tbody>\n",
       "</table>\n",
       "</div>"
      ],
      "text/plain": [
       "                                                 Bio  \\\n",
       "0  i have plant a medical technology keep company...   \n",
       "1  i have found a health check applied science co...   \n",
       "2  i have set up a aesculapian applied science fe...   \n",
       "3  i have found a checkup technology caller calle...   \n",
       "4  i have found a medical engineering ships compa...   \n",
       "\n",
       "                                             Problem  \\\n",
       "0  i dont total from a very clientele get the pic...   \n",
       "1  i dont make out from a very line comprehend do...   \n",
       "2  i dont seminal fluid from a very business sect...   \n",
       "3  i dont arrive from a very byplay get the pictu...   \n",
       "4  i dont come in from a very business enterprise...   \n",
       "\n",
       "                                          Bio Labels  \\\n",
       "0  Medical technology, Technology, Middle startup...   \n",
       "1  Medical technology, Technology, Middle startup...   \n",
       "2  Medical technology, Technology, Middle startup...   \n",
       "3  Medical technology, Technology, Middle startup...   \n",
       "4  Medical technology, Technology, Middle startup...   \n",
       "\n",
       "                                    Problem Labels  \n",
       "0  Stakeholders, Competition, Business law, Talent  \n",
       "1  Stakeholders, Competition, Business law, Talent  \n",
       "2  Stakeholders, Competition, Business law, Talent  \n",
       "3  Stakeholders, Competition, Business law, Talent  \n",
       "4  Stakeholders, Competition, Business law, Talent  "
      ]
     },
     "execution_count": 143,
     "metadata": {},
     "output_type": "execute_result"
    }
   ],
   "source": [
    "big_df = pd.concat([big_bio_df, big_prob_df], axis=1, join='inner')\n",
    "big_df = big_df[['Bio', 'Problem', 'Bio Labels', 'Problem Labels']]\n",
    "big_df.head(5)"
   ]
  },
  {
   "cell_type": "code",
   "execution_count": 144,
   "metadata": {},
   "outputs": [
    {
     "name": "stdout",
     "output_type": "stream",
     "text": [
      "Small df dimensions: rows: 253, cols: 4\n",
      "Middle df dimensions: rows: 483, cols: 4\n",
      "Big df dimensions: rows: 943, cols: 4\n"
     ]
    }
   ],
   "source": [
    "print(f'Small df dimensions: rows: {len(small_df)}, cols: {len(small_df.columns)}')\n",
    "print(f'Middle df dimensions: rows: {len(mid_df)}, cols: {len(mid_df.columns)}')\n",
    "print(f'Big df dimensions: rows: {len(big_df)}, cols: {len(big_df.columns)}')"
   ]
  },
  {
   "cell_type": "code",
   "execution_count": 178,
   "metadata": {},
   "outputs": [],
   "source": [
    "#Shuffle each of the datasets\n",
    "small_df = small_df.sample(frac=1).reset_index(drop=True)\n",
    "mid_df = mid_df.sample(frac=1).reset_index(drop=True)\n",
    "big_df = big_df.sample(frac=1).reset_index(drop=True)\n",
    "df_test = df_test.sample(frac=1).reset_index(drop=True)\n",
    "\n"
   ]
  },
  {
   "cell_type": "markdown",
   "metadata": {},
   "source": [
    "# Cleaning created data"
   ]
  },
  {
   "cell_type": "code",
   "execution_count": 179,
   "metadata": {},
   "outputs": [],
   "source": [
    "#below option is not necessary everytime. only if stopword resource is not found then run below command\n",
    "#nltk.download('stopwords')"
   ]
  },
  {
   "cell_type": "code",
   "execution_count": 180,
   "metadata": {},
   "outputs": [],
   "source": [
    "#Initial Preprocessing steps\n",
    "\n",
    "#Removing any special characters that may cause issues in our model\n",
    "def cleanpunc(sentence): #to remove special characters\n",
    "    pattern = r'[' + string.punctuation + ']'\n",
    "    cleaned = re.sub(pattern, '', sentence)\n",
    "    return cleaned\n",
    "                   \n",
    "from nltk.corpus import stopwords\n",
    "stop=set(stopwords.words('english'))\n",
    "#initializing the snowball stemmer that will convert the words to their root meaning\n",
    "sno=nltk.stem.SnowballStemmer('english')"
   ]
  },
  {
   "cell_type": "code",
   "execution_count": 181,
   "metadata": {},
   "outputs": [
    {
     "name": "stderr",
     "output_type": "stream",
     "text": [
      "100%|██████████| 23/23 [00:00<00:00, 2532.19it/s]\n",
      "100%|██████████| 23/23 [00:00<00:00, 1585.44it/s]\n",
      "100%|██████████| 253/253 [00:00<00:00, 1485.31it/s]\n",
      "100%|██████████| 253/253 [00:00<00:00, 1158.30it/s]\n",
      "100%|██████████| 483/483 [00:00<00:00, 1878.17it/s]\n",
      "100%|██████████| 483/483 [00:00<00:00, 1086.65it/s]\n",
      "100%|██████████| 943/943 [00:00<00:00, 1727.14it/s]\n",
      "100%|██████████| 943/943 [00:00<00:00, 956.93it/s] \n"
     ]
    }
   ],
   "source": [
    "#Applying more preprocessing steps\n",
    "\n",
    "def textPrep(data):\n",
    "    i=0\n",
    "    str1=' '\n",
    "    final_string=[]\n",
    "    s=''\n",
    "    for sent in tqdm(data.values):\n",
    "        filtered_sent=[]\n",
    "        for w in sent.split():\n",
    "            for cleaned_words in cleanpunc(w).split():\n",
    "                if((cleaned_words.isalpha())&(len(cleaned_words)>2)): #keeping only english words\n",
    "                    if(cleaned_words.lower() not in stop):\n",
    "                        s=(sno.stem(cleaned_words.lower())).encode(\"utf-8\") #stemming\n",
    "                        filtered_sent.append(s)\n",
    "                    else:\n",
    "                        continue\n",
    "                else:\n",
    "                    continue\n",
    "        str1=b\" \".join(filtered_sent)\n",
    "        final_string.append(str1)\n",
    "        i+=1\n",
    "    return final_string\n",
    "\n",
    "#test\n",
    "df_test['Cleaned Bio'] = textPrep(df_test['Bio'])\n",
    "df_test['Cleaned Bio'] = df_test['Cleaned Bio'].str.decode(\"utf-8\")\n",
    "\n",
    "df_test['Cleaned Problem'] = textPrep(df_test['Problem'])\n",
    "df_test['Cleaned Problem'] = df_test['Cleaned Problem'].str.decode(\"utf-8\")\n",
    "\n",
    "#small train\n",
    "small_df['Cleaned Bio'] = textPrep(small_df['Bio'])\n",
    "small_df['Cleaned Bio'] = small_df['Cleaned Bio'].str.decode(\"utf-8\")\n",
    "\n",
    "small_df['Cleaned Problem'] = textPrep(small_df['Problem'])\n",
    "small_df['Cleaned Problem'] = small_df['Cleaned Problem'].str.decode(\"utf-8\")\n",
    "\n",
    "#mid train\n",
    "mid_df['Cleaned Bio'] = textPrep(mid_df['Bio'])\n",
    "mid_df['Cleaned Bio'] = mid_df['Cleaned Bio'].str.decode(\"utf-8\")\n",
    "\n",
    "mid_df['Cleaned Problem'] = textPrep(mid_df['Problem'])\n",
    "mid_df['Cleaned Problem'] = mid_df['Cleaned Problem'].str.decode(\"utf-8\")\n",
    "\n",
    "#big train\n",
    "big_df['Cleaned Bio'] = textPrep(big_df['Bio'])\n",
    "big_df['Cleaned Bio'] = big_df['Cleaned Bio'].str.decode(\"utf-8\")\n",
    "\n",
    "big_df['Cleaned Problem'] = textPrep(big_df['Problem'])\n",
    "big_df['Cleaned Problem'] = big_df['Cleaned Problem'].str.decode(\"utf-8\")"
   ]
  },
  {
   "cell_type": "markdown",
   "metadata": {},
   "source": [
    "# Making Graphs with synthetic data"
   ]
  },
  {
   "cell_type": "markdown",
   "metadata": {},
   "source": [
    "## Small data"
   ]
  },
  {
   "cell_type": "code",
   "execution_count": 149,
   "metadata": {},
   "outputs": [],
   "source": [
    "bio_labels = small_df['Bio Labels'].to_numpy()\n",
    "#bio_labels\n",
    "new = np.array([], dtype=str)\n",
    "for i in range(len(bio_labels)):\n",
    "    new = np.append(new, bio_labels[i].split(', '))\n",
    "bio_labels = new\n",
    "bio_labels.shape\n",
    "\n",
    "bio_unique, bio_counts = np.unique(bio_labels, return_counts=True)"
   ]
  },
  {
   "cell_type": "code",
   "execution_count": 150,
   "metadata": {},
   "outputs": [
    {
     "data": {
      "image/png": "[encoded data removed]",
      "text/plain": [
       "<Figure size 432x288 with 1 Axes>"
      ]
     },
     "metadata": {
      "needs_background": "light"
     },
     "output_type": "display_data"
    }
   ],
   "source": [
    "plt.bar(bio_unique, bio_counts, color ='maroon',\n",
    "        width = 0.5)\n",
    " \n",
    "plt.xticks(rotation=90)\n",
    "plt.show()"
   ]
  },
  {
   "cell_type": "code",
   "execution_count": 151,
   "metadata": {},
   "outputs": [],
   "source": [
    "prob_labels = small_df['Problem Labels'].to_numpy()\n",
    "#bio_labels\n",
    "new = np.array([], dtype=str)\n",
    "for i in range(len(prob_labels)):\n",
    "    new = np.append(new, prob_labels[i].split(', '))\n",
    "prob_labels = new\n",
    "prob_labels.shape\n",
    "\n",
    "prob_unique, prob_counts = np.unique(prob_labels, return_counts=True)"
   ]
  },
  {
   "cell_type": "code",
   "execution_count": 152,
   "metadata": {},
   "outputs": [
    {
     "data": {
      "image/png": "[encoded data removed]",
      "text/plain": [
       "<Figure size 432x288 with 1 Axes>"
      ]
     },
     "metadata": {
      "needs_background": "light"
     },
     "output_type": "display_data"
    }
   ],
   "source": [
    "plt.bar(prob_unique, prob_counts, color ='maroon',\n",
    "        width = 0.5)\n",
    " \n",
    "plt.xticks(rotation=90)\n",
    "plt.show()"
   ]
  },
  {
   "cell_type": "code",
   "execution_count": 153,
   "metadata": {},
   "outputs": [],
   "source": [
    "#Plotting the distribution of label count for bios\n",
    "\n",
    "bio_labels = small_df['Bio Labels'].to_numpy()\n",
    "\n",
    "new = np.array([], dtype=str)\n",
    "for i in range(len(bio_labels)):\n",
    "    new = np.append(new, len(bio_labels[i].split(', ')))\n",
    "bio_labels = new\n",
    "bio_labels.shape\n",
    "\n",
    "bio_count_unique, bio_count_counts = np.unique(bio_labels, return_counts=True)"
   ]
  },
  {
   "cell_type": "code",
   "execution_count": 154,
   "metadata": {},
   "outputs": [
    {
     "data": {
      "image/png": "[encoded data removed]",
      "text/plain": [
       "<Figure size 432x288 with 1 Axes>"
      ]
     },
     "metadata": {
      "needs_background": "light"
     },
     "output_type": "display_data"
    }
   ],
   "source": [
    "plt.bar(bio_count_unique, bio_count_counts, color ='maroon',\n",
    "        width = 0.5)\n",
    "plt.show()"
   ]
  },
  {
   "cell_type": "code",
   "execution_count": 155,
   "metadata": {},
   "outputs": [],
   "source": [
    "#Plotting the distribution of label count for probs\n",
    "\n",
    "prob_labels = small_df['Problem Labels'].to_numpy()\n",
    "\n",
    "new = np.array([], dtype=str)\n",
    "for i in range(len(prob_labels)):\n",
    "    new = np.append(new, len(prob_labels[i].split(', ')))\n",
    "prob_labels = new\n",
    "prob_labels.shape\n",
    "\n",
    "prob_count_unique, prob_count_counts = np.unique(prob_labels, return_counts=True)"
   ]
  },
  {
   "cell_type": "code",
   "execution_count": 156,
   "metadata": {},
   "outputs": [
    {
     "data": {
      "image/png": "[encoded data removed]",
      "text/plain": [
       "<Figure size 432x288 with 1 Axes>"
      ]
     },
     "metadata": {
      "needs_background": "light"
     },
     "output_type": "display_data"
    }
   ],
   "source": [
    "plt.bar(prob_count_unique, prob_count_counts, color ='maroon',\n",
    "        width = 0.5)\n",
    "\n",
    "plt.show()"
   ]
  },
  {
   "cell_type": "markdown",
   "metadata": {},
   "source": [
    "## Mid data"
   ]
  },
  {
   "cell_type": "code",
   "execution_count": 157,
   "metadata": {},
   "outputs": [],
   "source": [
    "bio_labels = mid_df['Bio Labels'].to_numpy()\n",
    "#bio_labels\n",
    "new = np.array([], dtype=str)\n",
    "for i in range(len(bio_labels)):\n",
    "    new = np.append(new, bio_labels[i].split(', '))\n",
    "bio_labels = new\n",
    "bio_labels.shape\n",
    "\n",
    "bio_unique, bio_counts = np.unique(bio_labels, return_counts=True)"
   ]
  },
  {
   "cell_type": "code",
   "execution_count": 158,
   "metadata": {},
   "outputs": [
    {
     "data": {
      "image/png": "[encoded data removed]",
      "text/plain": [
       "<Figure size 432x288 with 1 Axes>"
      ]
     },
     "metadata": {
      "needs_background": "light"
     },
     "output_type": "display_data"
    }
   ],
   "source": [
    "plt.bar(bio_unique, bio_counts, color ='maroon',\n",
    "        width = 0.5)\n",
    " \n",
    "plt.xticks(rotation=90)\n",
    "plt.show()"
   ]
  },
  {
   "cell_type": "code",
   "execution_count": 159,
   "metadata": {},
   "outputs": [],
   "source": [
    "prob_labels = mid_df['Problem Labels'].to_numpy()\n",
    "#bio_labels\n",
    "new = np.array([], dtype=str)\n",
    "for i in range(len(prob_labels)):\n",
    "    new = np.append(new, prob_labels[i].split(', '))\n",
    "prob_labels = new\n",
    "prob_labels.shape\n",
    "\n",
    "prob_unique, prob_counts = np.unique(prob_labels, return_counts=True)"
   ]
  },
  {
   "cell_type": "code",
   "execution_count": 160,
   "metadata": {},
   "outputs": [
    {
     "data": {
      "image/png": "[encoded data removed]",
      "text/plain": [
       "<Figure size 432x288 with 1 Axes>"
      ]
     },
     "metadata": {
      "needs_background": "light"
     },
     "output_type": "display_data"
    }
   ],
   "source": [
    "plt.bar(prob_unique, prob_counts, color ='maroon',\n",
    "        width = 0.5)\n",
    " \n",
    "plt.xticks(rotation=90)\n",
    "plt.show()"
   ]
  },
  {
   "cell_type": "code",
   "execution_count": 161,
   "metadata": {},
   "outputs": [],
   "source": [
    "#Plotting the distribution of label count for bios\n",
    "\n",
    "bio_labels = mid_df['Bio Labels'].to_numpy()\n",
    "\n",
    "new = np.array([], dtype=str)\n",
    "for i in range(len(bio_labels)):\n",
    "    new = np.append(new, len(bio_labels[i].split(', ')))\n",
    "bio_labels = new\n",
    "bio_labels.shape\n",
    "\n",
    "bio_count_unique, bio_count_counts = np.unique(bio_labels, return_counts=True)"
   ]
  },
  {
   "cell_type": "code",
   "execution_count": 162,
   "metadata": {},
   "outputs": [
    {
     "data": {
      "image/png": "[encoded data removed]",
      "text/plain": [
       "<Figure size 432x288 with 1 Axes>"
      ]
     },
     "metadata": {
      "needs_background": "light"
     },
     "output_type": "display_data"
    }
   ],
   "source": [
    "plt.bar(bio_count_unique, bio_count_counts, color ='maroon',\n",
    "        width = 0.5)\n",
    "plt.show()"
   ]
  },
  {
   "cell_type": "code",
   "execution_count": 163,
   "metadata": {},
   "outputs": [],
   "source": [
    "#Plotting the distribution of label count for probs\n",
    "\n",
    "prob_labels = mid_df['Problem Labels'].to_numpy()\n",
    "\n",
    "new = np.array([], dtype=str)\n",
    "for i in range(len(prob_labels)):\n",
    "    new = np.append(new, len(prob_labels[i].split(', ')))\n",
    "prob_labels = new\n",
    "prob_labels.shape\n",
    "\n",
    "prob_count_unique, prob_count_counts = np.unique(prob_labels, return_counts=True)"
   ]
  },
  {
   "cell_type": "code",
   "execution_count": 164,
   "metadata": {},
   "outputs": [
    {
     "data": {
      "image/png": "[encoded data removed]",
      "text/plain": [
       "<Figure size 432x288 with 1 Axes>"
      ]
     },
     "metadata": {
      "needs_background": "light"
     },
     "output_type": "display_data"
    }
   ],
   "source": [
    "plt.bar(prob_count_unique, prob_count_counts, color ='maroon',\n",
    "        width = 0.5)\n",
    "\n",
    "plt.show()"
   ]
  },
  {
   "cell_type": "markdown",
   "metadata": {},
   "source": [
    "## Big data"
   ]
  },
  {
   "cell_type": "code",
   "execution_count": 165,
   "metadata": {},
   "outputs": [],
   "source": [
    "bio_labels = big_df['Bio Labels'].to_numpy()\n",
    "#bio_labels\n",
    "new = np.array([], dtype=str)\n",
    "for i in range(len(bio_labels)):\n",
    "    new = np.append(new, bio_labels[i].split(', '))\n",
    "bio_labels = new\n",
    "bio_labels.shape\n",
    "\n",
    "bio_unique, bio_counts = np.unique(bio_labels, return_counts=True)"
   ]
  },
  {
   "cell_type": "code",
   "execution_count": 166,
   "metadata": {},
   "outputs": [
    {
     "data": {
      "image/png": "[encoded data removed]",
      "text/plain": [
       "<Figure size 432x288 with 1 Axes>"
      ]
     },
     "metadata": {
      "needs_background": "light"
     },
     "output_type": "display_data"
    }
   ],
   "source": [
    "plt.bar(bio_unique, bio_counts, color ='maroon',\n",
    "        width = 0.5)\n",
    " \n",
    "plt.xticks(rotation=90)\n",
    "plt.show()"
   ]
  },
  {
   "cell_type": "code",
   "execution_count": 167,
   "metadata": {},
   "outputs": [],
   "source": [
    "prob_labels = big_df['Problem Labels'].to_numpy()\n",
    "#bio_labels\n",
    "new = np.array([], dtype=str)\n",
    "for i in range(len(prob_labels)):\n",
    "    new = np.append(new, prob_labels[i].split(', '))\n",
    "prob_labels = new\n",
    "prob_labels.shape\n",
    "\n",
    "prob_unique, prob_counts = np.unique(prob_labels, return_counts=True)"
   ]
  },
  {
   "cell_type": "code",
   "execution_count": 168,
   "metadata": {},
   "outputs": [
    {
     "data": {
      "image/png": "[encoded data removed]",
      "text/plain": [
       "<Figure size 432x288 with 1 Axes>"
      ]
     },
     "metadata": {
      "needs_background": "light"
     },
     "output_type": "display_data"
    }
   ],
   "source": [
    "plt.bar(prob_unique, prob_counts, color ='maroon',\n",
    "        width = 0.5)\n",
    " \n",
    "plt.xticks(rotation=90)\n",
    "plt.show()"
   ]
  },
  {
   "cell_type": "code",
   "execution_count": 169,
   "metadata": {},
   "outputs": [],
   "source": [
    "#Plotting the distribution of label count for bios\n",
    "\n",
    "bio_labels = big_df['Bio Labels'].to_numpy()\n",
    "\n",
    "new = np.array([], dtype=str)\n",
    "for i in range(len(bio_labels)):\n",
    "    new = np.append(new, len(bio_labels[i].split(', ')))\n",
    "bio_labels = new\n",
    "bio_labels.shape\n",
    "\n",
    "bio_count_unique, bio_count_counts = np.unique(bio_labels, return_counts=True)"
   ]
  },
  {
   "cell_type": "code",
   "execution_count": 170,
   "metadata": {},
   "outputs": [
    {
     "data": {
      "image/png": "[encoded data removed]",
      "text/plain": [
       "<Figure size 432x288 with 1 Axes>"
      ]
     },
     "metadata": {
      "needs_background": "light"
     },
     "output_type": "display_data"
    }
   ],
   "source": [
    "plt.bar(bio_count_unique, bio_count_counts, color ='maroon',\n",
    "        width = 0.5)\n",
    "plt.show()"
   ]
  },
  {
   "cell_type": "code",
   "execution_count": 171,
   "metadata": {},
   "outputs": [],
   "source": [
    "#Plotting the distribution of label count for probs\n",
    "\n",
    "prob_labels = big_df['Problem Labels'].to_numpy()\n",
    "\n",
    "new = np.array([], dtype=str)\n",
    "for i in range(len(prob_labels)):\n",
    "    new = np.append(new, len(prob_labels[i].split(', ')))\n",
    "prob_labels = new\n",
    "prob_labels.shape\n",
    "\n",
    "prob_count_unique, prob_count_counts = np.unique(prob_labels, return_counts=True)"
   ]
  },
  {
   "cell_type": "code",
   "execution_count": 172,
   "metadata": {},
   "outputs": [
    {
     "data": {
      "image/png": "[encoded data removed]",
      "text/plain": [
       "<Figure size 432x288 with 1 Axes>"
      ]
     },
     "metadata": {
      "needs_background": "light"
     },
     "output_type": "display_data"
    }
   ],
   "source": [
    "plt.bar(prob_count_unique, prob_count_counts, color ='maroon',\n",
    "        width = 0.5)\n",
    "\n",
    "plt.show()"
   ]
  },
  {
   "cell_type": "code",
   "execution_count": 183,
   "metadata": {},
   "outputs": [],
   "source": [
    "#One-hot encoding the bio labels\n",
    "df_test['Bio Encoded Labels'] = df['Bio Labels'].apply(lambda x: np.sum(label_binarize(x.split(', '), classes=bio_unique), axis=0))\n",
    "\n",
    "#One-hot encoding the probs labels\n",
    "df_test['Problem Encoded Labels'] = df['Problem Labels'].apply(lambda x: np.sum(label_binarize(x.split(', '), classes=prob_unique), axis=0))\n",
    "\n",
    "#One-hot encoding the bio labels\n",
    "small_df['Bio Encoded Labels'] = small_df['Bio Labels'].apply(lambda x: np.sum(label_binarize(x.split(', '), classes=bio_unique), axis=0))\n",
    "\n",
    "#One-hot encoding the probs labels\n",
    "small_df['Problem Encoded Labels'] = small_df['Problem Labels'].apply(lambda x: np.sum(label_binarize(x.split(', '), classes=prob_unique), axis=0))\n",
    "\n",
    "#One-hot encoding the bio labels\n",
    "mid_df['Bio Encoded Labels'] = mid_df['Bio Labels'].apply(lambda x: np.sum(label_binarize(x.split(', '), classes=bio_unique), axis=0))\n",
    "\n",
    "#One-hot encoding the probs labels\n",
    "mid_df['Problem Encoded Labels'] = mid_df['Problem Labels'].apply(lambda x: np.sum(label_binarize(x.split(', '), classes=prob_unique), axis=0))\n",
    "\n",
    "#One-hot encoding the bio labels\n",
    "big_df['Bio Encoded Labels'] = big_df['Bio Labels'].apply(lambda x: np.sum(label_binarize(x.split(', '), classes=bio_unique), axis=0))\n",
    "\n",
    "#One-hot encoding the probs labels\n",
    "big_df['Problem Encoded Labels'] = big_df['Problem Labels'].apply(lambda x: np.sum(label_binarize(x.split(', '), classes=prob_unique), axis=0))"
   ]
  },
  {
   "cell_type": "code",
   "execution_count": 184,
   "metadata": {},
   "outputs": [
    {
     "data": {
      "text/html": [
       "<div>\n",
       "<style scoped>\n",
       "    .dataframe tbody tr th:only-of-type {\n",
       "        vertical-align: middle;\n",
       "    }\n",
       "\n",
       "    .dataframe tbody tr th {\n",
       "        vertical-align: top;\n",
       "    }\n",
       "\n",
       "    .dataframe thead th {\n",
       "        text-align: right;\n",
       "    }\n",
       "</style>\n",
       "<table border=\"1\" class=\"dataframe\">\n",
       "  <thead>\n",
       "    <tr style=\"text-align: right;\">\n",
       "      <th></th>\n",
       "      <th>Bio</th>\n",
       "      <th>Problem</th>\n",
       "      <th>Bio Labels</th>\n",
       "      <th>Problem Labels</th>\n",
       "      <th>Cleaned Bio</th>\n",
       "      <th>Cleaned Problem</th>\n",
       "      <th>Bio Encoded Labels</th>\n",
       "      <th>Problem Encoded Labels</th>\n",
       "    </tr>\n",
       "  </thead>\n",
       "  <tbody>\n",
       "    <tr>\n",
       "      <th>0</th>\n",
       "      <td>Very limited</td>\n",
       "      <td>Competition, Scalability</td>\n",
       "      <td>No startup experience</td>\n",
       "      <td>Competition, Growth strategy</td>\n",
       "      <td>limit</td>\n",
       "      <td>competit scalabl</td>\n",
       "      <td>[0, 0, 0, 0, 0, 0, 0, 0, 0, 0, 1, 1, 0, 0, 0, ...</td>\n",
       "      <td>[0, 0, 0, 1, 0, 0, 0, 0, 0, 0, 0, 0, 0, 0, 0, ...</td>\n",
       "    </tr>\n",
       "  </tbody>\n",
       "</table>\n",
       "</div>"
      ],
      "text/plain": [
       "            Bio                   Problem             Bio Labels  \\\n",
       "0  Very limited  Competition, Scalability  No startup experience   \n",
       "\n",
       "                 Problem Labels Cleaned Bio   Cleaned Problem  \\\n",
       "0  Competition, Growth strategy       limit  competit scalabl   \n",
       "\n",
       "                                  Bio Encoded Labels  \\\n",
       "0  [0, 0, 0, 0, 0, 0, 0, 0, 0, 0, 1, 1, 0, 0, 0, ...   \n",
       "\n",
       "                              Problem Encoded Labels  \n",
       "0  [0, 0, 0, 1, 0, 0, 0, 0, 0, 0, 0, 0, 0, 0, 0, ...  "
      ]
     },
     "execution_count": 184,
     "metadata": {},
     "output_type": "execute_result"
    }
   ],
   "source": [
    "df_test.head(1)"
   ]
  },
  {
   "cell_type": "code",
   "execution_count": 185,
   "metadata": {},
   "outputs": [
    {
     "data": {
      "text/html": [
       "<div>\n",
       "<style scoped>\n",
       "    .dataframe tbody tr th:only-of-type {\n",
       "        vertical-align: middle;\n",
       "    }\n",
       "\n",
       "    .dataframe tbody tr th {\n",
       "        vertical-align: top;\n",
       "    }\n",
       "\n",
       "    .dataframe thead th {\n",
       "        text-align: right;\n",
       "    }\n",
       "</style>\n",
       "<table border=\"1\" class=\"dataframe\">\n",
       "  <thead>\n",
       "    <tr style=\"text-align: right;\">\n",
       "      <th></th>\n",
       "      <th>Bio</th>\n",
       "      <th>Problem</th>\n",
       "      <th>Bio Labels</th>\n",
       "      <th>Problem Labels</th>\n",
       "      <th>Cleaned Bio</th>\n",
       "      <th>Cleaned Problem</th>\n",
       "      <th>Bio Encoded Labels</th>\n",
       "      <th>Problem Encoded Labels</th>\n",
       "    </tr>\n",
       "  </thead>\n",
       "  <tbody>\n",
       "    <tr>\n",
       "      <th>0</th>\n",
       "      <td>i launch a consulting firm that works on a var...</td>\n",
       "      <td>the issues that face our company are as follow...</td>\n",
       "      <td>Consulting, Middle startup experience</td>\n",
       "      <td>Culture, Growth strategy, Talent</td>\n",
       "      <td>launch consult firm work varieti technolog pro...</td>\n",
       "      <td>issu face compani follow challeng maintain sin...</td>\n",
       "      <td>[0, 0, 0, 0, 0, 0, 0, 1, 0, 0, 0, 0, 0, 0, 0, ...</td>\n",
       "      <td>[0, 0, 0, 0, 0, 0, 0, 0, 1, 0, 0, 0, 0, 0, 1, ...</td>\n",
       "    </tr>\n",
       "  </tbody>\n",
       "</table>\n",
       "</div>"
      ],
      "text/plain": [
       "                                                 Bio  \\\n",
       "0  i launch a consulting firm that works on a var...   \n",
       "\n",
       "                                             Problem  \\\n",
       "0  the issues that face our company are as follow...   \n",
       "\n",
       "                              Bio Labels                    Problem Labels  \\\n",
       "0  Consulting, Middle startup experience  Culture, Growth strategy, Talent   \n",
       "\n",
       "                                         Cleaned Bio  \\\n",
       "0  launch consult firm work varieti technolog pro...   \n",
       "\n",
       "                                     Cleaned Problem  \\\n",
       "0  issu face compani follow challeng maintain sin...   \n",
       "\n",
       "                                  Bio Encoded Labels  \\\n",
       "0  [0, 0, 0, 0, 0, 0, 0, 1, 0, 0, 0, 0, 0, 0, 0, ...   \n",
       "\n",
       "                              Problem Encoded Labels  \n",
       "0  [0, 0, 0, 0, 0, 0, 0, 0, 1, 0, 0, 0, 0, 0, 1, ...  "
      ]
     },
     "execution_count": 185,
     "metadata": {},
     "output_type": "execute_result"
    }
   ],
   "source": [
    "small_df.head(1)"
   ]
  },
  {
   "cell_type": "code",
   "execution_count": 186,
   "metadata": {},
   "outputs": [
    {
     "data": {
      "text/html": [
       "<div>\n",
       "<style scoped>\n",
       "    .dataframe tbody tr th:only-of-type {\n",
       "        vertical-align: middle;\n",
       "    }\n",
       "\n",
       "    .dataframe tbody tr th {\n",
       "        vertical-align: top;\n",
       "    }\n",
       "\n",
       "    .dataframe thead th {\n",
       "        text-align: right;\n",
       "    }\n",
       "</style>\n",
       "<table border=\"1\" class=\"dataframe\">\n",
       "  <thead>\n",
       "    <tr style=\"text-align: right;\">\n",
       "      <th></th>\n",
       "      <th>Bio</th>\n",
       "      <th>Problem</th>\n",
       "      <th>Bio Labels</th>\n",
       "      <th>Problem Labels</th>\n",
       "      <th>Cleaned Bio</th>\n",
       "      <th>Cleaned Problem</th>\n",
       "      <th>Bio Encoded Labels</th>\n",
       "      <th>Problem Encoded Labels</th>\n",
       "    </tr>\n",
       "  </thead>\n",
       "  <tbody>\n",
       "    <tr>\n",
       "      <th>0</th>\n",
       "      <td>years of sales astatine entrepreneur at heart ...</td>\n",
       "      <td>im a visionary so i feeble love all of the pro...</td>\n",
       "      <td>Sales, Marketing</td>\n",
       "      <td>Startup finance, Finding investors, Business law</td>\n",
       "      <td>year sale astatin entrepreneur heart graduat p...</td>\n",
       "      <td>visionari feebl love product design implement ...</td>\n",
       "      <td>[0, 0, 0, 0, 0, 0, 0, 0, 0, 0, 0, 0, 0, 0, 0, ...</td>\n",
       "      <td>[0, 0, 0, 1, 0, 0, 0, 0, 0, 0, 0, 0, 0, 1, 0, ...</td>\n",
       "    </tr>\n",
       "  </tbody>\n",
       "</table>\n",
       "</div>"
      ],
      "text/plain": [
       "                                                 Bio  \\\n",
       "0  years of sales astatine entrepreneur at heart ...   \n",
       "\n",
       "                                             Problem         Bio Labels  \\\n",
       "0  im a visionary so i feeble love all of the pro...  Sales, Marketing    \n",
       "\n",
       "                                     Problem Labels  \\\n",
       "0  Startup finance, Finding investors, Business law   \n",
       "\n",
       "                                         Cleaned Bio  \\\n",
       "0  year sale astatin entrepreneur heart graduat p...   \n",
       "\n",
       "                                     Cleaned Problem  \\\n",
       "0  visionari feebl love product design implement ...   \n",
       "\n",
       "                                  Bio Encoded Labels  \\\n",
       "0  [0, 0, 0, 0, 0, 0, 0, 0, 0, 0, 0, 0, 0, 0, 0, ...   \n",
       "\n",
       "                              Problem Encoded Labels  \n",
       "0  [0, 0, 0, 1, 0, 0, 0, 0, 0, 0, 0, 0, 0, 1, 0, ...  "
      ]
     },
     "execution_count": 186,
     "metadata": {},
     "output_type": "execute_result"
    }
   ],
   "source": [
    "mid_df.head(1)"
   ]
  },
  {
   "cell_type": "code",
   "execution_count": 187,
   "metadata": {},
   "outputs": [
    {
     "data": {
      "text/html": [
       "<div>\n",
       "<style scoped>\n",
       "    .dataframe tbody tr th:only-of-type {\n",
       "        vertical-align: middle;\n",
       "    }\n",
       "\n",
       "    .dataframe tbody tr th {\n",
       "        vertical-align: top;\n",
       "    }\n",
       "\n",
       "    .dataframe thead th {\n",
       "        text-align: right;\n",
       "    }\n",
       "</style>\n",
       "<table border=\"1\" class=\"dataframe\">\n",
       "  <thead>\n",
       "    <tr style=\"text-align: right;\">\n",
       "      <th></th>\n",
       "      <th>Bio</th>\n",
       "      <th>Problem</th>\n",
       "      <th>Bio Labels</th>\n",
       "      <th>Problem Labels</th>\n",
       "      <th>Cleaned Bio</th>\n",
       "      <th>Cleaned Problem</th>\n",
       "      <th>Bio Encoded Labels</th>\n",
       "      <th>Problem Encoded Labels</th>\n",
       "    </tr>\n",
       "  </thead>\n",
       "  <tbody>\n",
       "    <tr>\n",
       "      <th>0</th>\n",
       "      <td>is the founding father and chief operating off...</td>\n",
       "      <td>accession to exceedingly luxuriously network c...</td>\n",
       "      <td>Deep startup experience, Software, Technology,...</td>\n",
       "      <td>Investors, Lacks resources, Lonely, Customer a...</td>\n",
       "      <td>found father chief oper offic flair class seas...</td>\n",
       "      <td>access exceed luxuri network charl frederick w...</td>\n",
       "      <td>[0, 0, 0, 0, 0, 0, 0, 0, 0, 1, 0, 0, 0, 0, 0, ...</td>\n",
       "      <td>[0, 0, 0, 0, 0, 0, 0, 0, 0, 1, 0, 0, 0, 0, 1, ...</td>\n",
       "    </tr>\n",
       "  </tbody>\n",
       "</table>\n",
       "</div>"
      ],
      "text/plain": [
       "                                                 Bio  \\\n",
       "0  is the founding father and chief operating off...   \n",
       "\n",
       "                                             Problem  \\\n",
       "0  accession to exceedingly luxuriously network c...   \n",
       "\n",
       "                                          Bio Labels  \\\n",
       "0  Deep startup experience, Software, Technology,...   \n",
       "\n",
       "                                      Problem Labels  \\\n",
       "0  Investors, Lacks resources, Lonely, Customer a...   \n",
       "\n",
       "                                         Cleaned Bio  \\\n",
       "0  found father chief oper offic flair class seas...   \n",
       "\n",
       "                                     Cleaned Problem  \\\n",
       "0  access exceed luxuri network charl frederick w...   \n",
       "\n",
       "                                  Bio Encoded Labels  \\\n",
       "0  [0, 0, 0, 0, 0, 0, 0, 0, 0, 1, 0, 0, 0, 0, 0, ...   \n",
       "\n",
       "                              Problem Encoded Labels  \n",
       "0  [0, 0, 0, 0, 0, 0, 0, 0, 0, 1, 0, 0, 0, 0, 1, ...  "
      ]
     },
     "execution_count": 187,
     "metadata": {},
     "output_type": "execute_result"
    }
   ],
   "source": [
    "big_df.head(1)"
   ]
  },
  {
   "cell_type": "markdown",
   "metadata": {},
   "source": [
    "# Exporting data to files"
   ]
  },
  {
   "cell_type": "code",
   "execution_count": 188,
   "metadata": {},
   "outputs": [],
   "source": [
    "small_df.to_csv('Desktop/CMU/Ind_Study/small_train_1.csv')\n",
    "mid_df.to_csv('Desktop/CMU/Ind_Study/mid_train_1.csv')\n",
    "big_df.to_csv('Desktop/CMU/Ind_Study/big_train_1.csv')\n",
    "df_test.to_csv('Desktop/CMU/Ind_Study/test_1.csv')"
   ]
  },
  {
   "cell_type": "code",
   "execution_count": null,
   "metadata": {},
   "outputs": [],
   "source": []
  }
 ],
 "metadata": {
  "kernelspec": {
   "display_name": "Python 3",
   "language": "python",
   "name": "python3"
  },
  "language_info": {
   "codemirror_mode": {
    "name": "ipython",
    "version": 3
   },
   "file_extension": ".py",
   "mimetype": "text/x-python",
   "name": "python",
   "nbconvert_exporter": "python",
   "pygments_lexer": "ipython3",
   "version": "3.8.3"
  }
 },
 "nbformat": 4,
 "nbformat_minor": 4
}
